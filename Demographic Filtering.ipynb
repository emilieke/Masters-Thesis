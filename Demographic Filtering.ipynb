{
 "cells": [
  {
   "cell_type": "markdown",
   "metadata": {},
   "source": [
    "# Demographic filtering (with KNN)"
   ]
  },
  {
   "cell_type": "markdown",
   "metadata": {},
   "source": [
    "Import packages"
   ]
  },
  {
   "cell_type": "code",
   "execution_count": 1,
   "metadata": {
    "collapsed": false
   },
   "outputs": [
    {
     "name": "stderr",
     "output_type": "stream",
     "text": [
      "/Users/Emilie/anaconda/envs/py3.2/lib/python3.6/site-packages/IPython/html.py:14: ShimWarning: The `IPython.html` package has been deprecated. You should import from `notebook` instead. `IPython.html.widgets` has moved to `ipywidgets`.\n",
      "  \"`IPython.html.widgets` has moved to `ipywidgets`.\", ShimWarning)\n"
     ]
    }
   ],
   "source": [
    "%matplotlib inline\n",
    "import pandas as pd\n",
    "import numpy as np\n",
    "import seaborn as sns\n",
    "import scipy\n",
    "import time\n",
    "from sklearn import metrics\n",
    "from sklearn.metrics import confusion_matrix, classification_report\n",
    "from matplotlib import pyplot as plt\n",
    "from scipy.spatial.distance import squareform\n",
    "from scipy.spatial.distance import pdist, cdist, jaccard\n",
    "from sklearn.preprocessing import MinMaxScaler"
   ]
  },
  {
   "cell_type": "markdown",
   "metadata": {},
   "source": [
    "Load data"
   ]
  },
  {
   "cell_type": "code",
   "execution_count": 2,
   "metadata": {
    "collapsed": false
   },
   "outputs": [],
   "source": [
    "dtrain = pd.read_csv('Data/dtrain_cleaned.csv')\n",
    "dtest = pd.read_csv('Data/dtest_cleaned.csv')"
   ]
  },
  {
   "cell_type": "code",
   "execution_count": 3,
   "metadata": {
    "collapsed": false
   },
   "outputs": [
    {
     "data": {
      "text/html": [
       "<div>\n",
       "<table border=\"1\" class=\"dataframe\">\n",
       "  <thead>\n",
       "    <tr style=\"text-align: right;\">\n",
       "      <th></th>\n",
       "      <th>Unnamed: 0</th>\n",
       "      <th>AktorId</th>\n",
       "      <th>Alder</th>\n",
       "      <th>FylkeNr</th>\n",
       "      <th>KommuneNr</th>\n",
       "      <th>Postnr</th>\n",
       "      <th>ErDisponentAnt</th>\n",
       "      <th>ErKontoapnerAnt</th>\n",
       "      <th>ErKausjonistAnt</th>\n",
       "      <th>ErRealkausjonistAnt</th>\n",
       "      <th>...</th>\n",
       "      <th>AntSparekonto</th>\n",
       "      <th>AntAktiveSkadefors</th>\n",
       "      <th>AntAktiv_AndreForsikringer</th>\n",
       "      <th>AntAktUtlanAvt</th>\n",
       "      <th>AntAvtBSU</th>\n",
       "      <th>AntAktBoliglan</th>\n",
       "      <th>DNBAntAktBoliglan</th>\n",
       "      <th>AntAktGaranterte</th>\n",
       "      <th>AntAktLink</th>\n",
       "      <th>AntAktSpareforsikring</th>\n",
       "    </tr>\n",
       "  </thead>\n",
       "  <tbody>\n",
       "    <tr>\n",
       "      <th>count</th>\n",
       "      <td>3630.000000</td>\n",
       "      <td>3.630000e+03</td>\n",
       "      <td>3630.000000</td>\n",
       "      <td>3630.000000</td>\n",
       "      <td>3630.000000</td>\n",
       "      <td>3630.000000</td>\n",
       "      <td>3630.000000</td>\n",
       "      <td>3630.000000</td>\n",
       "      <td>3630.000000</td>\n",
       "      <td>3630.000000</td>\n",
       "      <td>...</td>\n",
       "      <td>3630.000000</td>\n",
       "      <td>3630.000000</td>\n",
       "      <td>3630.000000</td>\n",
       "      <td>3630.000000</td>\n",
       "      <td>3630.000000</td>\n",
       "      <td>3630.000000</td>\n",
       "      <td>3630.000000</td>\n",
       "      <td>3630.000000</td>\n",
       "      <td>3630.000000</td>\n",
       "      <td>3630.000000</td>\n",
       "    </tr>\n",
       "    <tr>\n",
       "      <th>mean</th>\n",
       "      <td>2508.213774</td>\n",
       "      <td>3.218082e+06</td>\n",
       "      <td>43.208815</td>\n",
       "      <td>7.695868</td>\n",
       "      <td>783.614325</td>\n",
       "      <td>3613.719008</td>\n",
       "      <td>0.300551</td>\n",
       "      <td>0.055923</td>\n",
       "      <td>0.000551</td>\n",
       "      <td>0.014601</td>\n",
       "      <td>...</td>\n",
       "      <td>0.701653</td>\n",
       "      <td>0.102479</td>\n",
       "      <td>0.102204</td>\n",
       "      <td>0.178512</td>\n",
       "      <td>0.107713</td>\n",
       "      <td>0.176584</td>\n",
       "      <td>0.045455</td>\n",
       "      <td>0.044077</td>\n",
       "      <td>0.011846</td>\n",
       "      <td>0.201377</td>\n",
       "    </tr>\n",
       "    <tr>\n",
       "      <th>std</th>\n",
       "      <td>1431.680916</td>\n",
       "      <td>2.104151e+06</td>\n",
       "      <td>14.468157</td>\n",
       "      <td>5.738833</td>\n",
       "      <td>576.161533</td>\n",
       "      <td>2556.014909</td>\n",
       "      <td>0.458561</td>\n",
       "      <td>0.229804</td>\n",
       "      <td>0.023469</td>\n",
       "      <td>0.119964</td>\n",
       "      <td>...</td>\n",
       "      <td>0.457596</td>\n",
       "      <td>0.303319</td>\n",
       "      <td>0.302958</td>\n",
       "      <td>0.382996</td>\n",
       "      <td>0.310061</td>\n",
       "      <td>0.381369</td>\n",
       "      <td>0.208328</td>\n",
       "      <td>0.205295</td>\n",
       "      <td>0.108206</td>\n",
       "      <td>0.401085</td>\n",
       "    </tr>\n",
       "    <tr>\n",
       "      <th>min</th>\n",
       "      <td>0.000000</td>\n",
       "      <td>9.380000e+02</td>\n",
       "      <td>18.000000</td>\n",
       "      <td>1.000000</td>\n",
       "      <td>101.000000</td>\n",
       "      <td>168.000000</td>\n",
       "      <td>0.000000</td>\n",
       "      <td>0.000000</td>\n",
       "      <td>0.000000</td>\n",
       "      <td>0.000000</td>\n",
       "      <td>...</td>\n",
       "      <td>0.000000</td>\n",
       "      <td>0.000000</td>\n",
       "      <td>0.000000</td>\n",
       "      <td>0.000000</td>\n",
       "      <td>0.000000</td>\n",
       "      <td>0.000000</td>\n",
       "      <td>0.000000</td>\n",
       "      <td>0.000000</td>\n",
       "      <td>0.000000</td>\n",
       "      <td>0.000000</td>\n",
       "    </tr>\n",
       "    <tr>\n",
       "      <th>25%</th>\n",
       "      <td>1284.500000</td>\n",
       "      <td>1.548604e+06</td>\n",
       "      <td>31.000000</td>\n",
       "      <td>3.000000</td>\n",
       "      <td>301.000000</td>\n",
       "      <td>1453.000000</td>\n",
       "      <td>0.000000</td>\n",
       "      <td>0.000000</td>\n",
       "      <td>0.000000</td>\n",
       "      <td>0.000000</td>\n",
       "      <td>...</td>\n",
       "      <td>0.000000</td>\n",
       "      <td>0.000000</td>\n",
       "      <td>0.000000</td>\n",
       "      <td>0.000000</td>\n",
       "      <td>0.000000</td>\n",
       "      <td>0.000000</td>\n",
       "      <td>0.000000</td>\n",
       "      <td>0.000000</td>\n",
       "      <td>0.000000</td>\n",
       "      <td>0.000000</td>\n",
       "    </tr>\n",
       "    <tr>\n",
       "      <th>50%</th>\n",
       "      <td>2512.500000</td>\n",
       "      <td>2.712668e+06</td>\n",
       "      <td>43.000000</td>\n",
       "      <td>6.000000</td>\n",
       "      <td>621.500000</td>\n",
       "      <td>3124.000000</td>\n",
       "      <td>0.000000</td>\n",
       "      <td>0.000000</td>\n",
       "      <td>0.000000</td>\n",
       "      <td>0.000000</td>\n",
       "      <td>...</td>\n",
       "      <td>1.000000</td>\n",
       "      <td>0.000000</td>\n",
       "      <td>0.000000</td>\n",
       "      <td>0.000000</td>\n",
       "      <td>0.000000</td>\n",
       "      <td>0.000000</td>\n",
       "      <td>0.000000</td>\n",
       "      <td>0.000000</td>\n",
       "      <td>0.000000</td>\n",
       "      <td>0.000000</td>\n",
       "    </tr>\n",
       "    <tr>\n",
       "      <th>75%</th>\n",
       "      <td>3731.500000</td>\n",
       "      <td>4.479664e+06</td>\n",
       "      <td>55.000000</td>\n",
       "      <td>12.000000</td>\n",
       "      <td>1201.000000</td>\n",
       "      <td>5229.750000</td>\n",
       "      <td>1.000000</td>\n",
       "      <td>0.000000</td>\n",
       "      <td>0.000000</td>\n",
       "      <td>0.000000</td>\n",
       "      <td>...</td>\n",
       "      <td>1.000000</td>\n",
       "      <td>0.000000</td>\n",
       "      <td>0.000000</td>\n",
       "      <td>0.000000</td>\n",
       "      <td>0.000000</td>\n",
       "      <td>0.000000</td>\n",
       "      <td>0.000000</td>\n",
       "      <td>0.000000</td>\n",
       "      <td>0.000000</td>\n",
       "      <td>0.000000</td>\n",
       "    </tr>\n",
       "    <tr>\n",
       "      <th>max</th>\n",
       "      <td>4998.000000</td>\n",
       "      <td>9.424479e+06</td>\n",
       "      <td>70.000000</td>\n",
       "      <td>20.000000</td>\n",
       "      <td>2030.000000</td>\n",
       "      <td>9990.000000</td>\n",
       "      <td>1.000000</td>\n",
       "      <td>1.000000</td>\n",
       "      <td>1.000000</td>\n",
       "      <td>1.000000</td>\n",
       "      <td>...</td>\n",
       "      <td>1.000000</td>\n",
       "      <td>1.000000</td>\n",
       "      <td>1.000000</td>\n",
       "      <td>1.000000</td>\n",
       "      <td>1.000000</td>\n",
       "      <td>1.000000</td>\n",
       "      <td>1.000000</td>\n",
       "      <td>1.000000</td>\n",
       "      <td>1.000000</td>\n",
       "      <td>1.000000</td>\n",
       "    </tr>\n",
       "  </tbody>\n",
       "</table>\n",
       "<p>8 rows × 46 columns</p>\n",
       "</div>"
      ],
      "text/plain": [
       "        Unnamed: 0       AktorId        Alder      FylkeNr    KommuneNr  \\\n",
       "count  3630.000000  3.630000e+03  3630.000000  3630.000000  3630.000000   \n",
       "mean   2508.213774  3.218082e+06    43.208815     7.695868   783.614325   \n",
       "std    1431.680916  2.104151e+06    14.468157     5.738833   576.161533   \n",
       "min       0.000000  9.380000e+02    18.000000     1.000000   101.000000   \n",
       "25%    1284.500000  1.548604e+06    31.000000     3.000000   301.000000   \n",
       "50%    2512.500000  2.712668e+06    43.000000     6.000000   621.500000   \n",
       "75%    3731.500000  4.479664e+06    55.000000    12.000000  1201.000000   \n",
       "max    4998.000000  9.424479e+06    70.000000    20.000000  2030.000000   \n",
       "\n",
       "            Postnr  ErDisponentAnt  ErKontoapnerAnt  ErKausjonistAnt  \\\n",
       "count  3630.000000     3630.000000      3630.000000      3630.000000   \n",
       "mean   3613.719008        0.300551         0.055923         0.000551   \n",
       "std    2556.014909        0.458561         0.229804         0.023469   \n",
       "min     168.000000        0.000000         0.000000         0.000000   \n",
       "25%    1453.000000        0.000000         0.000000         0.000000   \n",
       "50%    3124.000000        0.000000         0.000000         0.000000   \n",
       "75%    5229.750000        1.000000         0.000000         0.000000   \n",
       "max    9990.000000        1.000000         1.000000         1.000000   \n",
       "\n",
       "       ErRealkausjonistAnt          ...            AntSparekonto  \\\n",
       "count          3630.000000          ...              3630.000000   \n",
       "mean              0.014601          ...                 0.701653   \n",
       "std               0.119964          ...                 0.457596   \n",
       "min               0.000000          ...                 0.000000   \n",
       "25%               0.000000          ...                 0.000000   \n",
       "50%               0.000000          ...                 1.000000   \n",
       "75%               0.000000          ...                 1.000000   \n",
       "max               1.000000          ...                 1.000000   \n",
       "\n",
       "       AntAktiveSkadefors  AntAktiv_AndreForsikringer  AntAktUtlanAvt  \\\n",
       "count         3630.000000                 3630.000000     3630.000000   \n",
       "mean             0.102479                    0.102204        0.178512   \n",
       "std              0.303319                    0.302958        0.382996   \n",
       "min              0.000000                    0.000000        0.000000   \n",
       "25%              0.000000                    0.000000        0.000000   \n",
       "50%              0.000000                    0.000000        0.000000   \n",
       "75%              0.000000                    0.000000        0.000000   \n",
       "max              1.000000                    1.000000        1.000000   \n",
       "\n",
       "         AntAvtBSU  AntAktBoliglan  DNBAntAktBoliglan  AntAktGaranterte  \\\n",
       "count  3630.000000     3630.000000        3630.000000       3630.000000   \n",
       "mean      0.107713        0.176584           0.045455          0.044077   \n",
       "std       0.310061        0.381369           0.208328          0.205295   \n",
       "min       0.000000        0.000000           0.000000          0.000000   \n",
       "25%       0.000000        0.000000           0.000000          0.000000   \n",
       "50%       0.000000        0.000000           0.000000          0.000000   \n",
       "75%       0.000000        0.000000           0.000000          0.000000   \n",
       "max       1.000000        1.000000           1.000000          1.000000   \n",
       "\n",
       "        AntAktLink  AntAktSpareforsikring  \n",
       "count  3630.000000            3630.000000  \n",
       "mean      0.011846               0.201377  \n",
       "std       0.108206               0.401085  \n",
       "min       0.000000               0.000000  \n",
       "25%       0.000000               0.000000  \n",
       "50%       0.000000               0.000000  \n",
       "75%       0.000000               0.000000  \n",
       "max       1.000000               1.000000  \n",
       "\n",
       "[8 rows x 46 columns]"
      ]
     },
     "execution_count": 3,
     "metadata": {},
     "output_type": "execute_result"
    }
   ],
   "source": [
    "dtrain.describe()"
   ]
  },
  {
   "cell_type": "markdown",
   "metadata": {},
   "source": [
    "Remove unnamed"
   ]
  },
  {
   "cell_type": "code",
   "execution_count": 4,
   "metadata": {
    "collapsed": true
   },
   "outputs": [],
   "source": [
    "dtrain = dtrain.drop('Unnamed: 0', 1)\n",
    "dtest = dtest.drop('Unnamed: 0', 1)"
   ]
  },
  {
   "cell_type": "markdown",
   "metadata": {},
   "source": [
    "Define ID and target variables"
   ]
  },
  {
   "cell_type": "code",
   "execution_count": 5,
   "metadata": {
    "collapsed": false
   },
   "outputs": [],
   "source": [
    "ID_col = 'AktorId'\n",
    "target_cols = ['AntAktAvtBank',\n",
    " 'AntAktAvtInnskudd',\n",
    " 'AntAktAvtKredittkort',\n",
    " 'AntKredittkortDebet',\n",
    " 'AntKredittkortKreditt',\n",
    " 'AntSparekonto',\n",
    " 'AntBrukskonto',\n",
    " 'AntAvtBSU',\n",
    " 'AntAktiveSkadefors',\n",
    " 'AntAktiv_AndreForsikringer',\n",
    " 'AntAktSpareforsikring',\n",
    " 'AntAktUtlanAvt',\n",
    " 'AntAktBoliglan',\n",
    " 'DNBAntAktBoliglan',\n",
    " 'AntAktGaranterte',\n",
    " 'AntAktLink']\n",
    "\n",
    "demo_cols = [x for x in dtrain.columns if x not in ID_col]\n",
    "demo_cols = [x for x in demo_cols if x not in target_cols]"
   ]
  },
  {
   "cell_type": "markdown",
   "metadata": {},
   "source": [
    "Create train and test set with demographic variables and target variables"
   ]
  },
  {
   "cell_type": "code",
   "execution_count": 6,
   "metadata": {
    "collapsed": true
   },
   "outputs": [],
   "source": [
    "dtrain_id = dtrain['AktorId']\n",
    "dtest_id = dtest['AktorId']\n",
    "dtrain_matrix = dtrain[[col for col in demo_cols]]\n",
    "dtest_matrix = dtest[[col for col in demo_cols]]\n",
    "dtrain_target = dtrain[[col for col in target_cols]]\n",
    "dtest_target = dtest[[col for col in target_cols]]"
   ]
  },
  {
   "cell_type": "markdown",
   "metadata": {},
   "source": [
    "Normalize data in train and test matrix"
   ]
  },
  {
   "cell_type": "code",
   "execution_count": 7,
   "metadata": {
    "collapsed": false
   },
   "outputs": [],
   "source": [
    "scaler_train = MinMaxScaler(feature_range=(0,1))\n",
    "scaler_train = scaler_train.fit(dtrain_matrix)\n",
    "dtrain_matrix = scaler_train.transform(dtrain_matrix)\n",
    "\n",
    "scaler_test = MinMaxScaler(feature_range=(0,1))\n",
    "scaler_test = scaler_test.fit(dtest_matrix)\n",
    "dtest_matrix = scaler_test.transform(dtest_matrix)"
   ]
  },
  {
   "cell_type": "code",
   "execution_count": 8,
   "metadata": {
    "collapsed": false
   },
   "outputs": [
    {
     "name": "stdout",
     "output_type": "stream",
     "text": [
      "[[  2.11538462e-01   1.00000000e-01   9.95024876e-02 ...,   8.61074059e-03\n",
      "    2.63814913e-02   5.00000000e-01]\n",
      " [  2.11538462e-01   1.00000000e-01   9.95024876e-02 ...,   4.35192122e-03\n",
      "    5.53428762e-03   3.75000000e-01]\n",
      " [  1.15384615e-01   1.00000000e-01   9.95024876e-02 ...,   2.67313796e-03\n",
      "    3.20822237e-02   3.75000000e-01]\n",
      " ..., \n",
      " [  3.26923077e-01   5.00000000e-02   5.87064677e-02 ...,   2.97710106e-03\n",
      "    2.07431758e-01   3.75000000e-01]\n",
      " [  2.88461538e-01   5.50000000e-01   5.70149254e-01 ...,   2.74472435e-04\n",
      "    3.30933755e-01   1.25000000e-01]\n",
      " [  1.92307692e-02   5.00000000e-02   5.87064677e-02 ...,   6.59620358e-03\n",
      "    2.46754328e-01   3.75000000e-01]]\n"
     ]
    }
   ],
   "source": [
    "print(dtest_matrix)"
   ]
  },
  {
   "cell_type": "markdown",
   "metadata": {},
   "source": [
    "Calculate Pearson similarity for train set"
   ]
  },
  {
   "cell_type": "code",
   "execution_count": 9,
   "metadata": {
    "collapsed": false
   },
   "outputs": [],
   "source": [
    "def similarity_train(dtrain_matrix):\n",
    "    t0 = time.time()\n",
    "    similarity_train = squareform(1-pdist(dtrain_matrix,'correlation'))\n",
    "    t1 = time.time()\n",
    "    time_sim_train = t1-t0\n",
    "    print('Similarity time train %.4g' % time_sim_train)\n",
    "    return time_sim_train,similarity_train"
   ]
  },
  {
   "cell_type": "code",
   "execution_count": 10,
   "metadata": {
    "collapsed": false
   },
   "outputs": [
    {
     "name": "stdout",
     "output_type": "stream",
     "text": [
      "Similarity time train 0.7308\n"
     ]
    }
   ],
   "source": [
    "time_sim_train,similarity_train = similarity_train(dtrain_matrix)"
   ]
  },
  {
   "cell_type": "code",
   "execution_count": 11,
   "metadata": {
    "collapsed": false
   },
   "outputs": [
    {
     "data": {
      "text/plain": [
       "array([[ 0.        ,  0.06878092,  0.46697654, ...,  0.9241484 ,\n",
       "         0.51291044,  0.44818671],\n",
       "       [ 0.06878092,  0.        ,  0.5358358 , ...,  0.28336248,\n",
       "         0.5210478 ,  0.54777229],\n",
       "       [ 0.46697654,  0.5358358 ,  0.        , ...,  0.75371603,\n",
       "         0.98734019,  0.94649264],\n",
       "       ..., \n",
       "       [ 0.9241484 ,  0.28336248,  0.75371603, ...,  0.        ,\n",
       "         0.76878899,  0.75313883],\n",
       "       [ 0.51291044,  0.5210478 ,  0.98734019, ...,  0.76878899,\n",
       "         0.        ,  0.90145393],\n",
       "       [ 0.44818671,  0.54777229,  0.94649264, ...,  0.75313883,\n",
       "         0.90145393,  0.        ]])"
      ]
     },
     "execution_count": 11,
     "metadata": {},
     "output_type": "execute_result"
    }
   ],
   "source": [
    "similarity_train"
   ]
  },
  {
   "cell_type": "markdown",
   "metadata": {},
   "source": [
    "Prediction function selecting the neighbors from the similarity measure"
   ]
  },
  {
   "cell_type": "code",
   "execution_count": 12,
   "metadata": {
    "collapsed": true
   },
   "outputs": [],
   "source": [
    "def prediction(target,sim,n_nbrs):\n",
    "    t0 = time.time()\n",
    "    n_nbrs = n_nbrs\n",
    "    n_users=len(sim)\n",
    "    n_items=len(target.columns)\n",
    "    pred=np.zeros((n_users,n_items))\n",
    "    for u in range (n_users):\n",
    "        nbrs_indices = [j[0] for j in sorted(enumerate(sim[u,:]),key=lambda x:x[1],reverse=True)[:n_nbrs]]\n",
    "        vote_1=0\n",
    "        vote_2=0\n",
    "        for i in range (n_items):\n",
    "            for n in nbrs_indices: \n",
    "                vote_1 += target.values[n,i]*sim[u,n]\n",
    "                vote_2 += (1-target.values[n,i])*sim[u,n]\n",
    "            if(vote_1>vote_2):\n",
    "                pred[u,i]=1\n",
    "    t1 = time.time()\n",
    "    time_pred = t1-t0\n",
    "    print('Prediction time %.4g' % time_pred)\n",
    "    return time_pred,n_nbrs,pred"
   ]
  },
  {
   "cell_type": "markdown",
   "metadata": {},
   "source": [
    "Function calculating prediction accuracy"
   ]
  },
  {
   "cell_type": "code",
   "execution_count": 13,
   "metadata": {
    "collapsed": false
   },
   "outputs": [],
   "source": [
    "def accuracy(target,pred,n_nbrs,reports=False):\n",
    "    print('\\nModel Report: k =',n_nbrs,'\\n')\n",
    "    i=0\n",
    "    accuracy_lst=[]\n",
    "    for col in target.columns:\n",
    "        accuracy = metrics.accuracy_score(target.values[:,i],pred[:,i])\n",
    "        accuracy_lst.append(accuracy)\n",
    "        print (col,'%.4g' % accuracy)\n",
    "        if(reports==True):\n",
    "            report = classification_report(target.values[:,i],pred[:,i])\n",
    "            print(report)\n",
    "            cm = confusion_matrix(target.values[:,i],pred[:,i])\n",
    "            print(cm)\n",
    "        i+=1\n",
    "    avg_accuracy = np.average(accuracy_lst)\n",
    "    print('\\nAverage accuracy %.4g' % avg_accuracy)\n",
    "    return accuracy_lst, avg_accuracy"
   ]
  },
  {
   "cell_type": "markdown",
   "metadata": {},
   "source": [
    "Parameter tuning: tune number of neighbors"
   ]
  },
  {
   "cell_type": "code",
   "execution_count": 14,
   "metadata": {
    "collapsed": false
   },
   "outputs": [
    {
     "name": "stdout",
     "output_type": "stream",
     "text": [
      "Prediction time 42.63\n",
      "\n",
      "Model Report: k = 5 \n",
      "\n",
      "AntAktAvtBank 0.8898\n",
      "AntAktAvtInnskudd 0.9242\n",
      "AntAktAvtKredittkort 0.6149\n",
      "AntKredittkortDebet 0.468\n",
      "AntKredittkortKreditt 0.4256\n",
      "AntSparekonto 0.7565\n",
      "AntBrukskonto 0.8322\n",
      "AntAvtBSU 0.4758\n",
      "AntAktiveSkadefors 0.5413\n",
      "AntAktiv_AndreForsikringer 0.6424\n",
      "AntAktSpareforsikring 0.6518\n",
      "AntAktUtlanAvt 0.8647\n",
      "AntAktBoliglan 0.9063\n",
      "DNBAntAktBoliglan 0.8667\n",
      "AntAktGaranterte 0.8584\n",
      "AntAktLink 0.8948\n",
      "\n",
      "Average accuracy 0.7258\n",
      "Prediction time 44.11\n",
      "\n",
      "Model Report: k = 6 \n",
      "\n",
      "AntAktAvtBank 0.8912\n",
      "AntAktAvtInnskudd 0.9248\n",
      "AntAktAvtKredittkort 0.6124\n",
      "AntKredittkortDebet 0.4606\n",
      "AntKredittkortKreditt 0.4229\n",
      "AntSparekonto 0.7579\n",
      "AntBrukskonto 0.8358\n",
      "AntAvtBSU 0.4738\n",
      "AntAktiveSkadefors 0.5369\n",
      "AntAktiv_AndreForsikringer 0.6383\n",
      "AntAktSpareforsikring 0.6504\n",
      "AntAktUtlanAvt 0.873\n",
      "AntAktBoliglan 0.9083\n",
      "DNBAntAktBoliglan 0.8686\n",
      "AntAktGaranterte 0.8556\n",
      "AntAktLink 0.8972\n",
      "\n",
      "Average accuracy 0.7255\n",
      "Prediction time 51.76\n",
      "\n",
      "Model Report: k = 7 \n",
      "\n",
      "AntAktAvtBank 0.8948\n",
      "AntAktAvtInnskudd 0.9259\n",
      "AntAktAvtKredittkort 0.6074\n",
      "AntKredittkortDebet 0.4567\n",
      "AntKredittkortKreditt 0.4129\n",
      "AntSparekonto 0.7573\n",
      "AntBrukskonto 0.8344\n",
      "AntAvtBSU 0.47\n",
      "AntAktiveSkadefors 0.5342\n",
      "AntAktiv_AndreForsikringer 0.6397\n",
      "AntAktSpareforsikring 0.654\n",
      "AntAktUtlanAvt 0.8752\n",
      "AntAktBoliglan 0.9138\n",
      "DNBAntAktBoliglan 0.8725\n",
      "AntAktGaranterte 0.8581\n",
      "AntAktLink 0.8981\n",
      "\n",
      "Average accuracy 0.7253\n",
      "Prediction time 53.36\n",
      "\n",
      "Model Report: k = 8 \n",
      "\n",
      "AntAktAvtBank 0.8931\n",
      "AntAktAvtInnskudd 0.9248\n",
      "AntAktAvtKredittkort 0.6107\n",
      "AntKredittkortDebet 0.4537\n",
      "AntKredittkortKreditt 0.4152\n",
      "AntSparekonto 0.7592\n",
      "AntBrukskonto 0.8347\n",
      "AntAvtBSU 0.4686\n",
      "AntAktiveSkadefors 0.5339\n",
      "AntAktiv_AndreForsikringer 0.6419\n",
      "AntAktSpareforsikring 0.6559\n",
      "AntAktUtlanAvt 0.8777\n",
      "AntAktBoliglan 0.9182\n",
      "DNBAntAktBoliglan 0.8749\n",
      "AntAktGaranterte 0.8576\n",
      "AntAktLink 0.8964\n",
      "\n",
      "Average accuracy 0.726\n",
      "Prediction time 59.24\n",
      "\n",
      "Model Report: k = 9 \n",
      "\n",
      "AntAktAvtBank 0.8961\n",
      "AntAktAvtInnskudd 0.9273\n",
      "AntAktAvtKredittkort 0.6094\n",
      "AntKredittkortDebet 0.4512\n",
      "AntKredittkortKreditt 0.4105\n",
      "AntSparekonto 0.7587\n",
      "AntBrukskonto 0.8372\n",
      "AntAvtBSU 0.4639\n",
      "AntAktiveSkadefors 0.5311\n",
      "AntAktiv_AndreForsikringer 0.6399\n",
      "AntAktSpareforsikring 0.6581\n",
      "AntAktUtlanAvt 0.8766\n",
      "AntAktBoliglan 0.9182\n",
      "DNBAntAktBoliglan 0.8758\n",
      "AntAktGaranterte 0.8606\n",
      "AntAktLink 0.8978\n",
      "\n",
      "Average accuracy 0.7258\n",
      "Prediction time 61.01\n",
      "\n",
      "Model Report: k = 10 \n",
      "\n",
      "AntAktAvtBank 0.8975\n",
      "AntAktAvtInnskudd 0.9259\n",
      "AntAktAvtKredittkort 0.6124\n",
      "AntKredittkortDebet 0.4463\n",
      "AntKredittkortKreditt 0.4096\n",
      "AntSparekonto 0.7606\n",
      "AntBrukskonto 0.841\n",
      "AntAvtBSU 0.4625\n",
      "AntAktiveSkadefors 0.5339\n",
      "AntAktiv_AndreForsikringer 0.6383\n",
      "AntAktSpareforsikring 0.657\n",
      "AntAktUtlanAvt 0.8813\n",
      "AntAktBoliglan 0.9209\n",
      "DNBAntAktBoliglan 0.8741\n",
      "AntAktGaranterte 0.8612\n",
      "AntAktLink 0.8975\n",
      "\n",
      "Average accuracy 0.7263\n",
      "Prediction time 60.46\n",
      "\n",
      "Model Report: k = 11 \n",
      "\n",
      "AntAktAvtBank 0.8975\n",
      "AntAktAvtInnskudd 0.9267\n",
      "AntAktAvtKredittkort 0.6099\n",
      "AntKredittkortDebet 0.4471\n",
      "AntKredittkortKreditt 0.4047\n",
      "AntSparekonto 0.7595\n",
      "AntBrukskonto 0.8394\n",
      "AntAvtBSU 0.4634\n",
      "AntAktiveSkadefors 0.5342\n",
      "AntAktiv_AndreForsikringer 0.6383\n",
      "AntAktSpareforsikring 0.6554\n",
      "AntAktUtlanAvt 0.8777\n",
      "AntAktBoliglan 0.9207\n",
      "DNBAntAktBoliglan 0.8747\n",
      "AntAktGaranterte 0.8623\n",
      "AntAktLink 0.8978\n",
      "\n",
      "Average accuracy 0.7256\n",
      "Prediction time 64.12\n",
      "\n",
      "Model Report: k = 12 \n",
      "\n",
      "AntAktAvtBank 0.8997\n",
      "AntAktAvtInnskudd 0.9278\n",
      "AntAktAvtKredittkort 0.6113\n",
      "AntKredittkortDebet 0.4449\n",
      "AntKredittkortKreditt 0.4014\n",
      "AntSparekonto 0.7565\n",
      "AntBrukskonto 0.8408\n",
      "AntAvtBSU 0.4625\n",
      "AntAktiveSkadefors 0.5306\n",
      "AntAktiv_AndreForsikringer 0.6375\n",
      "AntAktSpareforsikring 0.6603\n",
      "AntAktUtlanAvt 0.8829\n",
      "AntAktBoliglan 0.9193\n",
      "DNBAntAktBoliglan 0.8752\n",
      "AntAktGaranterte 0.8606\n",
      "AntAktLink 0.897\n",
      "\n",
      "Average accuracy 0.7255\n",
      "Prediction time 68.09\n",
      "\n",
      "Model Report: k = 13 \n",
      "\n",
      "AntAktAvtBank 0.8992\n",
      "AntAktAvtInnskudd 0.9273\n",
      "AntAktAvtKredittkort 0.6096\n",
      "AntKredittkortDebet 0.4435\n",
      "AntKredittkortKreditt 0.3967\n",
      "AntSparekonto 0.7556\n",
      "AntBrukskonto 0.8394\n",
      "AntAvtBSU 0.4623\n",
      "AntAktiveSkadefors 0.5317\n",
      "AntAktiv_AndreForsikringer 0.6383\n",
      "AntAktSpareforsikring 0.6614\n",
      "AntAktUtlanAvt 0.8846\n",
      "AntAktBoliglan 0.9204\n",
      "DNBAntAktBoliglan 0.8769\n",
      "AntAktGaranterte 0.8636\n",
      "AntAktLink 0.8967\n",
      "\n",
      "Average accuracy 0.7254\n",
      "Prediction time 71.64\n",
      "\n",
      "Model Report: k = 14 \n",
      "\n",
      "AntAktAvtBank 0.8994\n",
      "AntAktAvtInnskudd 0.9295\n",
      "AntAktAvtKredittkort 0.6088\n",
      "AntKredittkortDebet 0.4416\n",
      "AntKredittkortKreditt 0.3953\n",
      "AntSparekonto 0.757\n",
      "AntBrukskonto 0.8391\n",
      "AntAvtBSU 0.4576\n",
      "AntAktiveSkadefors 0.5331\n",
      "AntAktiv_AndreForsikringer 0.6372\n",
      "AntAktSpareforsikring 0.6636\n",
      "AntAktUtlanAvt 0.8876\n",
      "AntAktBoliglan 0.9204\n",
      "DNBAntAktBoliglan 0.8777\n",
      "AntAktGaranterte 0.8647\n",
      "AntAktLink 0.8959\n",
      "\n",
      "Average accuracy 0.7255\n",
      "Prediction time 75.78\n",
      "\n",
      "Model Report: k = 15 \n",
      "\n",
      "AntAktAvtBank 0.9011\n",
      "AntAktAvtInnskudd 0.9303\n",
      "AntAktAvtKredittkort 0.6077\n",
      "AntKredittkortDebet 0.4421\n",
      "AntKredittkortKreditt 0.3923\n",
      "AntSparekonto 0.7562\n",
      "AntBrukskonto 0.8391\n",
      "AntAvtBSU 0.4606\n",
      "AntAktiveSkadefors 0.5292\n",
      "AntAktiv_AndreForsikringer 0.6386\n",
      "AntAktSpareforsikring 0.662\n",
      "AntAktUtlanAvt 0.8873\n",
      "AntAktBoliglan 0.9242\n",
      "DNBAntAktBoliglan 0.8802\n",
      "AntAktGaranterte 0.8645\n",
      "AntAktLink 0.8964\n",
      "\n",
      "Average accuracy 0.7257\n",
      "Prediction time 79.64\n",
      "\n",
      "Model Report: k = 16 \n",
      "\n",
      "AntAktAvtBank 0.9022\n",
      "AntAktAvtInnskudd 0.9303\n",
      "AntAktAvtKredittkort 0.6069\n",
      "AntKredittkortDebet 0.438\n",
      "AntKredittkortKreditt 0.3926\n",
      "AntSparekonto 0.7554\n",
      "AntBrukskonto 0.8413\n",
      "AntAvtBSU 0.4579\n",
      "AntAktiveSkadefors 0.5303\n",
      "AntAktiv_AndreForsikringer 0.6405\n",
      "AntAktSpareforsikring 0.6628\n",
      "AntAktUtlanAvt 0.8893\n",
      "AntAktBoliglan 0.9237\n",
      "DNBAntAktBoliglan 0.8815\n",
      "AntAktGaranterte 0.8636\n",
      "AntAktLink 0.8997\n",
      "\n",
      "Average accuracy 0.726\n",
      "Prediction time 90.71\n",
      "\n",
      "Model Report: k = 17 \n",
      "\n",
      "AntAktAvtBank 0.9017\n",
      "AntAktAvtInnskudd 0.93\n",
      "AntAktAvtKredittkort 0.6085\n",
      "AntKredittkortDebet 0.4394\n",
      "AntKredittkortKreditt 0.3887\n",
      "AntSparekonto 0.7537\n",
      "AntBrukskonto 0.8408\n",
      "AntAvtBSU 0.4556\n",
      "AntAktiveSkadefors 0.5303\n",
      "AntAktiv_AndreForsikringer 0.6427\n",
      "AntAktSpareforsikring 0.6623\n",
      "AntAktUtlanAvt 0.8895\n",
      "AntAktBoliglan 0.9237\n",
      "DNBAntAktBoliglan 0.884\n",
      "AntAktGaranterte 0.8647\n",
      "AntAktLink 0.9003\n",
      "\n",
      "Average accuracy 0.726\n",
      "Prediction time 101.4\n",
      "\n",
      "Model Report: k = 18 \n",
      "\n",
      "AntAktAvtBank 0.9019\n",
      "AntAktAvtInnskudd 0.9284\n",
      "AntAktAvtKredittkort 0.608\n",
      "AntKredittkortDebet 0.4375\n",
      "AntKredittkortKreditt 0.3876\n",
      "AntSparekonto 0.7526\n",
      "AntBrukskonto 0.8408\n",
      "AntAvtBSU 0.4526\n",
      "AntAktiveSkadefors 0.5298\n",
      "AntAktiv_AndreForsikringer 0.6399\n",
      "AntAktSpareforsikring 0.6628\n",
      "AntAktUtlanAvt 0.8901\n",
      "AntAktBoliglan 0.9248\n",
      "DNBAntAktBoliglan 0.8832\n",
      "AntAktGaranterte 0.8636\n",
      "AntAktLink 0.9003\n",
      "\n",
      "Average accuracy 0.7252\n",
      "Prediction time 96.24\n",
      "\n",
      "Model Report: k = 19 \n",
      "\n",
      "AntAktAvtBank 0.9008\n",
      "AntAktAvtInnskudd 0.9281\n",
      "AntAktAvtKredittkort 0.608\n",
      "AntKredittkortDebet 0.4347\n",
      "AntKredittkortKreditt 0.3796\n",
      "AntSparekonto 0.754\n",
      "AntBrukskonto 0.8433\n",
      "AntAvtBSU 0.4523\n",
      "AntAktiveSkadefors 0.5267\n",
      "AntAktiv_AndreForsikringer 0.6433\n",
      "AntAktSpareforsikring 0.6636\n",
      "AntAktUtlanAvt 0.8893\n",
      "AntAktBoliglan 0.9242\n",
      "DNBAntAktBoliglan 0.8832\n",
      "AntAktGaranterte 0.8639\n",
      "AntAktLink 0.9006\n",
      "\n",
      "Average accuracy 0.7247\n",
      "Prediction time 96.37\n",
      "\n",
      "Model Report: k = 20 \n",
      "\n",
      "AntAktAvtBank 0.9014\n",
      "AntAktAvtInnskudd 0.9295\n",
      "AntAktAvtKredittkort 0.6074\n",
      "AntKredittkortDebet 0.4361\n",
      "AntKredittkortKreditt 0.3835\n",
      "AntSparekonto 0.7543\n",
      "AntBrukskonto 0.8435\n",
      "AntAvtBSU 0.4518\n",
      "AntAktiveSkadefors 0.5256\n",
      "AntAktiv_AndreForsikringer 0.6399\n",
      "AntAktSpareforsikring 0.6642\n",
      "AntAktUtlanAvt 0.8904\n",
      "AntAktBoliglan 0.9262\n",
      "DNBAntAktBoliglan 0.8829\n",
      "AntAktGaranterte 0.8653\n",
      "AntAktLink 0.8997\n",
      "\n",
      "Average accuracy 0.7251\n",
      "Prediction time 123.6\n",
      "\n",
      "Model Report: k = 21 \n",
      "\n",
      "AntAktAvtBank 0.9008\n",
      "AntAktAvtInnskudd 0.93\n",
      "AntAktAvtKredittkort 0.6069\n",
      "AntKredittkortDebet 0.435\n",
      "AntKredittkortKreditt 0.3791\n",
      "AntSparekonto 0.7565\n",
      "AntBrukskonto 0.8435\n",
      "AntAvtBSU 0.4518\n",
      "AntAktiveSkadefors 0.5256\n",
      "AntAktiv_AndreForsikringer 0.6402\n",
      "AntAktSpareforsikring 0.6623\n",
      "AntAktUtlanAvt 0.8928\n",
      "AntAktBoliglan 0.924\n",
      "DNBAntAktBoliglan 0.8837\n",
      "AntAktGaranterte 0.8653\n",
      "AntAktLink 0.9003\n",
      "\n",
      "Average accuracy 0.7249\n",
      "Prediction time 122.4\n",
      "\n",
      "Model Report: k = 22 \n",
      "\n",
      "AntAktAvtBank 0.9028\n",
      "AntAktAvtInnskudd 0.9317\n",
      "AntAktAvtKredittkort 0.6072\n",
      "AntKredittkortDebet 0.4336\n",
      "AntKredittkortKreditt 0.381\n",
      "AntSparekonto 0.7559\n",
      "AntBrukskonto 0.8471\n",
      "AntAvtBSU 0.4488\n",
      "AntAktiveSkadefors 0.5253\n",
      "AntAktiv_AndreForsikringer 0.6394\n",
      "AntAktSpareforsikring 0.6642\n",
      "AntAktUtlanAvt 0.8928\n",
      "AntAktBoliglan 0.9242\n",
      "DNBAntAktBoliglan 0.8832\n",
      "AntAktGaranterte 0.8656\n",
      "AntAktLink 0.9\n",
      "\n",
      "Average accuracy 0.7252\n",
      "Prediction time 124\n",
      "\n",
      "Model Report: k = 23 \n",
      "\n",
      "AntAktAvtBank 0.9022\n",
      "AntAktAvtInnskudd 0.932\n",
      "AntAktAvtKredittkort 0.6069\n",
      "AntKredittkortDebet 0.4325\n",
      "AntKredittkortKreditt 0.3752\n",
      "AntSparekonto 0.7573\n",
      "AntBrukskonto 0.8446\n",
      "AntAvtBSU 0.4496\n",
      "AntAktiveSkadefors 0.5253\n",
      "AntAktiv_AndreForsikringer 0.6377\n",
      "AntAktSpareforsikring 0.6653\n",
      "AntAktUtlanAvt 0.8928\n",
      "AntAktBoliglan 0.9245\n",
      "DNBAntAktBoliglan 0.8837\n",
      "AntAktGaranterte 0.8653\n",
      "AntAktLink 0.9011\n",
      "\n",
      "Average accuracy 0.7248\n",
      "Prediction time 127.2\n",
      "\n",
      "Model Report: k = 24 \n",
      "\n",
      "AntAktAvtBank 0.9019\n",
      "AntAktAvtInnskudd 0.9322\n",
      "AntAktAvtKredittkort 0.6063\n",
      "AntKredittkortDebet 0.432\n",
      "AntKredittkortKreditt 0.378\n",
      "AntSparekonto 0.7562\n",
      "AntBrukskonto 0.8438\n",
      "AntAvtBSU 0.4463\n",
      "AntAktiveSkadefors 0.5237\n",
      "AntAktiv_AndreForsikringer 0.6402\n",
      "AntAktSpareforsikring 0.6631\n",
      "AntAktUtlanAvt 0.8923\n",
      "AntAktBoliglan 0.9237\n",
      "DNBAntAktBoliglan 0.8848\n",
      "AntAktGaranterte 0.8661\n",
      "AntAktLink 0.9014\n",
      "\n",
      "Average accuracy 0.7245\n",
      "Prediction time 132.2\n",
      "\n",
      "Model Report: k = 25 \n",
      "\n",
      "AntAktAvtBank 0.9014\n",
      "AntAktAvtInnskudd 0.9306\n",
      "AntAktAvtKredittkort 0.6063\n",
      "AntKredittkortDebet 0.43\n",
      "AntKredittkortKreditt 0.3722\n",
      "AntSparekonto 0.757\n",
      "AntBrukskonto 0.8413\n",
      "AntAvtBSU 0.4463\n",
      "AntAktiveSkadefors 0.5267\n",
      "AntAktiv_AndreForsikringer 0.6405\n",
      "AntAktSpareforsikring 0.6647\n",
      "AntAktUtlanAvt 0.8923\n",
      "AntAktBoliglan 0.9218\n",
      "DNBAntAktBoliglan 0.8865\n",
      "AntAktGaranterte 0.8656\n",
      "AntAktLink 0.9\n",
      "\n",
      "Average accuracy 0.7239\n"
     ]
    }
   ],
   "source": [
    "k_accuracy=[]\n",
    "k_time=[]\n",
    "tot_nbrs = 25\n",
    "for i in range (5,tot_nbrs+1):\n",
    "    time_pred_train,n_nbrs,pred_train = prediction(dtrain_target,similarity_train,i)\n",
    "    accuracy_train,avg_accuracy_train = accuracy(dtrain_target,pred_train,n_nbrs)\n",
    "    k_accuracy.append(avg_accuracy_train)\n",
    "    k_time.append(time_pred_train)"
   ]
  },
  {
   "cell_type": "markdown",
   "metadata": {},
   "source": [
    "Plot the accuracy for different K values"
   ]
  },
  {
   "cell_type": "code",
   "execution_count": 15,
   "metadata": {
    "collapsed": false
   },
   "outputs": [
    {
     "data": {
      "image/png": "[encoded data removed]",
      "text/plain": [
       "<matplotlib.figure.Figure at 0x11c295dd8>"
      ]
     },
     "metadata": {},
     "output_type": "display_data"
    }
   ],
   "source": [
    "k_indices=np.array([5,6,7,8,9,10,11,12,13,14,15,16,17,18,19,20,21,22,23,24,25])\n",
    "k_indices.astype(int)\n",
    "    \n",
    "with sns.plotting_context(\"notebook\",font_scale=1.3):\n",
    "    sns.set_style(\"whitegrid\")\n",
    "    plt.figure(figsize=(12,7))\n",
    "    plt.plot(k_indices,k_accuracy);\n",
    "    plt.xticks(k_indices, k_indices)\n",
    "    plt.title('Accuracy plot for different K values in Demographic Filtering',fontsize=18)\n",
    "    plt.xlabel('Number of neighbors, K',fontsize=14)\n",
    "    plt.ylabel('Accuracy',fontsize=14)\n",
    "    plt.savefig('demographic_acc')\n",
    "    plt.show()\n",
    "    plt.close()"
   ]
  },
  {
   "cell_type": "code",
   "execution_count": 35,
   "metadata": {
    "collapsed": false
   },
   "outputs": [
    {
     "data": {
      "image/png": "[encoded data removed]",
      "text/plain": [
       "<matplotlib.figure.Figure at 0x12b4f9fd0>"
      ]
     },
     "metadata": {},
     "output_type": "display_data"
    }
   ],
   "source": [
    "k_indices=np.array([5,6,7,8,9,10,11,12,13,14,15,16,17,18,19,20,21,22,23,24,25])\n",
    "k_indices.astype(int)\n",
    "    \n",
    "with sns.plotting_context(\"notebook\",font_scale=1.5):\n",
    "    sns.set_style(\"whitegrid\")\n",
    "    plt.figure(figsize=(12,7))\n",
    "    plt.plot(k_indices,k_accuracy);\n",
    "    plt.xticks(k_indices, k_indices)\n",
    "    plt.title('Accuracy plot for different K values in Demographic Filtering',fontsize=18)\n",
    "    plt.xlabel('Number of neighbors, K',fontsize=16)\n",
    "    plt.ylabel('Accuracy',fontsize=16)\n",
    "    plt.savefig('demographic_acc_2')\n",
    "    plt.show()\n",
    "    plt.close()"
   ]
  },
  {
   "cell_type": "markdown",
   "metadata": {},
   "source": [
    "Plot the running time for different K values"
   ]
  },
  {
   "cell_type": "code",
   "execution_count": 37,
   "metadata": {
    "collapsed": false
   },
   "outputs": [
    {
     "data": {
      "image/png": "[encoded data removed]",
      "text/plain": [
       "<matplotlib.figure.Figure at 0x11c6cb128>"
      ]
     },
     "metadata": {},
     "output_type": "display_data"
    }
   ],
   "source": [
    "with sns.plotting_context(\"notebook\",font_scale=1.3):\n",
    "    sns.set_style(\"whitegrid\")\n",
    "    plt.figure(figsize=(12,7))\n",
    "    plt.plot(k_indices,k_time);\n",
    "    plt.xticks(k_indices, k_indices)\n",
    "    plt.title('Time plot for different K values in Demographic Filtering',fontsize=18)\n",
    "    plt.xlabel('Number of neighbors, K',fontsize=14)\n",
    "    plt.ylabel('Computation time (sec)',fontsize=14)\n",
    "    plt.savefig('demographic_time')\n",
    "    plt.show()\n",
    "    plt.close()"
   ]
  },
  {
   "cell_type": "code",
   "execution_count": 38,
   "metadata": {
    "collapsed": false
   },
   "outputs": [
    {
     "data": {
      "image/png": "[encoded data removed]",
      "text/plain": [
       "<matplotlib.figure.Figure at 0x11c745550>"
      ]
     },
     "metadata": {},
     "output_type": "display_data"
    }
   ],
   "source": [
    "with sns.plotting_context(\"notebook\",font_scale=1.5):\n",
    "    sns.set_style(\"whitegrid\")\n",
    "    plt.figure(figsize=(12,7))\n",
    "    plt.plot(k_indices,k_time);\n",
    "    plt.xticks(k_indices, k_indices)\n",
    "    plt.title('Time plot for different K values in Demographic Filtering',fontsize=18)\n",
    "    plt.xlabel('Number of neighbors, K',fontsize=16)\n",
    "    plt.ylabel('Computation time (sec)',fontsize=16)\n",
    "    plt.savefig('demographic_time_2')\n",
    "    plt.show()\n",
    "    plt.close()"
   ]
  },
  {
   "cell_type": "markdown",
   "metadata": {},
   "source": [
    "Predict items for train set with k=10"
   ]
  },
  {
   "cell_type": "code",
   "execution_count": 17,
   "metadata": {
    "collapsed": false
   },
   "outputs": [
    {
     "name": "stdout",
     "output_type": "stream",
     "text": [
      "Prediction time 70.88\n"
     ]
    }
   ],
   "source": [
    "opt_n_nbrs = k_accuracy.index(max(k_accuracy))+5\n",
    "time_pred_train,opt_n_nbrs,pred_train = prediction(dtrain_target,similarity_train,opt_n_nbrs)"
   ]
  },
  {
   "cell_type": "markdown",
   "metadata": {},
   "source": [
    "Calculate the accuracy for the train set"
   ]
  },
  {
   "cell_type": "code",
   "execution_count": 18,
   "metadata": {
    "collapsed": false
   },
   "outputs": [
    {
     "name": "stdout",
     "output_type": "stream",
     "text": [
      "\n",
      "Model Report: k = 10 \n",
      "\n",
      "AntAktAvtBank 0.8975\n",
      "             precision    recall  f1-score   support\n",
      "\n",
      "          0       0.54      0.18      0.27       383\n",
      "          1       0.91      0.98      0.94      3247\n",
      "\n",
      "avg / total       0.87      0.90      0.87      3630\n",
      "\n",
      "[[  70  313]\n",
      " [  59 3188]]\n",
      "AntAktAvtInnskudd 0.9259\n",
      "             precision    recall  f1-score   support\n",
      "\n",
      "          0       0.54      0.21      0.30       277\n",
      "          1       0.94      0.99      0.96      3353\n",
      "\n",
      "avg / total       0.91      0.93      0.91      3630\n",
      "\n",
      "[[  57  220]\n",
      " [  49 3304]]\n",
      "AntAktAvtKredittkort 0.6124\n",
      "             precision    recall  f1-score   support\n",
      "\n",
      "          0       0.59      0.06      0.11      1434\n",
      "          1       0.61      0.97      0.75      2196\n",
      "\n",
      "avg / total       0.60      0.61      0.50      3630\n",
      "\n",
      "[[  89 1345]\n",
      " [  62 2134]]\n",
      "AntKredittkortDebet 0.4463\n",
      "             precision    recall  f1-score   support\n",
      "\n",
      "          0       0.99      0.26      0.42      2726\n",
      "          1       0.31      0.99      0.47       904\n",
      "\n",
      "avg / total       0.82      0.45      0.43      3630\n",
      "\n",
      "[[ 721 2005]\n",
      " [   5  899]]\n",
      "AntKredittkortKreditt 0.4096\n",
      "             precision    recall  f1-score   support\n",
      "\n",
      "          0       0.99      0.39      0.56      3479\n",
      "          1       0.06      0.89      0.11       151\n",
      "\n",
      "avg / total       0.95      0.41      0.54      3630\n",
      "\n",
      "[[1352 2127]\n",
      " [  16  135]]\n",
      "AntSparekonto 0.7606\n",
      "             precision    recall  f1-score   support\n",
      "\n",
      "          0       0.59      0.66      0.62      1083\n",
      "          1       0.85      0.80      0.83      2547\n",
      "\n",
      "avg / total       0.77      0.76      0.76      3630\n",
      "\n",
      "[[ 711  372]\n",
      " [ 497 2050]]\n",
      "AntBrukskonto 0.841\n",
      "             precision    recall  f1-score   support\n",
      "\n",
      "          0       0.63      0.77      0.70       852\n",
      "          1       0.93      0.86      0.89      2778\n",
      "\n",
      "avg / total       0.86      0.84      0.85      3630\n",
      "\n",
      "[[ 659  193]\n",
      " [ 384 2394]]\n",
      "AntAvtBSU 0.4625\n",
      "             precision    recall  f1-score   support\n",
      "\n",
      "          0       0.99      0.40      0.57      3239\n",
      "          1       0.16      0.95      0.28       391\n",
      "\n",
      "avg / total       0.90      0.46      0.54      3630\n",
      "\n",
      "[[1306 1933]\n",
      " [  18  373]]\n",
      "AntAktiveSkadefors 0.5339\n",
      "             precision    recall  f1-score   support\n",
      "\n",
      "          0       0.97      0.50      0.66      3258\n",
      "          1       0.16      0.87      0.28       372\n",
      "\n",
      "avg / total       0.89      0.53      0.62      3630\n",
      "\n",
      "[[1616 1642]\n",
      " [  50  322]]\n",
      "AntAktiv_AndreForsikringer 0.6383\n",
      "             precision    recall  f1-score   support\n",
      "\n",
      "          0       0.96      0.62      0.75      3259\n",
      "          1       0.19      0.80      0.31       371\n",
      "\n",
      "avg / total       0.89      0.64      0.71      3630\n",
      "\n",
      "[[2021 1238]\n",
      " [  75  296]]\n",
      "AntAktSpareforsikring 0.657\n",
      "             precision    recall  f1-score   support\n",
      "\n",
      "          0       0.84      0.71      0.77      2899\n",
      "          1       0.28      0.46      0.35       731\n",
      "\n",
      "avg / total       0.73      0.66      0.68      3630\n",
      "\n",
      "[[2049  850]\n",
      " [ 395  336]]\n",
      "AntAktUtlanAvt 0.8813\n",
      "             precision    recall  f1-score   support\n",
      "\n",
      "          0       0.96      0.89      0.92      2982\n",
      "          1       0.62      0.84      0.72       648\n",
      "\n",
      "avg / total       0.90      0.88      0.89      3630\n",
      "\n",
      "[[2652  330]\n",
      " [ 101  547]]\n",
      "AntAktBoliglan 0.9209\n",
      "             precision    recall  f1-score   support\n",
      "\n",
      "          0       0.96      0.94      0.95      2989\n",
      "          1       0.76      0.81      0.78       641\n",
      "\n",
      "avg / total       0.92      0.92      0.92      3630\n",
      "\n",
      "[[2824  165]\n",
      " [ 122  519]]\n",
      "DNBAntAktBoliglan 0.8741\n",
      "             precision    recall  f1-score   support\n",
      "\n",
      "          0       0.99      0.88      0.93      3465\n",
      "          1       0.24      0.79      0.36       165\n",
      "\n",
      "avg / total       0.95      0.87      0.90      3630\n",
      "\n",
      "[[3043  422]\n",
      " [  35  130]]\n",
      "AntAktGaranterte 0.8612\n",
      "             precision    recall  f1-score   support\n",
      "\n",
      "          0       0.97      0.88      0.92      3470\n",
      "          1       0.13      0.36      0.19       160\n",
      "\n",
      "avg / total       0.93      0.86      0.89      3630\n",
      "\n",
      "[[3068  402]\n",
      " [ 102   58]]\n",
      "AntAktLink 0.8975\n",
      "             precision    recall  f1-score   support\n",
      "\n",
      "          0       0.99      0.90      0.95      3587\n",
      "          1       0.05      0.42      0.09        43\n",
      "\n",
      "avg / total       0.98      0.90      0.94      3630\n",
      "\n",
      "[[3240  347]\n",
      " [  25   18]]\n",
      "\n",
      "Average accuracy 0.7263\n"
     ]
    }
   ],
   "source": [
    "accuracy_train,avg_accuracy_train = accuracy(dtrain_target,pred_train,opt_n_nbrs,reports=True)"
   ]
  },
  {
   "cell_type": "markdown",
   "metadata": {},
   "source": [
    "Calculate Pearson similarity for test set"
   ]
  },
  {
   "cell_type": "code",
   "execution_count": 19,
   "metadata": {
    "collapsed": false
   },
   "outputs": [],
   "source": [
    "def similarity_test(dtrain_matrix,dtest_matrix):\n",
    "    t0 = time.time()\n",
    "    similarity_test = (1-cdist(dtest_matrix,dtrain_matrix,'correlation'))\n",
    "    t1 = time.time()\n",
    "    time_sim_test = t1-t0\n",
    "    print('Similarity time test %.4g' % time_sim_test)\n",
    "    return time_sim_test,similarity_test"
   ]
  },
  {
   "cell_type": "code",
   "execution_count": 20,
   "metadata": {
    "collapsed": false
   },
   "outputs": [
    {
     "name": "stdout",
     "output_type": "stream",
     "text": [
      "Similarity time test 0.2956\n"
     ]
    }
   ],
   "source": [
    "time_sim_test,similarity_test = similarity_test(dtrain_matrix,dtest_matrix)"
   ]
  },
  {
   "cell_type": "markdown",
   "metadata": {},
   "source": [
    "Predict items for test set"
   ]
  },
  {
   "cell_type": "code",
   "execution_count": 21,
   "metadata": {
    "collapsed": false
   },
   "outputs": [
    {
     "name": "stdout",
     "output_type": "stream",
     "text": [
      "Prediction time 25.64\n"
     ]
    }
   ],
   "source": [
    "time_pred_test,opt_n_nbrs,pred_test = prediction(dtrain_target,similarity_test,opt_n_nbrs)"
   ]
  },
  {
   "cell_type": "markdown",
   "metadata": {},
   "source": [
    "Calculate the accuracy for the test set"
   ]
  },
  {
   "cell_type": "code",
   "execution_count": 22,
   "metadata": {
    "collapsed": false
   },
   "outputs": [
    {
     "name": "stdout",
     "output_type": "stream",
     "text": [
      "\n",
      "Model Report: k = 10 \n",
      "\n",
      "AntAktAvtBank 0.9017\n",
      "             precision    recall  f1-score   support\n",
      "\n",
      "          0       0.61      0.16      0.25       126\n",
      "          1       0.91      0.99      0.95      1084\n",
      "\n",
      "avg / total       0.88      0.90      0.87      1210\n",
      "\n",
      "[[  20  106]\n",
      " [  13 1071]]\n",
      "AntAktAvtInnskudd 0.9339\n",
      "             precision    recall  f1-score   support\n",
      "\n",
      "          0       0.60      0.18      0.27        85\n",
      "          1       0.94      0.99      0.97      1125\n",
      "\n",
      "avg / total       0.92      0.93      0.92      1210\n",
      "\n",
      "[[  15   70]\n",
      " [  10 1115]]\n",
      "AntAktAvtKredittkort 0.6124\n",
      "             precision    recall  f1-score   support\n",
      "\n",
      "          0       0.61      0.04      0.08       476\n",
      "          1       0.61      0.98      0.75       734\n",
      "\n",
      "avg / total       0.61      0.61      0.49      1210\n",
      "\n",
      "[[ 20 456]\n",
      " [ 13 721]]\n",
      "AntKredittkortDebet 0.4008\n",
      "             precision    recall  f1-score   support\n",
      "\n",
      "          0       1.00      0.23      0.37       937\n",
      "          1       0.27      1.00      0.43       273\n",
      "\n",
      "avg / total       0.84      0.40      0.38      1210\n",
      "\n",
      "[[212 725]\n",
      " [  0 273]]\n",
      "AntKredittkortKreditt 0.3595\n",
      "             precision    recall  f1-score   support\n",
      "\n",
      "          0       0.99      0.34      0.50      1162\n",
      "          1       0.05      0.90      0.10        48\n",
      "\n",
      "avg / total       0.95      0.36      0.49      1210\n",
      "\n",
      "[[392 770]\n",
      " [  5  43]]\n",
      "AntSparekonto 0.7686\n",
      "             precision    recall  f1-score   support\n",
      "\n",
      "          0       0.59      0.60      0.59       341\n",
      "          1       0.84      0.83      0.84       869\n",
      "\n",
      "avg / total       0.77      0.77      0.77      1210\n",
      "\n",
      "[[205 136]\n",
      " [144 725]]\n",
      "AntBrukskonto 0.8587\n",
      "             precision    recall  f1-score   support\n",
      "\n",
      "          0       0.71      0.72      0.71       295\n",
      "          1       0.91      0.90      0.91       915\n",
      "\n",
      "avg / total       0.86      0.86      0.86      1210\n",
      "\n",
      "[[212  83]\n",
      " [ 88 827]]\n",
      "AntAvtBSU 0.438\n",
      "             precision    recall  f1-score   support\n",
      "\n",
      "          0       0.99      0.36      0.53      1064\n",
      "          1       0.17      0.97      0.29       146\n",
      "\n",
      "avg / total       0.89      0.44      0.50      1210\n",
      "\n",
      "[[388 676]\n",
      " [  4 142]]\n",
      "AntAktiveSkadefors 0.4893\n",
      "             precision    recall  f1-score   support\n",
      "\n",
      "          0       0.99      0.44      0.61      1096\n",
      "          1       0.15      0.94      0.26       114\n",
      "\n",
      "avg / total       0.91      0.49      0.58      1210\n",
      "\n",
      "[[485 611]\n",
      " [  7 107]]\n",
      "AntAktiv_AndreForsikringer 0.5793\n",
      "             precision    recall  f1-score   support\n",
      "\n",
      "          0       0.97      0.55      0.70      1096\n",
      "          1       0.17      0.86      0.28       114\n",
      "\n",
      "avg / total       0.90      0.58      0.66      1210\n",
      "\n",
      "[[603 493]\n",
      " [ 16  98]]\n",
      "AntAktSpareforsikring 0.6306\n",
      "             precision    recall  f1-score   support\n",
      "\n",
      "          0       0.85      0.65      0.74       967\n",
      "          1       0.28      0.53      0.37       243\n",
      "\n",
      "avg / total       0.73      0.63      0.66      1210\n",
      "\n",
      "[[633 334]\n",
      " [113 130]]\n",
      "AntAktUtlanAvt 0.8529\n",
      "             precision    recall  f1-score   support\n",
      "\n",
      "          0       0.97      0.85      0.91      1004\n",
      "          1       0.54      0.86      0.67       206\n",
      "\n",
      "avg / total       0.89      0.85      0.86      1210\n",
      "\n",
      "[[855 149]\n",
      " [ 29 177]]\n",
      "AntAktBoliglan 0.9058\n",
      "             precision    recall  f1-score   support\n",
      "\n",
      "          0       0.96      0.92      0.94      1006\n",
      "          1       0.68      0.82      0.75       204\n",
      "\n",
      "avg / total       0.92      0.91      0.91      1210\n",
      "\n",
      "[[928  78]\n",
      " [ 36 168]]\n",
      "DNBAntAktBoliglan 0.8612\n",
      "             precision    recall  f1-score   support\n",
      "\n",
      "          0       0.98      0.87      0.92      1158\n",
      "          1       0.19      0.69      0.30        52\n",
      "\n",
      "avg / total       0.95      0.86      0.90      1210\n",
      "\n",
      "[[1006  152]\n",
      " [  16   36]]\n",
      "AntAktGaranterte 0.8661\n",
      "             precision    recall  f1-score   support\n",
      "\n",
      "          0       0.97      0.89      0.93      1151\n",
      "          1       0.18      0.47      0.26        59\n",
      "\n",
      "avg / total       0.93      0.87      0.89      1210\n",
      "\n",
      "[[1020  131]\n",
      " [  31   28]]\n",
      "AntAktLink 0.8843\n",
      "             precision    recall  f1-score   support\n",
      "\n",
      "          0       0.99      0.89      0.94      1190\n",
      "          1       0.06      0.40      0.10        20\n",
      "\n",
      "avg / total       0.97      0.88      0.92      1210\n",
      "\n",
      "[[1062  128]\n",
      " [  12    8]]\n",
      "\n",
      "Average accuracy 0.7089\n"
     ]
    }
   ],
   "source": [
    "accuracy_test,avg_accuracy_test = accuracy(dtest_target,pred_test,opt_n_nbrs,reports=True)"
   ]
  },
  {
   "cell_type": "markdown",
   "metadata": {},
   "source": [
    "### Save result files"
   ]
  },
  {
   "cell_type": "markdown",
   "metadata": {},
   "source": [
    "Save predictions to csv"
   ]
  },
  {
   "cell_type": "code",
   "execution_count": 23,
   "metadata": {
    "collapsed": true
   },
   "outputs": [],
   "source": [
    "pred_train_file=pd.DataFrame(pred_train)\n",
    "pred_test_file=pd.DataFrame(pred_test)"
   ]
  },
  {
   "cell_type": "code",
   "execution_count": 24,
   "metadata": {
    "collapsed": true
   },
   "outputs": [],
   "source": [
    "pred_train_file.to_csv('Results/Demographic_predictions_train.csv',index=False)\n",
    "pred_test_file.to_csv('Results/Demographic_predictions_test.csv',index=False)"
   ]
  },
  {
   "cell_type": "markdown",
   "metadata": {},
   "source": [
    "Save true target values to csv"
   ]
  },
  {
   "cell_type": "code",
   "execution_count": 25,
   "metadata": {
    "collapsed": true
   },
   "outputs": [],
   "source": [
    "dtrain_target_file=pd.DataFrame(dtrain_target)\n",
    "dtest_target_file=pd.DataFrame(dtest_target)"
   ]
  },
  {
   "cell_type": "code",
   "execution_count": 26,
   "metadata": {
    "collapsed": true
   },
   "outputs": [],
   "source": [
    "dtrain_target_file.to_csv('Results/Target_train.csv',index=False)\n",
    "dtest_target_file.to_csv('Results/Target_test.csv',index=False)"
   ]
  },
  {
   "cell_type": "markdown",
   "metadata": {},
   "source": [
    "Save train and test accuracies to csv"
   ]
  },
  {
   "cell_type": "code",
   "execution_count": 27,
   "metadata": {
    "collapsed": true
   },
   "outputs": [],
   "source": [
    "dtrain_accuracy_file=pd.DataFrame(accuracy_train)\n",
    "dtest_accuracy_file=pd.DataFrame(accuracy_test)"
   ]
  },
  {
   "cell_type": "code",
   "execution_count": 28,
   "metadata": {
    "collapsed": true
   },
   "outputs": [],
   "source": [
    "dtrain_accuracy_file.to_csv('Results/Demographic_accuracy_train.csv',index=False)\n",
    "dtest_accuracy_file.to_csv('Results/Demographic_accuracy_test.csv',index=False)"
   ]
  },
  {
   "cell_type": "markdown",
   "metadata": {},
   "source": [
    "Save similarity matrices to csv"
   ]
  },
  {
   "cell_type": "code",
   "execution_count": 29,
   "metadata": {
    "collapsed": true
   },
   "outputs": [],
   "source": [
    "dtrain_similarity_file=pd.DataFrame(similarity_train)\n",
    "dtest_similarity_file=pd.DataFrame(similarity_test)"
   ]
  },
  {
   "cell_type": "code",
   "execution_count": 30,
   "metadata": {
    "collapsed": true
   },
   "outputs": [],
   "source": [
    "dtrain_similarity_file.to_csv('Results/Demographic_similarity_train.csv',index=False)\n",
    "dtest_similarity_file.to_csv('Results/Demographic_similarity_test.csv',index=False)"
   ]
  }
 ],
 "metadata": {
  "anaconda-cloud": {},
  "kernelspec": {
   "display_name": "Python [conda env:py3.2]",
   "language": "python",
   "name": "conda-env-py3.2-py"
  },
  "language_info": {
   "codemirror_mode": {
    "name": "ipython",
    "version": 3
   },
   "file_extension": ".py",
   "mimetype": "text/x-python",
   "name": "python",
   "nbconvert_exporter": "python",
   "pygments_lexer": "ipython3",
   "version": "3.6.0"
  }
 },
 "nbformat": 4,
 "nbformat_minor": 2
}
