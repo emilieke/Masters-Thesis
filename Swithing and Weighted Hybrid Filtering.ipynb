{
 "cells": [
  {
   "cell_type": "markdown",
   "metadata": {},
   "source": [
    "# Hybrid Filtering Recommendation Model"
   ]
  },
  {
   "cell_type": "markdown",
   "metadata": {},
   "source": [
    "Import libraries"
   ]
  },
  {
   "cell_type": "code",
   "execution_count": 1,
   "metadata": {
    "collapsed": true
   },
   "outputs": [],
   "source": [
    "import time\n",
    "import pandas as pd\n",
    "import numpy as np\n",
    "from sklearn import metrics\n",
    "from sklearn.metrics import confusion_matrix, classification_report\n",
    "from collections import defaultdict"
   ]
  },
  {
   "cell_type": "markdown",
   "metadata": {},
   "source": [
    "Load data"
   ]
  },
  {
   "cell_type": "code",
   "execution_count": 2,
   "metadata": {
    "collapsed": false
   },
   "outputs": [],
   "source": [
    "dtrain_target = pd.read_csv('Results/Target_train.csv')\n",
    "dtest_target = pd.read_csv('Results/Target_test.csv')"
   ]
  },
  {
   "cell_type": "markdown",
   "metadata": {},
   "source": [
    "Get predictions and accuracies from the demographic and collaborative filtering methods"
   ]
  },
  {
   "cell_type": "code",
   "execution_count": 3,
   "metadata": {
    "collapsed": true
   },
   "outputs": [],
   "source": [
    "def get_demo_pred():\n",
    "    pred_file_train = pd.read_csv('Results/Demographic_predictions_train.csv')\n",
    "    pred_file_test = pd.read_csv('Results/Demographic_predictions_test.csv')\n",
    "    return pred_file_train,pred_file_test\n",
    "\n",
    "def get_col_pred():\n",
    "    pred_file_train = pd.read_csv('Results/Collaborative_predictions_train.csv')\n",
    "    pred_file_test = pd.read_csv('Results/Collaborative_predictions_test.csv')\n",
    "    return pred_file_train,pred_file_test"
   ]
  },
  {
   "cell_type": "code",
   "execution_count": 4,
   "metadata": {
    "collapsed": false
   },
   "outputs": [],
   "source": [
    "demo_pred_train,demo_pred_test = get_demo_pred()\n",
    "col_pred_train,col_pred_test = get_col_pred()"
   ]
  },
  {
   "cell_type": "code",
   "execution_count": 5,
   "metadata": {
    "collapsed": true
   },
   "outputs": [],
   "source": [
    "def get_demo_accuracy():\n",
    "    accuracy_train = pd.read_csv('Results/Demographic_accuracy_train.csv')\n",
    "    return accuracy_train\n",
    "\n",
    "def get_col_accuracy():\n",
    "    accuracy_train = pd.read_csv('Results/Collaborative_accuracy_train.csv')\n",
    "    return accuracy_train"
   ]
  },
  {
   "cell_type": "code",
   "execution_count": 6,
   "metadata": {
    "collapsed": true
   },
   "outputs": [],
   "source": [
    "demo_accuracy = get_demo_accuracy()\n",
    "col_accuracy = get_col_accuracy()"
   ]
  },
  {
   "cell_type": "markdown",
   "metadata": {},
   "source": [
    "## Hybrid filtering with switching"
   ]
  },
  {
   "cell_type": "markdown",
   "metadata": {},
   "source": [
    "Get predictions from the switching hybrid approach"
   ]
  },
  {
   "cell_type": "code",
   "execution_count": 7,
   "metadata": {
    "collapsed": true
   },
   "outputs": [],
   "source": [
    "def switching_hybrid_pred(demo_pred,col_pred,demo_accuracy,col_accuracy):\n",
    "    t0 = time.time()\n",
    "    n_users = len(demo_pred)\n",
    "    n_items = len(demo_accuracy)\n",
    "    pred = np.zeros((n_users,n_items))\n",
    "    \n",
    "    for u in range (n_users):\n",
    "        for i in range (n_items):\n",
    "            if (demo_accuracy.values[i] > col_accuracy.values[i]):\n",
    "                pred[u,i] = demo_pred.values[u,i]\n",
    "            else:\n",
    "                pred[u,i] = col_pred.values[u,i]\n",
    "    t1 = time.time()\n",
    "    time_pred = t1-t0\n",
    "    print('Prediction time %.4g' % time_pred)\n",
    "    return time_pred,pred"
   ]
  },
  {
   "cell_type": "markdown",
   "metadata": {},
   "source": [
    "Train set predictions "
   ]
  },
  {
   "cell_type": "code",
   "execution_count": 8,
   "metadata": {
    "collapsed": false
   },
   "outputs": [
    {
     "name": "stdout",
     "output_type": "stream",
     "text": [
      "Prediction time 4.597\n"
     ]
    }
   ],
   "source": [
    "time_pred_train,switching_pred_train = switching_hybrid_pred(demo_pred_train,col_pred_train,demo_accuracy,col_accuracy)"
   ]
  },
  {
   "cell_type": "markdown",
   "metadata": {},
   "source": [
    "Calculate the accuracy for train set"
   ]
  },
  {
   "cell_type": "code",
   "execution_count": 9,
   "metadata": {
    "collapsed": true
   },
   "outputs": [],
   "source": [
    "def accuracy(target,pred,reports=False):\n",
    "    print('\\nModel Report: \\n')\n",
    "    i=0\n",
    "    accuracy_lst=[]\n",
    "    for col in target.columns:\n",
    "        accuracy = metrics.accuracy_score(target.values[:,i],pred[:,i])\n",
    "        accuracy_lst.append(accuracy)\n",
    "        print (col, '%.4g' % accuracy)\n",
    "        if(reports==True):\n",
    "            report = classification_report(target.values[:,i],pred[:,i])\n",
    "            print(report)\n",
    "            cm = confusion_matrix(target.values[:,i],pred[:,i])\n",
    "            print(cm)\n",
    "        i+=1\n",
    "\n",
    "    avg_accuracy = np.average(accuracy_lst)\n",
    "    print('\\nTotal accuracy %.4g' % avg_accuracy)\n",
    "    return accuracy_lst,avg_accuracy"
   ]
  },
  {
   "cell_type": "code",
   "execution_count": 10,
   "metadata": {
    "collapsed": false
   },
   "outputs": [
    {
     "name": "stdout",
     "output_type": "stream",
     "text": [
      "\n",
      "Model Report: \n",
      "\n",
      "AntAktAvtBank 0.9477\n",
      "             precision    recall  f1-score   support\n",
      "\n",
      "          0       0.87      0.59      0.70       383\n",
      "          1       0.95      0.99      0.97      3247\n",
      "\n",
      "avg / total       0.94      0.95      0.94      3630\n",
      "\n",
      "[[ 227  156]\n",
      " [  34 3213]]\n",
      "AntAktAvtInnskudd 0.9785\n",
      "             precision    recall  f1-score   support\n",
      "\n",
      "          0       0.89      0.82      0.85       277\n",
      "          1       0.99      0.99      0.99      3353\n",
      "\n",
      "avg / total       0.98      0.98      0.98      3630\n",
      "\n",
      "[[ 227   50]\n",
      " [  28 3325]]\n",
      "AntAktAvtKredittkort 0.735\n",
      "             precision    recall  f1-score   support\n",
      "\n",
      "          0       0.61      0.91      0.73      1434\n",
      "          1       0.91      0.62      0.74      2196\n",
      "\n",
      "avg / total       0.79      0.73      0.74      3630\n",
      "\n",
      "[[1303  131]\n",
      " [ 831 1365]]\n",
      "AntKredittkortDebet 0.7545\n",
      "             precision    recall  f1-score   support\n",
      "\n",
      "          0       0.87      0.79      0.83      2726\n",
      "          1       0.51      0.64      0.57       904\n",
      "\n",
      "avg / total       0.78      0.75      0.76      3630\n",
      "\n",
      "[[2157  569]\n",
      " [ 322  582]]\n",
      "AntKredittkortKreditt 0.9584\n",
      "             precision    recall  f1-score   support\n",
      "\n",
      "          0       0.96      1.00      0.98      3479\n",
      "          1       0.00      0.00      0.00       151\n",
      "\n",
      "avg / total       0.92      0.96      0.94      3630\n",
      "\n",
      "[[3479    0]\n",
      " [ 151    0]]\n",
      "AntSparekonto 0.7865\n",
      "             precision    recall  f1-score   support\n",
      "\n",
      "          0       0.89      0.33      0.48      1083\n",
      "          1       0.77      0.98      0.87      2547\n",
      "\n",
      "avg / total       0.81      0.79      0.75      3630\n",
      "\n",
      "[[ 352  731]\n",
      " [  44 2503]]"
     ]
    },
    {
     "name": "stderr",
     "output_type": "stream",
     "text": [
      "/Users/Emilie/anaconda/envs/py3.2/lib/python3.6/site-packages/sklearn/metrics/classification.py:1113: UndefinedMetricWarning: Precision and F-score are ill-defined and being set to 0.0 in labels with no predicted samples.\n",
      "  'precision', 'predicted', average, warn_for)\n"
     ]
    },
    {
     "name": "stdout",
     "output_type": "stream",
     "text": [
      "\n",
      "AntBrukskonto 0.841\n",
      "             precision    recall  f1-score   support\n",
      "\n",
      "          0       0.63      0.77      0.70       852\n",
      "          1       0.93      0.86      0.89      2778\n",
      "\n",
      "avg / total       0.86      0.84      0.85      3630\n",
      "\n",
      "[[ 659  193]\n",
      " [ 384 2394]]\n",
      "AntAvtBSU 0.8923\n",
      "             precision    recall  f1-score   support\n",
      "\n",
      "          0       0.89      1.00      0.94      3239\n",
      "          1       0.00      0.00      0.00       391\n",
      "\n",
      "avg / total       0.80      0.89      0.84      3630\n",
      "\n",
      "[[3239    0]\n",
      " [ 391    0]]\n",
      "AntAktiveSkadefors 0.9964\n",
      "             precision    recall  f1-score   support\n",
      "\n",
      "          0       1.00      1.00      1.00      3258\n",
      "          1       1.00      0.97      0.98       372\n",
      "\n",
      "avg / total       1.00      1.00      1.00      3630\n",
      "\n",
      "[[3258    0]\n",
      " [  13  359]]\n",
      "AntAktiv_AndreForsikringer 0.9964\n",
      "             precision    recall  f1-score   support\n",
      "\n",
      "          0       1.00      1.00      1.00      3259\n",
      "          1       1.00      0.97      0.98       371\n",
      "\n",
      "avg / total       1.00      1.00      1.00      3630\n",
      "\n",
      "[[3258    1]\n",
      " [  12  359]]\n",
      "AntAktSpareforsikring 0.8388\n",
      "             precision    recall  f1-score   support\n",
      "\n",
      "          0       0.83      1.00      0.91      2899\n",
      "          1       1.00      0.20      0.33       731\n",
      "\n",
      "avg / total       0.87      0.84      0.79      3630\n",
      "\n",
      "[[2899    0]\n",
      " [ 585  146]]\n",
      "AntAktUtlanAvt 0.9956\n",
      "             precision    recall  f1-score   support\n",
      "\n",
      "          0       1.00      1.00      1.00      2982\n",
      "          1       0.99      0.99      0.99       648\n",
      "\n",
      "avg / total       1.00      1.00      1.00      3630\n",
      "\n",
      "[[2975    7]\n",
      " [   9  639]]\n",
      "AntAktBoliglan 0.9959\n",
      "             precision    recall  f1-score   support\n",
      "\n",
      "          0       1.00      1.00      1.00      2989\n",
      "          1       0.98      1.00      0.99       641\n",
      "\n",
      "avg / total       1.00      1.00      1.00      3630\n",
      "\n",
      "[[2976   13]\n",
      " [   2  639]]\n",
      "DNBAntAktBoliglan 0.9529\n",
      "             precision    recall  f1-score   support\n",
      "\n",
      "          0       0.95      1.00      0.98      3465\n",
      "          1       0.00      0.00      0.00       165\n",
      "\n",
      "avg / total       0.91      0.95      0.93      3630\n",
      "\n",
      "[[3459    6]\n",
      " [ 165    0]]\n",
      "AntAktGaranterte 0.9567\n",
      "             precision    recall  f1-score   support\n",
      "\n",
      "          0       0.96      1.00      0.98      3470\n",
      "          1       0.80      0.03      0.05       160\n",
      "\n",
      "avg / total       0.95      0.96      0.94      3630\n",
      "\n",
      "[[3469    1]\n",
      " [ 156    4]]\n",
      "AntAktLink 0.9882\n",
      "             precision    recall  f1-score   support\n",
      "\n",
      "          0       0.99      1.00      0.99      3587\n",
      "          1       0.00      0.00      0.00        43\n",
      "\n",
      "avg / total       0.98      0.99      0.98      3630\n",
      "\n",
      "[[3587    0]\n",
      " [  43    0]]\n",
      "\n",
      "Total accuracy 0.9134\n"
     ]
    }
   ],
   "source": [
    "switching_accuracy_train,switching_avg_accuracy_train = accuracy(dtrain_target,switching_pred_train,reports=True)"
   ]
  },
  {
   "cell_type": "markdown",
   "metadata": {},
   "source": [
    "Test set predictions "
   ]
  },
  {
   "cell_type": "code",
   "execution_count": 11,
   "metadata": {
    "collapsed": false
   },
   "outputs": [
    {
     "name": "stdout",
     "output_type": "stream",
     "text": [
      "Prediction time 1.693\n"
     ]
    }
   ],
   "source": [
    "time_pred_test,switching_pred_test = switching_hybrid_pred(demo_pred_test,col_pred_test,demo_accuracy,col_accuracy)"
   ]
  },
  {
   "cell_type": "markdown",
   "metadata": {},
   "source": [
    "Calculate the accuracy for the test set"
   ]
  },
  {
   "cell_type": "code",
   "execution_count": 12,
   "metadata": {
    "collapsed": false
   },
   "outputs": [
    {
     "name": "stdout",
     "output_type": "stream",
     "text": [
      "\n",
      "Model Report: \n",
      "\n",
      "AntAktAvtBank 0.9455\n",
      "             precision    recall  f1-score   support\n",
      "\n",
      "          0       0.87      0.56      0.68       126\n",
      "          1       0.95      0.99      0.97      1084\n",
      "\n",
      "avg / total       0.94      0.95      0.94      1210\n",
      "\n",
      "[[  71   55]\n",
      " [  11 1073]]\n",
      "AntAktAvtInnskudd 0.976\n",
      "             precision    recall  f1-score   support\n",
      "\n",
      "          0       0.82      0.85      0.83        85\n",
      "          1       0.99      0.99      0.99      1125\n",
      "\n",
      "avg / total       0.98      0.98      0.98      1210\n",
      "\n",
      "[[  72   13]\n",
      " [  16 1109]]\n",
      "AntAktAvtKredittkort 0.7058\n",
      "             precision    recall  f1-score   support\n",
      "\n",
      "          0       0.58      0.91      0.71       476\n",
      "          1       0.91      0.57      0.70       734\n",
      "\n",
      "avg / total       0.78      0.71      0.71      1210\n",
      "\n",
      "[[432  44]\n",
      " [312 422]]\n",
      "AntKredittkortDebet 0.7736\n",
      "             precision    recall  f1-score   support\n",
      "\n",
      "          0       0.89      0.81      0.85       937\n",
      "          1       0.50      0.65      0.56       273\n",
      "\n",
      "avg / total       0.80      0.77      0.78      1210\n",
      "\n",
      "[[759 178]\n",
      " [ 96 177]]\n",
      "AntKredittkortKreditt 0.9603\n",
      "             precision    recall  f1-score   support\n",
      "\n",
      "          0       0.96      1.00      0.98      1162\n",
      "          1       0.00      0.00      0.00        48\n",
      "\n",
      "avg / total       0.92      0.96      0.94      1210\n",
      "\n",
      "[[1162    0]\n",
      " [  48    0]]\n",
      "AntSparekonto 0.7967\n",
      "             precision    recall  f1-score   support\n",
      "\n",
      "          0       0.88      0.32      0.47       341\n",
      "          1       0.79      0.98      0.87       869\n",
      "\n",
      "avg / total       0.81      0.80      0.76      1210\n",
      "\n",
      "[[110 231]\n",
      " [ 15 854]]\n",
      "AntBrukskonto 0.8587\n",
      "             precision    recall  f1-score   support\n",
      "\n",
      "          0       0.71      0.72      0.71       295\n",
      "          1       0.91      0.90      0.91       915\n",
      "\n",
      "avg / total       0.86      0.86      0.86      1210\n",
      "\n",
      "[[212  83]\n",
      " [ 88 827]]\n",
      "AntAvtBSU 0.8793\n",
      "             precision    recall  f1-score   support\n",
      "\n",
      "          0       0.88      1.00      0.94      1064\n",
      "          1       0.00      0.00      0.00       146\n",
      "\n",
      "avg / total       0.77      0.88      0.82      1210\n",
      "\n",
      "[[1064    0]\n",
      " [ 146    0]]\n",
      "AntAktiveSkadefors 0.9959\n",
      "             precision    recall  f1-score   support\n",
      "\n",
      "          0       1.00      1.00      1.00      1096\n",
      "          1       1.00      0.96      0.98       114\n",
      "\n",
      "avg / total       1.00      1.00      1.00      1210\n",
      "\n",
      "[[1096    0]\n",
      " [   5  109]]\n",
      "AntAktiv_AndreForsikringer 0.9959\n",
      "             precision    recall  f1-score   support\n",
      "\n",
      "          0       1.00      1.00      1.00      1096\n",
      "          1       1.00      0.96      0.98       114\n",
      "\n",
      "avg / total       1.00      1.00      1.00      1210\n",
      "\n",
      "[[1096    0]\n",
      " [   5  109]]\n",
      "AntAktSpareforsikring 0.8455\n",
      "             precision    recall  f1-score   support\n",
      "\n",
      "          0       0.84      1.00      0.91       967\n",
      "          1       1.00      0.23      0.37       243\n",
      "\n",
      "avg / total       0.87      0.85      0.80      1210\n",
      "\n",
      "[[967   0]\n",
      " [187  56]]\n",
      "AntAktUtlanAvt 0.9942\n",
      "             precision    recall  f1-score   support\n",
      "\n",
      "          0       1.00      1.00      1.00      1004\n",
      "          1       0.99      0.98      0.98       206\n",
      "\n",
      "avg / total       0.99      0.99      0.99      1210\n",
      "\n",
      "[[1001    3]\n",
      " [   4  202]]\n",
      "AntAktBoliglan 0.9942\n",
      "             precision    recall  f1-score   support\n",
      "\n",
      "          0       1.00      1.00      1.00      1006\n",
      "          1       0.98      0.99      0.98       204\n",
      "\n",
      "avg / total       0.99      0.99      0.99      1210\n",
      "\n",
      "[[1001    5]\n",
      " [   2  202]]\n",
      "DNBAntAktBoliglan 0.9579\n",
      "             precision    recall  f1-score   support\n",
      "\n",
      "          0       0.96      1.00      0.98      1158\n",
      "          1       0.67      0.04      0.07        52\n",
      "\n",
      "avg / total       0.95      0.96      0.94      1210\n",
      "\n",
      "[[1157    1]\n",
      " [  50    2]]\n",
      "AntAktGaranterte 0.9521\n",
      "             precision    recall  f1-score   support\n",
      "\n",
      "          0       0.95      1.00      0.98      1151\n",
      "          1       0.67      0.03      0.06        59\n",
      "\n",
      "avg / total       0.94      0.95      0.93      1210\n",
      "\n",
      "[[1150    1]\n",
      " [  57    2]]\n",
      "AntAktLink 0.9835\n",
      "             precision    recall  f1-score   support\n",
      "\n",
      "          0       0.98      1.00      0.99      1190\n",
      "          1       0.00      0.00      0.00        20\n",
      "\n",
      "avg / total       0.97      0.98      0.98      1210\n",
      "\n",
      "[[1190    0]\n",
      " [  20    0]]\n",
      "\n",
      "Total accuracy 0.9134\n"
     ]
    },
    {
     "name": "stderr",
     "output_type": "stream",
     "text": [
      "/Users/Emilie/anaconda/envs/py3.2/lib/python3.6/site-packages/sklearn/metrics/classification.py:1113: UndefinedMetricWarning: Precision and F-score are ill-defined and being set to 0.0 in labels with no predicted samples.\n",
      "  'precision', 'predicted', average, warn_for)\n"
     ]
    }
   ],
   "source": [
    "switching_accuracy_test,switching_avg_accuracy_test = accuracy(dtest_target,switching_pred_test,reports=True)"
   ]
  },
  {
   "cell_type": "markdown",
   "metadata": {},
   "source": [
    "## Weighted Hybrid filtering"
   ]
  },
  {
   "cell_type": "markdown",
   "metadata": {},
   "source": [
    "Get predictions from the weighted hybrid approach"
   ]
  },
  {
   "cell_type": "code",
   "execution_count": 13,
   "metadata": {
    "collapsed": true
   },
   "outputs": [],
   "source": [
    "def weighted_hybrid_pred(demo_pred,col_pred,demo_accuracy,col_accuracy):\n",
    "    t0 = time.time()\n",
    "    n_users = len(demo_pred)\n",
    "    n_items = len(demo_accuracy)\n",
    "    pred = np.zeros((n_users,n_items))\n",
    "    \n",
    "    for i in range (n_items):\n",
    "        alpha = demo_accuracy.values[i]/(demo_accuracy.values[i]+col_accuracy.values[i])\n",
    "        for u in range (n_users):\n",
    "            pred[u,i] = np.round(alpha*demo_pred.values[u,i] + (1-alpha)*col_pred.values[u,i])\n",
    "    t1 = time.time()\n",
    "    time_pred = t1-t0\n",
    "    print('Prediction time %.4g' % time_pred)\n",
    "    return time_pred,pred"
   ]
  },
  {
   "cell_type": "markdown",
   "metadata": {},
   "source": [
    "Train set predictions"
   ]
  },
  {
   "cell_type": "code",
   "execution_count": 14,
   "metadata": {
    "collapsed": false
   },
   "outputs": [
    {
     "name": "stdout",
     "output_type": "stream",
     "text": [
      "Prediction time 6.393\n"
     ]
    }
   ],
   "source": [
    "time_pred_train,weighted_pred_train = weighted_hybrid_pred(demo_pred_train,col_pred_train,demo_accuracy,col_accuracy)"
   ]
  },
  {
   "cell_type": "markdown",
   "metadata": {},
   "source": [
    "Train set accuracy"
   ]
  },
  {
   "cell_type": "code",
   "execution_count": 15,
   "metadata": {
    "collapsed": false
   },
   "outputs": [
    {
     "name": "stdout",
     "output_type": "stream",
     "text": [
      "\n",
      "Model Report: \n",
      "\n",
      "AntAktAvtBank 0.9477\n",
      "             precision    recall  f1-score   support\n",
      "\n",
      "          0       0.87      0.59      0.70       383\n",
      "          1       0.95      0.99      0.97      3247\n",
      "\n",
      "avg / total       0.94      0.95      0.94      3630\n",
      "\n",
      "[[ 227  156]\n",
      " [  34 3213]]\n",
      "AntAktAvtInnskudd 0.9785\n",
      "             precision    recall  f1-score   support\n",
      "\n",
      "          0       0.89      0.82      0.85       277\n",
      "          1       0.99      0.99      0.99      3353\n",
      "\n",
      "avg / total       0.98      0.98      0.98      3630\n",
      "\n",
      "[[ 227   50]\n",
      " [  28 3325]]\n",
      "AntAktAvtKredittkort 0.735\n",
      "             precision    recall  f1-score   support\n",
      "\n",
      "          0       0.61      0.91      0.73      1434\n",
      "          1       0.91      0.62      0.74      2196\n",
      "\n",
      "avg / total       0.79      0.73      0.74      3630\n",
      "\n",
      "[[1303  131]\n",
      " [ 831 1365]]\n",
      "AntKredittkortDebet 0.7545\n",
      "             precision    recall  f1-score   support\n",
      "\n",
      "          0       0.87      0.79      0.83      2726\n",
      "          1       0.51      0.64      0.57       904\n",
      "\n",
      "avg / total       0.78      0.75      0.76      3630\n",
      "\n",
      "[[2157  569]\n",
      " [ 322  582]]\n",
      "AntKredittkortKreditt 0.9584\n",
      "             precision    recall  f1-score   support\n",
      "\n",
      "          0       0.96      1.00      0.98      3479\n",
      "          1       0.00      0.00      0.00       151\n",
      "\n",
      "avg / total       0.92      0.96      0.94      3630\n",
      "\n",
      "[[3479    0]\n",
      " [ 151    0]]\n",
      "AntSparekonto 0.7865\n",
      "             precision    recall  f1-score   support\n",
      "\n",
      "          0       0.89      0.33      0.48      1083\n",
      "          1       0.77      0.98      0.87      2547\n",
      "\n",
      "avg / total       0.81      0.79      0.75      3630\n",
      "\n",
      "[[ 352  731]\n",
      " [  44 2503]]\n",
      "AntBrukskonto 0.841\n",
      "             precision    recall  f1-score   support\n",
      "\n",
      "          0       0.63      0.77      0.70       852\n",
      "          1       0.93      0.86      0.89      2778\n",
      "\n",
      "avg / total       0.86      0.84      0.85      3630\n",
      "\n",
      "[[ 659  193]\n",
      " [ 384 2394]]\n",
      "AntAvtBSU 0.8923\n"
     ]
    },
    {
     "name": "stderr",
     "output_type": "stream",
     "text": [
      "/Users/Emilie/anaconda/envs/py3.2/lib/python3.6/site-packages/sklearn/metrics/classification.py:1113: UndefinedMetricWarning: Precision and F-score are ill-defined and being set to 0.0 in labels with no predicted samples.\n",
      "  'precision', 'predicted', average, warn_for)\n"
     ]
    },
    {
     "name": "stdout",
     "output_type": "stream",
     "text": [
      "             precision    recall  f1-score   support\n",
      "\n",
      "          0       0.89      1.00      0.94      3239\n",
      "          1       0.00      0.00      0.00       391\n",
      "\n",
      "avg / total       0.80      0.89      0.84      3630\n",
      "\n",
      "[[3239    0]\n",
      " [ 391    0]]\n",
      "AntAktiveSkadefors 0.9964\n",
      "             precision    recall  f1-score   support\n",
      "\n",
      "          0       1.00      1.00      1.00      3258\n",
      "          1       1.00      0.97      0.98       372\n",
      "\n",
      "avg / total       1.00      1.00      1.00      3630\n",
      "\n",
      "[[3258    0]\n",
      " [  13  359]]\n",
      "AntAktiv_AndreForsikringer 0.9964\n",
      "             precision    recall  f1-score   support\n",
      "\n",
      "          0       1.00      1.00      1.00      3259\n",
      "          1       1.00      0.97      0.98       371\n",
      "\n",
      "avg / total       1.00      1.00      1.00      3630\n",
      "\n",
      "[[3258    1]\n",
      " [  12  359]]\n",
      "AntAktSpareforsikring 0.8388\n",
      "             precision    recall  f1-score   support\n",
      "\n",
      "          0       0.83      1.00      0.91      2899\n",
      "          1       1.00      0.20      0.33       731\n",
      "\n",
      "avg / total       0.87      0.84      0.79      3630\n",
      "\n",
      "[[2899    0]\n",
      " [ 585  146]]\n",
      "AntAktUtlanAvt 0.9956\n",
      "             precision    recall  f1-score   support\n",
      "\n",
      "          0       1.00      1.00      1.00      2982\n",
      "          1       0.99      0.99      0.99       648\n",
      "\n",
      "avg / total       1.00      1.00      1.00      3630\n",
      "\n",
      "[[2975    7]\n",
      " [   9  639]]\n",
      "AntAktBoliglan 0.9959\n",
      "             precision    recall  f1-score   support\n",
      "\n",
      "          0       1.00      1.00      1.00      2989\n",
      "          1       0.98      1.00      0.99       641\n",
      "\n",
      "avg / total       1.00      1.00      1.00      3630\n",
      "\n",
      "[[2976   13]\n",
      " [   2  639]]\n",
      "DNBAntAktBoliglan 0.9529\n",
      "             precision    recall  f1-score   support\n",
      "\n",
      "          0       0.95      1.00      0.98      3465\n",
      "          1       0.00      0.00      0.00       165\n",
      "\n",
      "avg / total       0.91      0.95      0.93      3630\n",
      "\n",
      "[[3459    6]\n",
      " [ 165    0]]\n",
      "AntAktGaranterte 0.9567\n",
      "             precision    recall  f1-score   support\n",
      "\n",
      "          0       0.96      1.00      0.98      3470\n",
      "          1       0.80      0.03      0.05       160\n",
      "\n",
      "avg / total       0.95      0.96      0.94      3630\n",
      "\n",
      "[[3469    1]\n",
      " [ 156    4]]\n",
      "AntAktLink 0.9882\n",
      "             precision    recall  f1-score   support\n",
      "\n",
      "          0       0.99      1.00      0.99      3587\n",
      "          1       0.00      0.00      0.00        43\n",
      "\n",
      "avg / total       0.98      0.99      0.98      3630\n",
      "\n",
      "[[3587    0]\n",
      " [  43    0]]\n",
      "\n",
      "Total accuracy 0.9134\n"
     ]
    }
   ],
   "source": [
    "weighted_accuracy_train,weighted_avg_accuracy_train = accuracy(dtrain_target,weighted_pred_train,reports=True)"
   ]
  },
  {
   "cell_type": "markdown",
   "metadata": {},
   "source": [
    "Test set predictions"
   ]
  },
  {
   "cell_type": "code",
   "execution_count": 16,
   "metadata": {
    "collapsed": false
   },
   "outputs": [
    {
     "name": "stdout",
     "output_type": "stream",
     "text": [
      "Prediction time 1.886\n"
     ]
    }
   ],
   "source": [
    "time_pred_test,weighted_pred_test = weighted_hybrid_pred(demo_pred_test,col_pred_test,demo_accuracy,col_accuracy)"
   ]
  },
  {
   "cell_type": "markdown",
   "metadata": {},
   "source": [
    "Test set accuracy"
   ]
  },
  {
   "cell_type": "code",
   "execution_count": 17,
   "metadata": {
    "collapsed": false
   },
   "outputs": [
    {
     "name": "stdout",
     "output_type": "stream",
     "text": [
      "\n",
      "Model Report: \n",
      "\n",
      "AntAktAvtBank 0.9455\n",
      "             precision    recall  f1-score   support\n",
      "\n",
      "          0       0.87      0.56      0.68       126\n",
      "          1       0.95      0.99      0.97      1084\n",
      "\n",
      "avg / total       0.94      0.95      0.94      1210\n",
      "\n",
      "[[  71   55]\n",
      " [  11 1073]]\n",
      "AntAktAvtInnskudd 0.976\n",
      "             precision    recall  f1-score   support\n",
      "\n",
      "          0       0.82      0.85      0.83        85\n",
      "          1       0.99      0.99      0.99      1125\n",
      "\n",
      "avg / total       0.98      0.98      0.98      1210\n",
      "\n",
      "[[  72   13]\n",
      " [  16 1109]]\n",
      "AntAktAvtKredittkort 0.7058\n",
      "             precision    recall  f1-score   support\n",
      "\n",
      "          0       0.58      0.91      0.71       476\n",
      "          1       0.91      0.57      0.70       734\n",
      "\n",
      "avg / total       0.78      0.71      0.71      1210\n",
      "\n",
      "[[432  44]\n",
      " [312 422]]\n",
      "AntKredittkortDebet 0.7736\n",
      "             precision    recall  f1-score   support\n",
      "\n",
      "          0       0.89      0.81      0.85       937\n",
      "          1       0.50      0.65      0.56       273\n",
      "\n",
      "avg / total       0.80      0.77      0.78      1210\n",
      "\n",
      "[[759 178]\n",
      " [ 96 177]]\n",
      "AntKredittkortKreditt 0.9603\n",
      "             precision    recall  f1-score   support\n",
      "\n",
      "          0       0.96      1.00      0.98      1162\n",
      "          1       0.00      0.00      0.00        48\n",
      "\n",
      "avg / total       0.92      0.96      0.94      1210\n",
      "\n",
      "[[1162    0]\n",
      " [  48    0]]\n",
      "AntSparekonto 0.7967\n",
      "             precision    recall  f1-score   support\n",
      "\n",
      "          0       0.88      0.32      0.47       341\n",
      "          1       0.79      0.98      0.87       869\n",
      "\n",
      "avg / total       0.81      0.80      0.76      1210\n",
      "\n",
      "[[110 231]\n",
      " [ 15 854]]\n",
      "AntBrukskonto 0.8587\n",
      "             precision    recall  f1-score   support\n",
      "\n",
      "          0       0.71      0.72      0.71       295\n",
      "          1       0.91      0.90      0.91       915\n",
      "\n",
      "avg / total       0.86      0.86      0.86      1210\n",
      "\n",
      "[[212  83]\n",
      " [ 88 827]]\n",
      "AntAvtBSU 0.8793\n",
      "             precision    recall  f1-score   support\n",
      "\n",
      "          0       0.88      1.00      0.94      1064\n",
      "          1       0.00      0.00      0.00       146\n",
      "\n",
      "avg / total       0.77      0.88      0.82      1210\n",
      "\n",
      "[[1064    0]\n",
      " [ 146    0]]\n",
      "AntAktiveSkadefors 0.9959\n",
      "             precision    recall  f1-score   support\n",
      "\n",
      "          0       1.00      1.00      1.00      1096\n",
      "          1       1.00      0.96      0.98       114\n",
      "\n",
      "avg / total       1.00      1.00      1.00      1210\n",
      "\n",
      "[[1096    0]\n",
      " [   5  109]]\n",
      "AntAktiv_AndreForsikringer 0.9959\n",
      "             precision    recall  f1-score   support\n",
      "\n",
      "          0       1.00      1.00      1.00      1096\n",
      "          1       1.00      0.96      0.98       114\n",
      "\n",
      "avg / total       1.00      1.00      1.00      1210\n",
      "\n",
      "[[1096    0]\n",
      " [   5  109]]\n",
      "AntAktSpareforsikring 0.8455\n",
      "             precision    recall  f1-score   support\n",
      "\n",
      "          0       0.84      1.00      0.91       967\n",
      "          1       1.00      0.23      0.37       243\n",
      "\n",
      "avg / total       0.87      0.85      0.80      1210\n",
      "\n",
      "[[967   0]\n",
      " [187  56]]\n"
     ]
    },
    {
     "name": "stderr",
     "output_type": "stream",
     "text": [
      "/Users/Emilie/anaconda/envs/py3.2/lib/python3.6/site-packages/sklearn/metrics/classification.py:1113: UndefinedMetricWarning: Precision and F-score are ill-defined and being set to 0.0 in labels with no predicted samples.\n",
      "  'precision', 'predicted', average, warn_for)\n"
     ]
    },
    {
     "name": "stdout",
     "output_type": "stream",
     "text": [
      "AntAktUtlanAvt 0.9942\n",
      "             precision    recall  f1-score   support\n",
      "\n",
      "          0       1.00      1.00      1.00      1004\n",
      "          1       0.99      0.98      0.98       206\n",
      "\n",
      "avg / total       0.99      0.99      0.99      1210\n",
      "\n",
      "[[1001    3]\n",
      " [   4  202]]\n",
      "AntAktBoliglan 0.9942\n",
      "             precision    recall  f1-score   support\n",
      "\n",
      "          0       1.00      1.00      1.00      1006\n",
      "          1       0.98      0.99      0.98       204\n",
      "\n",
      "avg / total       0.99      0.99      0.99      1210\n",
      "\n",
      "[[1001    5]\n",
      " [   2  202]]\n",
      "DNBAntAktBoliglan 0.9579\n",
      "             precision    recall  f1-score   support\n",
      "\n",
      "          0       0.96      1.00      0.98      1158\n",
      "          1       0.67      0.04      0.07        52\n",
      "\n",
      "avg / total       0.95      0.96      0.94      1210\n",
      "\n",
      "[[1157    1]\n",
      " [  50    2]]\n",
      "AntAktGaranterte 0.9521\n",
      "             precision    recall  f1-score   support\n",
      "\n",
      "          0       0.95      1.00      0.98      1151\n",
      "          1       0.67      0.03      0.06        59\n",
      "\n",
      "avg / total       0.94      0.95      0.93      1210\n",
      "\n",
      "[[1150    1]\n",
      " [  57    2]]\n",
      "AntAktLink 0.9835\n",
      "             precision    recall  f1-score   support\n",
      "\n",
      "          0       0.98      1.00      0.99      1190\n",
      "          1       0.00      0.00      0.00        20\n",
      "\n",
      "avg / total       0.97      0.98      0.98      1210\n",
      "\n",
      "[[1190    0]\n",
      " [  20    0]]\n",
      "\n",
      "Total accuracy 0.9134\n"
     ]
    }
   ],
   "source": [
    "weighted_accuracy_test,weighted_avg_accuracy_test = accuracy(dtest_target,weighted_pred_test,reports=True)"
   ]
  },
  {
   "cell_type": "markdown",
   "metadata": {},
   "source": [
    "### Save result files\n",
    "#### Switching Hybrid filtering results"
   ]
  },
  {
   "cell_type": "markdown",
   "metadata": {},
   "source": [
    "Save the predictions to csv"
   ]
  },
  {
   "cell_type": "code",
   "execution_count": 18,
   "metadata": {
    "collapsed": true
   },
   "outputs": [],
   "source": [
    "switching_pred_train_file=pd.DataFrame(switching_pred_train)\n",
    "switching_pred_test_file=pd.DataFrame(switching_pred_test)"
   ]
  },
  {
   "cell_type": "code",
   "execution_count": 19,
   "metadata": {
    "collapsed": true
   },
   "outputs": [],
   "source": [
    "switching_pred_train_file.to_csv('Results/Hybrid_switching_predictions_train.csv',index=False)\n",
    "switching_pred_test_file.to_csv('Results/Hybrid_switching_predictions_test.csv',index=False)"
   ]
  },
  {
   "cell_type": "markdown",
   "metadata": {},
   "source": [
    "Save train and test accuracies to csv"
   ]
  },
  {
   "cell_type": "code",
   "execution_count": 20,
   "metadata": {
    "collapsed": true
   },
   "outputs": [],
   "source": [
    "switching_train_accuracy_file=pd.DataFrame(switching_accuracy_train)\n",
    "switching_test_accuracy_file=pd.DataFrame(switching_accuracy_test)"
   ]
  },
  {
   "cell_type": "code",
   "execution_count": 21,
   "metadata": {
    "collapsed": true
   },
   "outputs": [],
   "source": [
    "switching_train_accuracy_file.to_csv('Results/Hybrid_switching_accuracy_train.csv',index=False)\n",
    "switching_test_accuracy_file.to_csv('Results/Hybrid_switching_accuracy_test.csv',index=False)"
   ]
  },
  {
   "cell_type": "markdown",
   "metadata": {},
   "source": [
    "#### Weighted Hybrid filtering results"
   ]
  },
  {
   "cell_type": "markdown",
   "metadata": {},
   "source": [
    "Save the predictions to csv"
   ]
  },
  {
   "cell_type": "code",
   "execution_count": 22,
   "metadata": {
    "collapsed": true
   },
   "outputs": [],
   "source": [
    "weighted_pred_train_file=pd.DataFrame(weighted_pred_train)\n",
    "weighted_pred_test_file=pd.DataFrame(weighted_pred_test)"
   ]
  },
  {
   "cell_type": "code",
   "execution_count": 23,
   "metadata": {
    "collapsed": true
   },
   "outputs": [],
   "source": [
    "weighted_pred_train_file.to_csv('Results/Hybrid_weighted_predictions_train.csv',index=False)\n",
    "weighted_pred_test_file.to_csv('Results/Hybrid_weighted_predictions_test.csv',index=False)"
   ]
  },
  {
   "cell_type": "markdown",
   "metadata": {},
   "source": [
    "Save train and test accuracies to csv"
   ]
  },
  {
   "cell_type": "code",
   "execution_count": 24,
   "metadata": {
    "collapsed": true
   },
   "outputs": [],
   "source": [
    "weighted_train_accuracy_file=pd.DataFrame(weighted_accuracy_train)\n",
    "weighted_test_accuracy_file=pd.DataFrame(weighted_accuracy_test)"
   ]
  },
  {
   "cell_type": "code",
   "execution_count": 25,
   "metadata": {
    "collapsed": true
   },
   "outputs": [],
   "source": [
    "weighted_train_accuracy_file.to_csv('Results/Hybrid_weighted_accuracy_train.csv',index=False)\n",
    "weighted_test_accuracy_file.to_csv('Results/Hybrid_weighted_accuracy_test.csv',index=False)"
   ]
  }
 ],
 "metadata": {
  "anaconda-cloud": {},
  "kernelspec": {
   "display_name": "Python [conda env:py3.2]",
   "language": "python",
   "name": "conda-env-py3.2-py"
  },
  "language_info": {
   "codemirror_mode": {
    "name": "ipython",
    "version": 3
   },
   "file_extension": ".py",
   "mimetype": "text/x-python",
   "name": "python",
   "nbconvert_exporter": "python",
   "pygments_lexer": "ipython3",
   "version": "3.6.0"
  }
 },
 "nbformat": 4,
 "nbformat_minor": 1
}
