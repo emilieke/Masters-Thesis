{
 "cells": [
  {
   "cell_type": "markdown",
   "metadata": {},
   "source": [
    "# Data Cleaning"
   ]
  },
  {
   "cell_type": "markdown",
   "metadata": {},
   "source": [
    "Import packages"
   ]
  },
  {
   "cell_type": "code",
   "execution_count": 1,
   "metadata": {
    "collapsed": false
   },
   "outputs": [],
   "source": [
    "import numpy as np\n",
    "import pandas as pd\n",
    "from sklearn.model_selection import train_test_split"
   ]
  },
  {
   "cell_type": "markdown",
   "metadata": {},
   "source": [
    "Load the preprocessed data"
   ]
  },
  {
   "cell_type": "code",
   "execution_count": 2,
   "metadata": {
    "collapsed": true
   },
   "outputs": [],
   "source": [
    "data = pd.read_csv('Data/data_preprocessed.csv')"
   ]
  },
  {
   "cell_type": "code",
   "execution_count": 3,
   "metadata": {
    "collapsed": false
   },
   "outputs": [
    {
     "data": {
      "text/html": [
       "<div>\n",
       "<table border=\"1\" class=\"dataframe\">\n",
       "  <thead>\n",
       "    <tr style=\"text-align: right;\">\n",
       "      <th></th>\n",
       "      <th>AktorId</th>\n",
       "      <th>Alder</th>\n",
       "      <th>Household_ID</th>\n",
       "      <th>FylkeNr</th>\n",
       "      <th>KommuneNr</th>\n",
       "      <th>Postnr</th>\n",
       "      <th>ErDisponentAnt</th>\n",
       "      <th>ErInnehaverAnt</th>\n",
       "      <th>ErKlientAnt</th>\n",
       "      <th>ErKontoapnerAnt</th>\n",
       "      <th>...</th>\n",
       "      <th>AntSparekonto</th>\n",
       "      <th>AntAktiveSkadefors</th>\n",
       "      <th>AntAktiv_AndreForsikringer</th>\n",
       "      <th>AntAktUtlanAvt</th>\n",
       "      <th>AntAvtBSU</th>\n",
       "      <th>AntAktBoliglan</th>\n",
       "      <th>DNBAntAktBoliglan</th>\n",
       "      <th>AntAktGaranterte</th>\n",
       "      <th>AntAktLink</th>\n",
       "      <th>AntAktSpareforsikring</th>\n",
       "    </tr>\n",
       "  </thead>\n",
       "  <tbody>\n",
       "    <tr>\n",
       "      <th>count</th>\n",
       "      <td>8.758000e+03</td>\n",
       "      <td>8758.000000</td>\n",
       "      <td>8754.0</td>\n",
       "      <td>8221.000000</td>\n",
       "      <td>8221.00000</td>\n",
       "      <td>8371.000000</td>\n",
       "      <td>8238.000000</td>\n",
       "      <td>8238.000000</td>\n",
       "      <td>8238.0</td>\n",
       "      <td>8238.000000</td>\n",
       "      <td>...</td>\n",
       "      <td>8758.000000</td>\n",
       "      <td>8758.000000</td>\n",
       "      <td>8758.000000</td>\n",
       "      <td>8758.000000</td>\n",
       "      <td>8758.000000</td>\n",
       "      <td>8758.000000</td>\n",
       "      <td>8758.000000</td>\n",
       "      <td>8758.000000</td>\n",
       "      <td>8758.000000</td>\n",
       "      <td>8758.000000</td>\n",
       "    </tr>\n",
       "    <tr>\n",
       "      <th>mean</th>\n",
       "      <td>3.278496e+06</td>\n",
       "      <td>43.518726</td>\n",
       "      <td>1.0</td>\n",
       "      <td>7.793213</td>\n",
       "      <td>793.37611</td>\n",
       "      <td>3660.523235</td>\n",
       "      <td>0.289633</td>\n",
       "      <td>0.000121</td>\n",
       "      <td>0.0</td>\n",
       "      <td>0.055353</td>\n",
       "      <td>...</td>\n",
       "      <td>0.652318</td>\n",
       "      <td>0.088034</td>\n",
       "      <td>0.087920</td>\n",
       "      <td>0.161795</td>\n",
       "      <td>0.101165</td>\n",
       "      <td>0.160082</td>\n",
       "      <td>0.043275</td>\n",
       "      <td>0.045558</td>\n",
       "      <td>0.012902</td>\n",
       "      <td>0.215003</td>\n",
       "    </tr>\n",
       "    <tr>\n",
       "      <th>std</th>\n",
       "      <td>2.166715e+06</td>\n",
       "      <td>14.314780</td>\n",
       "      <td>0.0</td>\n",
       "      <td>5.744271</td>\n",
       "      <td>577.03325</td>\n",
       "      <td>2572.922772</td>\n",
       "      <td>0.453620</td>\n",
       "      <td>0.011018</td>\n",
       "      <td>0.0</td>\n",
       "      <td>0.228682</td>\n",
       "      <td>...</td>\n",
       "      <td>0.476262</td>\n",
       "      <td>0.283360</td>\n",
       "      <td>0.283194</td>\n",
       "      <td>0.368284</td>\n",
       "      <td>0.301564</td>\n",
       "      <td>0.366703</td>\n",
       "      <td>0.203486</td>\n",
       "      <td>0.208537</td>\n",
       "      <td>0.112860</td>\n",
       "      <td>0.410848</td>\n",
       "    </tr>\n",
       "    <tr>\n",
       "      <th>min</th>\n",
       "      <td>9.380000e+02</td>\n",
       "      <td>18.000000</td>\n",
       "      <td>1.0</td>\n",
       "      <td>1.000000</td>\n",
       "      <td>101.00000</td>\n",
       "      <td>102.000000</td>\n",
       "      <td>0.000000</td>\n",
       "      <td>0.000000</td>\n",
       "      <td>0.0</td>\n",
       "      <td>0.000000</td>\n",
       "      <td>...</td>\n",
       "      <td>0.000000</td>\n",
       "      <td>0.000000</td>\n",
       "      <td>0.000000</td>\n",
       "      <td>0.000000</td>\n",
       "      <td>0.000000</td>\n",
       "      <td>0.000000</td>\n",
       "      <td>0.000000</td>\n",
       "      <td>0.000000</td>\n",
       "      <td>0.000000</td>\n",
       "      <td>0.000000</td>\n",
       "    </tr>\n",
       "    <tr>\n",
       "      <th>25%</th>\n",
       "      <td>1.553656e+06</td>\n",
       "      <td>31.000000</td>\n",
       "      <td>1.0</td>\n",
       "      <td>3.000000</td>\n",
       "      <td>301.00000</td>\n",
       "      <td>1472.000000</td>\n",
       "      <td>0.000000</td>\n",
       "      <td>0.000000</td>\n",
       "      <td>0.0</td>\n",
       "      <td>0.000000</td>\n",
       "      <td>...</td>\n",
       "      <td>0.000000</td>\n",
       "      <td>0.000000</td>\n",
       "      <td>0.000000</td>\n",
       "      <td>0.000000</td>\n",
       "      <td>0.000000</td>\n",
       "      <td>0.000000</td>\n",
       "      <td>0.000000</td>\n",
       "      <td>0.000000</td>\n",
       "      <td>0.000000</td>\n",
       "      <td>0.000000</td>\n",
       "    </tr>\n",
       "    <tr>\n",
       "      <th>50%</th>\n",
       "      <td>2.753350e+06</td>\n",
       "      <td>44.000000</td>\n",
       "      <td>1.0</td>\n",
       "      <td>6.000000</td>\n",
       "      <td>625.00000</td>\n",
       "      <td>3150.000000</td>\n",
       "      <td>0.000000</td>\n",
       "      <td>0.000000</td>\n",
       "      <td>0.0</td>\n",
       "      <td>0.000000</td>\n",
       "      <td>...</td>\n",
       "      <td>1.000000</td>\n",
       "      <td>0.000000</td>\n",
       "      <td>0.000000</td>\n",
       "      <td>0.000000</td>\n",
       "      <td>0.000000</td>\n",
       "      <td>0.000000</td>\n",
       "      <td>0.000000</td>\n",
       "      <td>0.000000</td>\n",
       "      <td>0.000000</td>\n",
       "      <td>0.000000</td>\n",
       "    </tr>\n",
       "    <tr>\n",
       "      <th>75%</th>\n",
       "      <td>4.550042e+06</td>\n",
       "      <td>55.000000</td>\n",
       "      <td>1.0</td>\n",
       "      <td>12.000000</td>\n",
       "      <td>1201.00000</td>\n",
       "      <td>5252.500000</td>\n",
       "      <td>1.000000</td>\n",
       "      <td>0.000000</td>\n",
       "      <td>0.0</td>\n",
       "      <td>0.000000</td>\n",
       "      <td>...</td>\n",
       "      <td>1.000000</td>\n",
       "      <td>0.000000</td>\n",
       "      <td>0.000000</td>\n",
       "      <td>0.000000</td>\n",
       "      <td>0.000000</td>\n",
       "      <td>0.000000</td>\n",
       "      <td>0.000000</td>\n",
       "      <td>0.000000</td>\n",
       "      <td>0.000000</td>\n",
       "      <td>0.000000</td>\n",
       "    </tr>\n",
       "    <tr>\n",
       "      <th>max</th>\n",
       "      <td>9.565326e+06</td>\n",
       "      <td>70.000000</td>\n",
       "      <td>1.0</td>\n",
       "      <td>21.000000</td>\n",
       "      <td>2111.00000</td>\n",
       "      <td>9991.000000</td>\n",
       "      <td>1.000000</td>\n",
       "      <td>1.000000</td>\n",
       "      <td>0.0</td>\n",
       "      <td>1.000000</td>\n",
       "      <td>...</td>\n",
       "      <td>1.000000</td>\n",
       "      <td>1.000000</td>\n",
       "      <td>1.000000</td>\n",
       "      <td>1.000000</td>\n",
       "      <td>1.000000</td>\n",
       "      <td>1.000000</td>\n",
       "      <td>1.000000</td>\n",
       "      <td>1.000000</td>\n",
       "      <td>1.000000</td>\n",
       "      <td>1.000000</td>\n",
       "    </tr>\n",
       "  </tbody>\n",
       "</table>\n",
       "<p>8 rows × 60 columns</p>\n",
       "</div>"
      ],
      "text/plain": [
       "            AktorId        Alder  Household_ID      FylkeNr   KommuneNr  \\\n",
       "count  8.758000e+03  8758.000000        8754.0  8221.000000  8221.00000   \n",
       "mean   3.278496e+06    43.518726           1.0     7.793213   793.37611   \n",
       "std    2.166715e+06    14.314780           0.0     5.744271   577.03325   \n",
       "min    9.380000e+02    18.000000           1.0     1.000000   101.00000   \n",
       "25%    1.553656e+06    31.000000           1.0     3.000000   301.00000   \n",
       "50%    2.753350e+06    44.000000           1.0     6.000000   625.00000   \n",
       "75%    4.550042e+06    55.000000           1.0    12.000000  1201.00000   \n",
       "max    9.565326e+06    70.000000           1.0    21.000000  2111.00000   \n",
       "\n",
       "            Postnr  ErDisponentAnt  ErInnehaverAnt  ErKlientAnt  \\\n",
       "count  8371.000000     8238.000000     8238.000000       8238.0   \n",
       "mean   3660.523235        0.289633        0.000121          0.0   \n",
       "std    2572.922772        0.453620        0.011018          0.0   \n",
       "min     102.000000        0.000000        0.000000          0.0   \n",
       "25%    1472.000000        0.000000        0.000000          0.0   \n",
       "50%    3150.000000        0.000000        0.000000          0.0   \n",
       "75%    5252.500000        1.000000        0.000000          0.0   \n",
       "max    9991.000000        1.000000        1.000000          0.0   \n",
       "\n",
       "       ErKontoapnerAnt          ...            AntSparekonto  \\\n",
       "count      8238.000000          ...              8758.000000   \n",
       "mean          0.055353          ...                 0.652318   \n",
       "std           0.228682          ...                 0.476262   \n",
       "min           0.000000          ...                 0.000000   \n",
       "25%           0.000000          ...                 0.000000   \n",
       "50%           0.000000          ...                 1.000000   \n",
       "75%           0.000000          ...                 1.000000   \n",
       "max           1.000000          ...                 1.000000   \n",
       "\n",
       "       AntAktiveSkadefors  AntAktiv_AndreForsikringer  AntAktUtlanAvt  \\\n",
       "count         8758.000000                 8758.000000     8758.000000   \n",
       "mean             0.088034                    0.087920        0.161795   \n",
       "std              0.283360                    0.283194        0.368284   \n",
       "min              0.000000                    0.000000        0.000000   \n",
       "25%              0.000000                    0.000000        0.000000   \n",
       "50%              0.000000                    0.000000        0.000000   \n",
       "75%              0.000000                    0.000000        0.000000   \n",
       "max              1.000000                    1.000000        1.000000   \n",
       "\n",
       "         AntAvtBSU  AntAktBoliglan  DNBAntAktBoliglan  AntAktGaranterte  \\\n",
       "count  8758.000000     8758.000000        8758.000000       8758.000000   \n",
       "mean      0.101165        0.160082           0.043275          0.045558   \n",
       "std       0.301564        0.366703           0.203486          0.208537   \n",
       "min       0.000000        0.000000           0.000000          0.000000   \n",
       "25%       0.000000        0.000000           0.000000          0.000000   \n",
       "50%       0.000000        0.000000           0.000000          0.000000   \n",
       "75%       0.000000        0.000000           0.000000          0.000000   \n",
       "max       1.000000        1.000000           1.000000          1.000000   \n",
       "\n",
       "        AntAktLink  AntAktSpareforsikring  \n",
       "count  8758.000000            8758.000000  \n",
       "mean      0.012902               0.215003  \n",
       "std       0.112860               0.410848  \n",
       "min       0.000000               0.000000  \n",
       "25%       0.000000               0.000000  \n",
       "50%       0.000000               0.000000  \n",
       "75%       0.000000               0.000000  \n",
       "max       1.000000               1.000000  \n",
       "\n",
       "[8 rows x 60 columns]"
      ]
     },
     "execution_count": 3,
     "metadata": {},
     "output_type": "execute_result"
    }
   ],
   "source": [
    "data = data.drop('Unnamed: 0',1)\n",
    "data.describe()"
   ]
  },
  {
   "cell_type": "markdown",
   "metadata": {},
   "source": [
    "## 1. Missing values"
   ]
  },
  {
   "cell_type": "markdown",
   "metadata": {},
   "source": [
    "Investigate if the variables have missing values"
   ]
  },
  {
   "cell_type": "code",
   "execution_count": 4,
   "metadata": {
    "collapsed": false
   },
   "outputs": [
    {
     "data": {
      "text/plain": [
       "AktorId                       False\n",
       "Alder                         False\n",
       "AlderGrp                      False\n",
       "Household_ID                   True\n",
       "Fylke                          True\n",
       "FylkeNr                        True\n",
       "Kommune                        True\n",
       "KommuneNr                      True\n",
       "Postnr                         True\n",
       "PostSted                       True\n",
       "ErDisponentAnt                 True\n",
       "ErInnehaverAnt                 True\n",
       "ErKlientAnt                    True\n",
       "ErKontoapnerAnt                True\n",
       "ErKausjonistAnt                True\n",
       "ErRealkausjonistAnt            True\n",
       "ErSamskyldnerAnt               True\n",
       "ErUtleieAnt                    True\n",
       "ErVergeAnt                     True\n",
       "HarDisponentAnt                True\n",
       "HarInnehaverAnt                True\n",
       "HarKlientAnt                   True\n",
       "HarKontoapnerAnt               True\n",
       "HarKausjonistAnt               True\n",
       "HarRealkausjonistAnt           True\n",
       "HarSamskyldnerAnt              True\n",
       "HarUtleieAnt                   True\n",
       "HarVergeAnt                    True\n",
       "SumElektroniskeTrans           True\n",
       "SumManuelleTrans               True\n",
       "                              ...  \n",
       "SumInnskudd                   False\n",
       "SumSparekonto                 False\n",
       "SumKredittkortDebet           False\n",
       "SumKredittkortKreditt         False\n",
       "AktivKapital                  False\n",
       "TopplanInd                     True\n",
       "BK_Belaningsgrad               True\n",
       "Belaning_0_75                  True\n",
       "Belaning_Over_75               True\n",
       "ForstehjemskundeInd            True\n",
       "LevetidKundeforholdDg          True\n",
       "LevetidKundeforholdMnd         True\n",
       "HelkundeInd                    True\n",
       "AntallProdukter               False\n",
       "AntAktAvtBank                 False\n",
       "AntAktAvtInnskudd             False\n",
       "AntAktAvtKredittkort          False\n",
       "AntBrukskonto                 False\n",
       "AntKredittkortDebet           False\n",
       "AntKredittkortKreditt         False\n",
       "AntSparekonto                 False\n",
       "AntAktiveSkadefors            False\n",
       "AntAktiv_AndreForsikringer    False\n",
       "AntAktUtlanAvt                False\n",
       "AntAvtBSU                     False\n",
       "AntAktBoliglan                False\n",
       "DNBAntAktBoliglan             False\n",
       "AntAktGaranterte              False\n",
       "AntAktLink                    False\n",
       "AntAktSpareforsikring         False\n",
       "dtype: bool"
      ]
     },
     "execution_count": 4,
     "metadata": {},
     "output_type": "execute_result"
    }
   ],
   "source": [
    "data.isnull().any()"
   ]
  },
  {
   "cell_type": "markdown",
   "metadata": {},
   "source": [
    "Calculate the number of missing values"
   ]
  },
  {
   "cell_type": "code",
   "execution_count": 5,
   "metadata": {
    "collapsed": false
   },
   "outputs": [
    {
     "data": {
      "text/plain": [
       "4"
      ]
     },
     "execution_count": 5,
     "metadata": {},
     "output_type": "execute_result"
    }
   ],
   "source": [
    "data['Household_ID'].isnull().sum()"
   ]
  },
  {
   "cell_type": "markdown",
   "metadata": {},
   "source": [
    "This is very low and is kept for now."
   ]
  },
  {
   "cell_type": "markdown",
   "metadata": {},
   "source": [
    "Calculate the number of missing values for ErDisponentAnt and ErInnehaverAnt"
   ]
  },
  {
   "cell_type": "code",
   "execution_count": 6,
   "metadata": {
    "collapsed": false
   },
   "outputs": [
    {
     "data": {
      "text/plain": [
       "520"
      ]
     },
     "execution_count": 6,
     "metadata": {},
     "output_type": "execute_result"
    }
   ],
   "source": [
    "data['ErDisponentAnt'].isnull().sum()"
   ]
  },
  {
   "cell_type": "code",
   "execution_count": 7,
   "metadata": {
    "collapsed": false
   },
   "outputs": [
    {
     "data": {
      "text/plain": [
       "520"
      ]
     },
     "execution_count": 7,
     "metadata": {},
     "output_type": "execute_result"
    }
   ],
   "source": [
    "data['ErInnehaverAnt'].isnull().sum()"
   ]
  },
  {
   "cell_type": "markdown",
   "metadata": {},
   "source": [
    "Check if they have the same missing values"
   ]
  },
  {
   "cell_type": "code",
   "execution_count": 8,
   "metadata": {
    "collapsed": false
   },
   "outputs": [
    {
     "data": {
      "text/plain": [
       "520"
      ]
     },
     "execution_count": 8,
     "metadata": {},
     "output_type": "execute_result"
    }
   ],
   "source": [
    "data.loc[data['ErInnehaverAnt'].isnull(),'ErDisponentAnt'].isnull().sum()"
   ]
  },
  {
   "cell_type": "markdown",
   "metadata": {},
   "source": [
    "They are the same, thus all rows with missing values are removed."
   ]
  },
  {
   "cell_type": "code",
   "execution_count": 9,
   "metadata": {
    "collapsed": false
   },
   "outputs": [],
   "source": [
    "data = data.dropna(subset=['ErInnehaverAnt'])"
   ]
  },
  {
   "cell_type": "markdown",
   "metadata": {},
   "source": [
    "Update the list of variables with missing values"
   ]
  },
  {
   "cell_type": "code",
   "execution_count": 10,
   "metadata": {
    "collapsed": false
   },
   "outputs": [
    {
     "data": {
      "text/plain": [
       "AktorId                       False\n",
       "Alder                         False\n",
       "AlderGrp                      False\n",
       "Household_ID                  False\n",
       "Fylke                          True\n",
       "FylkeNr                        True\n",
       "Kommune                        True\n",
       "KommuneNr                      True\n",
       "Postnr                         True\n",
       "PostSted                       True\n",
       "ErDisponentAnt                False\n",
       "ErInnehaverAnt                False\n",
       "ErKlientAnt                   False\n",
       "ErKontoapnerAnt               False\n",
       "ErKausjonistAnt               False\n",
       "ErRealkausjonistAnt           False\n",
       "ErSamskyldnerAnt              False\n",
       "ErUtleieAnt                   False\n",
       "ErVergeAnt                    False\n",
       "HarDisponentAnt               False\n",
       "HarInnehaverAnt               False\n",
       "HarKlientAnt                  False\n",
       "HarKontoapnerAnt              False\n",
       "HarKausjonistAnt              False\n",
       "HarRealkausjonistAnt          False\n",
       "HarSamskyldnerAnt             False\n",
       "HarUtleieAnt                  False\n",
       "HarVergeAnt                   False\n",
       "SumElektroniskeTrans           True\n",
       "SumManuelleTrans               True\n",
       "                              ...  \n",
       "SumInnskudd                   False\n",
       "SumSparekonto                 False\n",
       "SumKredittkortDebet           False\n",
       "SumKredittkortKreditt         False\n",
       "AktivKapital                  False\n",
       "TopplanInd                     True\n",
       "BK_Belaningsgrad               True\n",
       "Belaning_0_75                  True\n",
       "Belaning_Over_75               True\n",
       "ForstehjemskundeInd            True\n",
       "LevetidKundeforholdDg          True\n",
       "LevetidKundeforholdMnd         True\n",
       "HelkundeInd                    True\n",
       "AntallProdukter               False\n",
       "AntAktAvtBank                 False\n",
       "AntAktAvtInnskudd             False\n",
       "AntAktAvtKredittkort          False\n",
       "AntBrukskonto                 False\n",
       "AntKredittkortDebet           False\n",
       "AntKredittkortKreditt         False\n",
       "AntSparekonto                 False\n",
       "AntAktiveSkadefors            False\n",
       "AntAktiv_AndreForsikringer    False\n",
       "AntAktUtlanAvt                False\n",
       "AntAvtBSU                     False\n",
       "AntAktBoliglan                False\n",
       "DNBAntAktBoliglan             False\n",
       "AntAktGaranterte              False\n",
       "AntAktLink                    False\n",
       "AntAktSpareforsikring         False\n",
       "dtype: bool"
      ]
     },
     "execution_count": 10,
     "metadata": {},
     "output_type": "execute_result"
    }
   ],
   "source": [
    "data.isnull().any()"
   ]
  },
  {
   "cell_type": "markdown",
   "metadata": {},
   "source": [
    "From this we observe that several other variables had the same missing values. We proceed by investigating the location variables."
   ]
  },
  {
   "cell_type": "code",
   "execution_count": 11,
   "metadata": {
    "collapsed": false
   },
   "outputs": [
    {
     "data": {
      "text/plain": [
       "517"
      ]
     },
     "execution_count": 11,
     "metadata": {},
     "output_type": "execute_result"
    }
   ],
   "source": [
    "data['Fylke'].isnull().sum()"
   ]
  },
  {
   "cell_type": "code",
   "execution_count": 12,
   "metadata": {
    "collapsed": false
   },
   "outputs": [
    {
     "data": {
      "text/plain": [
       "517"
      ]
     },
     "execution_count": 12,
     "metadata": {},
     "output_type": "execute_result"
    }
   ],
   "source": [
    "data['FylkeNr'].isnull().sum()"
   ]
  },
  {
   "cell_type": "code",
   "execution_count": 13,
   "metadata": {
    "collapsed": false
   },
   "outputs": [
    {
     "data": {
      "text/plain": [
       "517"
      ]
     },
     "execution_count": 13,
     "metadata": {},
     "output_type": "execute_result"
    }
   ],
   "source": [
    "data['Kommune'].isnull().sum()"
   ]
  },
  {
   "cell_type": "code",
   "execution_count": 14,
   "metadata": {
    "collapsed": false
   },
   "outputs": [
    {
     "data": {
      "text/plain": [
       "517"
      ]
     },
     "execution_count": 14,
     "metadata": {},
     "output_type": "execute_result"
    }
   ],
   "source": [
    "data['KommuneNr'].isnull().sum()"
   ]
  },
  {
   "cell_type": "code",
   "execution_count": 15,
   "metadata": {
    "collapsed": false
   },
   "outputs": [
    {
     "data": {
      "text/plain": [
       "375"
      ]
     },
     "execution_count": 15,
     "metadata": {},
     "output_type": "execute_result"
    }
   ],
   "source": [
    "data['Postnr'].isnull().sum()"
   ]
  },
  {
   "cell_type": "code",
   "execution_count": 16,
   "metadata": {
    "collapsed": false
   },
   "outputs": [
    {
     "data": {
      "text/plain": [
       "517"
      ]
     },
     "execution_count": 16,
     "metadata": {},
     "output_type": "execute_result"
    }
   ],
   "source": [
    "data['PostSted'].isnull().sum()"
   ]
  },
  {
   "cell_type": "markdown",
   "metadata": {},
   "source": [
    "It seems like Fylke, FylkeNr, Kommune and KommuneNr and PostSted have the same missing values. We investigate this assumption."
   ]
  },
  {
   "cell_type": "code",
   "execution_count": 17,
   "metadata": {
    "collapsed": false
   },
   "outputs": [
    {
     "data": {
      "text/plain": [
       "517"
      ]
     },
     "execution_count": 17,
     "metadata": {},
     "output_type": "execute_result"
    }
   ],
   "source": [
    "data.loc[data['FylkeNr'].isnull(),'Fylke'].isnull().sum()"
   ]
  },
  {
   "cell_type": "code",
   "execution_count": 18,
   "metadata": {
    "collapsed": false
   },
   "outputs": [
    {
     "data": {
      "text/plain": [
       "517"
      ]
     },
     "execution_count": 18,
     "metadata": {},
     "output_type": "execute_result"
    }
   ],
   "source": [
    "data.loc[data['KommuneNr'].isnull(),'Kommune'].isnull().sum()"
   ]
  },
  {
   "cell_type": "code",
   "execution_count": 19,
   "metadata": {
    "collapsed": false
   },
   "outputs": [
    {
     "data": {
      "text/plain": [
       "517"
      ]
     },
     "execution_count": 19,
     "metadata": {},
     "output_type": "execute_result"
    }
   ],
   "source": [
    "data.loc[data['Kommune'].isnull(),'Fylke'].isnull().sum()"
   ]
  },
  {
   "cell_type": "markdown",
   "metadata": {},
   "source": [
    "They all have the same missing values. We proceed by investigating if the missing values in Postnr are the same as in PostSted"
   ]
  },
  {
   "cell_type": "code",
   "execution_count": 20,
   "metadata": {
    "collapsed": false
   },
   "outputs": [
    {
     "data": {
      "text/plain": [
       "375"
      ]
     },
     "execution_count": 20,
     "metadata": {},
     "output_type": "execute_result"
    }
   ],
   "source": [
    "data.loc[data['Postnr'].isnull(),'PostSted'].isnull().sum()"
   ]
  },
  {
   "cell_type": "markdown",
   "metadata": {},
   "source": [
    "The assumption is correct. We remove the missing values for Postnr and impute the correct value for the other variables based on the postal code (Postnr)"
   ]
  },
  {
   "cell_type": "code",
   "execution_count": 21,
   "metadata": {
    "collapsed": true
   },
   "outputs": [],
   "source": [
    "data = data.dropna(subset=['Postnr'])"
   ]
  },
  {
   "cell_type": "code",
   "execution_count": 22,
   "metadata": {
    "collapsed": false
   },
   "outputs": [],
   "source": [
    "medians = data.groupby('Postnr').FylkeNr.median()\n",
    "for i in data[data.FylkeNr.isnull()].index:\n",
    "    data.loc[i,'FylkeNr'] = medians[data.loc[i].Postnr]"
   ]
  },
  {
   "cell_type": "code",
   "execution_count": 23,
   "metadata": {
    "collapsed": false
   },
   "outputs": [
    {
     "data": {
      "text/plain": [
       "142"
      ]
     },
     "execution_count": 23,
     "metadata": {},
     "output_type": "execute_result"
    }
   ],
   "source": [
    "data['FylkeNr'].isnull().sum()"
   ]
  },
  {
   "cell_type": "code",
   "execution_count": 24,
   "metadata": {
    "collapsed": true
   },
   "outputs": [],
   "source": [
    "medians = data.groupby('Postnr').KommuneNr.median()\n",
    "for i in data[data.KommuneNr.isnull()].index:\n",
    "    data.loc[i,'KommuneNr'] = medians[data.loc[i].Postnr]"
   ]
  },
  {
   "cell_type": "code",
   "execution_count": 25,
   "metadata": {
    "collapsed": false
   },
   "outputs": [
    {
     "data": {
      "text/plain": [
       "142"
      ]
     },
     "execution_count": 25,
     "metadata": {},
     "output_type": "execute_result"
    }
   ],
   "source": [
    "data['KommuneNr'].isnull().sum()"
   ]
  },
  {
   "cell_type": "code",
   "execution_count": 26,
   "metadata": {
    "collapsed": false
   },
   "outputs": [],
   "source": [
    "common_loc = data.groupby('Postnr').PostSted.first()\n",
    "for i in data[data.PostSted.isnull()].index:\n",
    "    data.loc[i,'PostSted'] = common_loc[data.loc[i].Postnr]"
   ]
  },
  {
   "cell_type": "code",
   "execution_count": 27,
   "metadata": {
    "collapsed": false
   },
   "outputs": [
    {
     "data": {
      "text/plain": [
       "142"
      ]
     },
     "execution_count": 27,
     "metadata": {},
     "output_type": "execute_result"
    }
   ],
   "source": [
    "data['PostSted'].isnull().sum()"
   ]
  },
  {
   "cell_type": "code",
   "execution_count": 28,
   "metadata": {
    "collapsed": true
   },
   "outputs": [],
   "source": [
    "common_loc = data.groupby('Postnr').Kommune.first()\n",
    "for i in data[data.Kommune.isnull()].index:\n",
    "    data.loc[i,'Kommune'] = common_loc[data.loc[i].Postnr]"
   ]
  },
  {
   "cell_type": "code",
   "execution_count": 29,
   "metadata": {
    "collapsed": false
   },
   "outputs": [
    {
     "data": {
      "text/plain": [
       "142"
      ]
     },
     "execution_count": 29,
     "metadata": {},
     "output_type": "execute_result"
    }
   ],
   "source": [
    "data['Kommune'].isnull().sum()"
   ]
  },
  {
   "cell_type": "code",
   "execution_count": 30,
   "metadata": {
    "collapsed": true
   },
   "outputs": [],
   "source": [
    "common_loc = data.groupby('Postnr').Fylke.first()\n",
    "for i in data[data.Fylke.isnull()].index:\n",
    "    data.loc[i,'Fylke'] = common_loc[data.loc[i].Postnr]"
   ]
  },
  {
   "cell_type": "code",
   "execution_count": 31,
   "metadata": {
    "collapsed": false
   },
   "outputs": [
    {
     "data": {
      "text/plain": [
       "142"
      ]
     },
     "execution_count": 31,
     "metadata": {},
     "output_type": "execute_result"
    }
   ],
   "source": [
    "data['Fylke'].isnull().sum()"
   ]
  },
  {
   "cell_type": "markdown",
   "metadata": {},
   "source": [
    "Then the remaining missing values are removed."
   ]
  },
  {
   "cell_type": "code",
   "execution_count": 32,
   "metadata": {
    "collapsed": true
   },
   "outputs": [],
   "source": [
    "data = data.dropna(subset=['FylkeNr'])"
   ]
  },
  {
   "cell_type": "markdown",
   "metadata": {},
   "source": [
    "Drop the variables Fylke, Kommune and PostSted as these are covered by the corresponding numerical variables."
   ]
  },
  {
   "cell_type": "code",
   "execution_count": 33,
   "metadata": {
    "collapsed": true
   },
   "outputs": [],
   "source": [
    "data = data.drop('Fylke',1)\n",
    "data = data.drop('Kommune',1)\n",
    "data = data.drop('PostSted',1)"
   ]
  },
  {
   "cell_type": "markdown",
   "metadata": {},
   "source": [
    "We further investigate the variables related to debt ratio."
   ]
  },
  {
   "cell_type": "code",
   "execution_count": 34,
   "metadata": {
    "collapsed": false
   },
   "outputs": [
    {
     "data": {
      "text/plain": [
       "6329"
      ]
     },
     "execution_count": 34,
     "metadata": {},
     "output_type": "execute_result"
    }
   ],
   "source": [
    "data['BK_Belaningsgrad'].isnull().sum()"
   ]
  },
  {
   "cell_type": "code",
   "execution_count": 35,
   "metadata": {
    "collapsed": false
   },
   "outputs": [
    {
     "data": {
      "text/plain": [
       "6329"
      ]
     },
     "execution_count": 35,
     "metadata": {},
     "output_type": "execute_result"
    }
   ],
   "source": [
    "data['Belaning_0_75'].isnull().sum()"
   ]
  },
  {
   "cell_type": "code",
   "execution_count": 36,
   "metadata": {
    "collapsed": false
   },
   "outputs": [
    {
     "data": {
      "text/plain": [
       "6329"
      ]
     },
     "execution_count": 36,
     "metadata": {},
     "output_type": "execute_result"
    }
   ],
   "source": [
    "data['Belaning_Over_75'].isnull().sum()"
   ]
  },
  {
   "cell_type": "markdown",
   "metadata": {},
   "source": [
    "We investigate if the missing values are common for these variables. "
   ]
  },
  {
   "cell_type": "code",
   "execution_count": 37,
   "metadata": {
    "collapsed": false
   },
   "outputs": [
    {
     "data": {
      "text/plain": [
       "6329"
      ]
     },
     "execution_count": 37,
     "metadata": {},
     "output_type": "execute_result"
    }
   ],
   "source": [
    "data.loc[data['Belaning_0_75'].isnull(),'Belaning_Over_75'].isnull().sum()"
   ]
  },
  {
   "cell_type": "code",
   "execution_count": 38,
   "metadata": {
    "collapsed": false
   },
   "outputs": [
    {
     "data": {
      "text/plain": [
       "6329"
      ]
     },
     "execution_count": 38,
     "metadata": {},
     "output_type": "execute_result"
    }
   ],
   "source": [
    "data.loc[data['BK_Belaningsgrad'].isnull(),'Belaning_Over_75'].isnull().sum()"
   ]
  },
  {
   "cell_type": "markdown",
   "metadata": {},
   "source": [
    "All the missing values are the same. However the number of missing values are more than 50% of the total data set. We therefore remove these variables."
   ]
  },
  {
   "cell_type": "code",
   "execution_count": 39,
   "metadata": {
    "collapsed": true
   },
   "outputs": [],
   "source": [
    "data = data.drop(['BK_Belaningsgrad','Belaning_Over_75','Belaning_0_75'],axis=1)"
   ]
  },
  {
   "cell_type": "markdown",
   "metadata": {},
   "source": [
    "We proceed by investigating the variables related to the lifetime of the customer."
   ]
  },
  {
   "cell_type": "code",
   "execution_count": 40,
   "metadata": {
    "collapsed": false
   },
   "outputs": [
    {
     "data": {
      "text/plain": [
       "55"
      ]
     },
     "execution_count": 40,
     "metadata": {},
     "output_type": "execute_result"
    }
   ],
   "source": [
    "data['LevetidKundeforholdDg'].isnull().sum()"
   ]
  },
  {
   "cell_type": "code",
   "execution_count": 41,
   "metadata": {
    "collapsed": false
   },
   "outputs": [
    {
     "data": {
      "text/plain": [
       "55"
      ]
     },
     "execution_count": 41,
     "metadata": {},
     "output_type": "execute_result"
    }
   ],
   "source": [
    "data['LevetidKundeforholdMnd'].isnull().sum()"
   ]
  },
  {
   "cell_type": "markdown",
   "metadata": {},
   "source": [
    "We investigate if these are the same."
   ]
  },
  {
   "cell_type": "code",
   "execution_count": 42,
   "metadata": {
    "collapsed": false
   },
   "outputs": [
    {
     "data": {
      "text/plain": [
       "55"
      ]
     },
     "execution_count": 42,
     "metadata": {},
     "output_type": "execute_result"
    }
   ],
   "source": [
    "data.loc[data['LevetidKundeforholdDg'].isnull(),'LevetidKundeforholdMnd'].isnull().sum()"
   ]
  },
  {
   "cell_type": "markdown",
   "metadata": {},
   "source": [
    "Drop LevetidKundeforholdMnd, because these variables give the same information, and keep LevetidKundeforholdDg as this is the most accurate variable."
   ]
  },
  {
   "cell_type": "code",
   "execution_count": 43,
   "metadata": {
    "collapsed": true
   },
   "outputs": [],
   "source": [
    "data = data.drop('LevetidKundeforholdMnd',1)"
   ]
  },
  {
   "cell_type": "markdown",
   "metadata": {},
   "source": [
    "Remove the missing values in LevetidKundeforholdDg"
   ]
  },
  {
   "cell_type": "code",
   "execution_count": 44,
   "metadata": {
    "collapsed": true
   },
   "outputs": [],
   "source": [
    "data = data.dropna(subset=['LevetidKundeforholdDg'])"
   ]
  },
  {
   "cell_type": "markdown",
   "metadata": {},
   "source": [
    "Investigate the number of missing values in HelkundeInd, indicating if a user is a full client."
   ]
  },
  {
   "cell_type": "code",
   "execution_count": 45,
   "metadata": {
    "collapsed": false
   },
   "outputs": [
    {
     "data": {
      "text/plain": [
       "5362"
      ]
     },
     "execution_count": 45,
     "metadata": {},
     "output_type": "execute_result"
    }
   ],
   "source": [
    "data['HelkundeInd'].isnull().sum()"
   ]
  },
  {
   "cell_type": "markdown",
   "metadata": {},
   "source": [
    "The number of missing values are more than 50% of the total data set. This variable is therefore removed."
   ]
  },
  {
   "cell_type": "code",
   "execution_count": 46,
   "metadata": {
    "collapsed": true
   },
   "outputs": [],
   "source": [
    "data = data.drop(['HelkundeInd'],axis=1)"
   ]
  },
  {
   "cell_type": "markdown",
   "metadata": {
    "collapsed": true
   },
   "source": [
    "Update the list of variables with missing values"
   ]
  },
  {
   "cell_type": "code",
   "execution_count": 47,
   "metadata": {
    "collapsed": false
   },
   "outputs": [
    {
     "data": {
      "text/plain": [
       "AktorId                       False\n",
       "Alder                         False\n",
       "AlderGrp                      False\n",
       "Household_ID                  False\n",
       "FylkeNr                       False\n",
       "KommuneNr                     False\n",
       "Postnr                        False\n",
       "ErDisponentAnt                False\n",
       "ErInnehaverAnt                False\n",
       "ErKlientAnt                   False\n",
       "ErKontoapnerAnt               False\n",
       "ErKausjonistAnt               False\n",
       "ErRealkausjonistAnt           False\n",
       "ErSamskyldnerAnt              False\n",
       "ErUtleieAnt                   False\n",
       "ErVergeAnt                    False\n",
       "HarDisponentAnt               False\n",
       "HarInnehaverAnt               False\n",
       "HarKlientAnt                  False\n",
       "HarKontoapnerAnt              False\n",
       "HarKausjonistAnt              False\n",
       "HarRealkausjonistAnt          False\n",
       "HarSamskyldnerAnt             False\n",
       "HarUtleieAnt                  False\n",
       "HarVergeAnt                   False\n",
       "SumElektroniskeTrans           True\n",
       "SumManuelleTrans               True\n",
       "SumBarnasBoligkonto           False\n",
       "SumBSUKonto                   False\n",
       "SumBSU2Konto                  False\n",
       "SumBrukskonto                 False\n",
       "SumInnskudd                   False\n",
       "SumSparekonto                 False\n",
       "SumKredittkortDebet           False\n",
       "SumKredittkortKreditt         False\n",
       "AktivKapital                  False\n",
       "TopplanInd                     True\n",
       "ForstehjemskundeInd            True\n",
       "LevetidKundeforholdDg         False\n",
       "AntallProdukter               False\n",
       "AntAktAvtBank                 False\n",
       "AntAktAvtInnskudd             False\n",
       "AntAktAvtKredittkort          False\n",
       "AntBrukskonto                 False\n",
       "AntKredittkortDebet           False\n",
       "AntKredittkortKreditt         False\n",
       "AntSparekonto                 False\n",
       "AntAktiveSkadefors            False\n",
       "AntAktiv_AndreForsikringer    False\n",
       "AntAktUtlanAvt                False\n",
       "AntAvtBSU                     False\n",
       "AntAktBoliglan                False\n",
       "DNBAntAktBoliglan             False\n",
       "AntAktGaranterte              False\n",
       "AntAktLink                    False\n",
       "AntAktSpareforsikring         False\n",
       "dtype: bool"
      ]
     },
     "execution_count": 47,
     "metadata": {},
     "output_type": "execute_result"
    }
   ],
   "source": [
    "data.isnull().any()"
   ]
  },
  {
   "cell_type": "markdown",
   "metadata": {
    "collapsed": true
   },
   "source": [
    "SumElektroniskeTrans, SumManuelleTrans, TopplanInd and ForstehjemkundeInd still have missing values"
   ]
  },
  {
   "cell_type": "code",
   "execution_count": 48,
   "metadata": {
    "collapsed": false
   },
   "outputs": [
    {
     "data": {
      "text/plain": [
       "2496"
      ]
     },
     "execution_count": 48,
     "metadata": {},
     "output_type": "execute_result"
    }
   ],
   "source": [
    "data['SumElektroniskeTrans'].isnull().sum()"
   ]
  },
  {
   "cell_type": "code",
   "execution_count": 49,
   "metadata": {
    "collapsed": false
   },
   "outputs": [
    {
     "data": {
      "text/plain": [
       "2496"
      ]
     },
     "execution_count": 49,
     "metadata": {},
     "output_type": "execute_result"
    }
   ],
   "source": [
    "data['SumManuelleTrans'].isnull().sum()"
   ]
  },
  {
   "cell_type": "code",
   "execution_count": 50,
   "metadata": {
    "collapsed": false
   },
   "outputs": [
    {
     "data": {
      "text/plain": [
       "5362"
      ]
     },
     "execution_count": 50,
     "metadata": {},
     "output_type": "execute_result"
    }
   ],
   "source": [
    "data['TopplanInd'].isnull().sum()"
   ]
  },
  {
   "cell_type": "code",
   "execution_count": 51,
   "metadata": {
    "collapsed": false
   },
   "outputs": [
    {
     "data": {
      "text/plain": [
       "5362"
      ]
     },
     "execution_count": 51,
     "metadata": {},
     "output_type": "execute_result"
    }
   ],
   "source": [
    "data['ForstehjemskundeInd'].isnull().sum()"
   ]
  },
  {
   "cell_type": "markdown",
   "metadata": {},
   "source": [
    "We drop all of these since they have more than 20% missing values."
   ]
  },
  {
   "cell_type": "code",
   "execution_count": 52,
   "metadata": {
    "collapsed": true
   },
   "outputs": [],
   "source": [
    "data = data.drop(['SumElektroniskeTrans','SumManuelleTrans','TopplanInd','ForstehjemskundeInd'],axis=1)"
   ]
  },
  {
   "cell_type": "markdown",
   "metadata": {},
   "source": [
    "Update the list of variables with missing values"
   ]
  },
  {
   "cell_type": "code",
   "execution_count": 53,
   "metadata": {
    "collapsed": false
   },
   "outputs": [
    {
     "data": {
      "text/plain": [
       "AktorId                       False\n",
       "Alder                         False\n",
       "AlderGrp                      False\n",
       "Household_ID                  False\n",
       "FylkeNr                       False\n",
       "KommuneNr                     False\n",
       "Postnr                        False\n",
       "ErDisponentAnt                False\n",
       "ErInnehaverAnt                False\n",
       "ErKlientAnt                   False\n",
       "ErKontoapnerAnt               False\n",
       "ErKausjonistAnt               False\n",
       "ErRealkausjonistAnt           False\n",
       "ErSamskyldnerAnt              False\n",
       "ErUtleieAnt                   False\n",
       "ErVergeAnt                    False\n",
       "HarDisponentAnt               False\n",
       "HarInnehaverAnt               False\n",
       "HarKlientAnt                  False\n",
       "HarKontoapnerAnt              False\n",
       "HarKausjonistAnt              False\n",
       "HarRealkausjonistAnt          False\n",
       "HarSamskyldnerAnt             False\n",
       "HarUtleieAnt                  False\n",
       "HarVergeAnt                   False\n",
       "SumBarnasBoligkonto           False\n",
       "SumBSUKonto                   False\n",
       "SumBSU2Konto                  False\n",
       "SumBrukskonto                 False\n",
       "SumInnskudd                   False\n",
       "SumSparekonto                 False\n",
       "SumKredittkortDebet           False\n",
       "SumKredittkortKreditt         False\n",
       "AktivKapital                  False\n",
       "LevetidKundeforholdDg         False\n",
       "AntallProdukter               False\n",
       "AntAktAvtBank                 False\n",
       "AntAktAvtInnskudd             False\n",
       "AntAktAvtKredittkort          False\n",
       "AntBrukskonto                 False\n",
       "AntKredittkortDebet           False\n",
       "AntKredittkortKreditt         False\n",
       "AntSparekonto                 False\n",
       "AntAktiveSkadefors            False\n",
       "AntAktiv_AndreForsikringer    False\n",
       "AntAktUtlanAvt                False\n",
       "AntAvtBSU                     False\n",
       "AntAktBoliglan                False\n",
       "DNBAntAktBoliglan             False\n",
       "AntAktGaranterte              False\n",
       "AntAktLink                    False\n",
       "AntAktSpareforsikring         False\n",
       "dtype: bool"
      ]
     },
     "execution_count": 53,
     "metadata": {},
     "output_type": "execute_result"
    }
   ],
   "source": [
    "data.isnull().any()"
   ]
  },
  {
   "cell_type": "markdown",
   "metadata": {},
   "source": [
    "There are no remaining missing values is the data set"
   ]
  },
  {
   "cell_type": "markdown",
   "metadata": {},
   "source": [
    "Number of remaining users in the data set"
   ]
  },
  {
   "cell_type": "code",
   "execution_count": 54,
   "metadata": {
    "collapsed": false
   },
   "outputs": [
    {
     "data": {
      "text/plain": [
       "7666"
      ]
     },
     "execution_count": 54,
     "metadata": {},
     "output_type": "execute_result"
    }
   ],
   "source": [
    "len(data)"
   ]
  },
  {
   "cell_type": "markdown",
   "metadata": {},
   "source": [
    "List the remaining variables"
   ]
  },
  {
   "cell_type": "code",
   "execution_count": 55,
   "metadata": {
    "collapsed": false
   },
   "outputs": [
    {
     "data": {
      "text/plain": [
       "['AktorId',\n",
       " 'Alder',\n",
       " 'AlderGrp',\n",
       " 'Household_ID',\n",
       " 'FylkeNr',\n",
       " 'KommuneNr',\n",
       " 'Postnr',\n",
       " 'ErDisponentAnt',\n",
       " 'ErInnehaverAnt',\n",
       " 'ErKlientAnt',\n",
       " 'ErKontoapnerAnt',\n",
       " 'ErKausjonistAnt',\n",
       " 'ErRealkausjonistAnt',\n",
       " 'ErSamskyldnerAnt',\n",
       " 'ErUtleieAnt',\n",
       " 'ErVergeAnt',\n",
       " 'HarDisponentAnt',\n",
       " 'HarInnehaverAnt',\n",
       " 'HarKlientAnt',\n",
       " 'HarKontoapnerAnt',\n",
       " 'HarKausjonistAnt',\n",
       " 'HarRealkausjonistAnt',\n",
       " 'HarSamskyldnerAnt',\n",
       " 'HarUtleieAnt',\n",
       " 'HarVergeAnt',\n",
       " 'SumBarnasBoligkonto',\n",
       " 'SumBSUKonto',\n",
       " 'SumBSU2Konto',\n",
       " 'SumBrukskonto',\n",
       " 'SumInnskudd',\n",
       " 'SumSparekonto',\n",
       " 'SumKredittkortDebet',\n",
       " 'SumKredittkortKreditt',\n",
       " 'AktivKapital',\n",
       " 'LevetidKundeforholdDg',\n",
       " 'AntallProdukter',\n",
       " 'AntAktAvtBank',\n",
       " 'AntAktAvtInnskudd',\n",
       " 'AntAktAvtKredittkort',\n",
       " 'AntBrukskonto',\n",
       " 'AntKredittkortDebet',\n",
       " 'AntKredittkortKreditt',\n",
       " 'AntSparekonto',\n",
       " 'AntAktiveSkadefors',\n",
       " 'AntAktiv_AndreForsikringer',\n",
       " 'AntAktUtlanAvt',\n",
       " 'AntAvtBSU',\n",
       " 'AntAktBoliglan',\n",
       " 'DNBAntAktBoliglan',\n",
       " 'AntAktGaranterte',\n",
       " 'AntAktLink',\n",
       " 'AntAktSpareforsikring']"
      ]
     },
     "execution_count": 55,
     "metadata": {},
     "output_type": "execute_result"
    }
   ],
   "source": [
    "list(data)"
   ]
  },
  {
   "cell_type": "markdown",
   "metadata": {},
   "source": [
    "## 2. Outliers"
   ]
  },
  {
   "cell_type": "code",
   "execution_count": 56,
   "metadata": {
    "collapsed": false
   },
   "outputs": [],
   "source": [
    "data.to_csv(r'Data/data_cleaned.csv')\n",
    "data = pd.read_csv('Data/data_cleaned.csv',nrows=5000)"
   ]
  },
  {
   "cell_type": "code",
   "execution_count": 57,
   "metadata": {
    "collapsed": false
   },
   "outputs": [
    {
     "data": {
      "text/html": [
       "<div>\n",
       "<table border=\"1\" class=\"dataframe\">\n",
       "  <thead>\n",
       "    <tr style=\"text-align: right;\">\n",
       "      <th></th>\n",
       "      <th>Unnamed: 0</th>\n",
       "      <th>AktorId</th>\n",
       "      <th>Alder</th>\n",
       "      <th>Household_ID</th>\n",
       "      <th>FylkeNr</th>\n",
       "      <th>KommuneNr</th>\n",
       "      <th>Postnr</th>\n",
       "      <th>ErDisponentAnt</th>\n",
       "      <th>ErInnehaverAnt</th>\n",
       "      <th>ErKlientAnt</th>\n",
       "      <th>...</th>\n",
       "      <th>AntSparekonto</th>\n",
       "      <th>AntAktiveSkadefors</th>\n",
       "      <th>AntAktiv_AndreForsikringer</th>\n",
       "      <th>AntAktUtlanAvt</th>\n",
       "      <th>AntAvtBSU</th>\n",
       "      <th>AntAktBoliglan</th>\n",
       "      <th>DNBAntAktBoliglan</th>\n",
       "      <th>AntAktGaranterte</th>\n",
       "      <th>AntAktLink</th>\n",
       "      <th>AntAktSpareforsikring</th>\n",
       "    </tr>\n",
       "  </thead>\n",
       "  <tbody>\n",
       "    <tr>\n",
       "      <th>count</th>\n",
       "      <td>5000.000000</td>\n",
       "      <td>5.000000e+03</td>\n",
       "      <td>5000.000000</td>\n",
       "      <td>5000.0</td>\n",
       "      <td>5000.000000</td>\n",
       "      <td>5000.000000</td>\n",
       "      <td>5000.000000</td>\n",
       "      <td>5000.000000</td>\n",
       "      <td>5000.0</td>\n",
       "      <td>5000.0</td>\n",
       "      <td>...</td>\n",
       "      <td>5000.000000</td>\n",
       "      <td>5000.000000</td>\n",
       "      <td>5000.000000</td>\n",
       "      <td>5000.000000</td>\n",
       "      <td>5000.000000</td>\n",
       "      <td>5000.000000</td>\n",
       "      <td>5000.000000</td>\n",
       "      <td>5000.000000</td>\n",
       "      <td>5000.000000</td>\n",
       "      <td>5000.000000</td>\n",
       "    </tr>\n",
       "    <tr>\n",
       "      <th>mean</th>\n",
       "      <td>2864.094400</td>\n",
       "      <td>3.183856e+06</td>\n",
       "      <td>43.322600</td>\n",
       "      <td>1.0</td>\n",
       "      <td>7.644200</td>\n",
       "      <td>778.292000</td>\n",
       "      <td>3595.527000</td>\n",
       "      <td>0.294000</td>\n",
       "      <td>0.0</td>\n",
       "      <td>0.0</td>\n",
       "      <td>...</td>\n",
       "      <td>0.707200</td>\n",
       "      <td>0.099800</td>\n",
       "      <td>0.099600</td>\n",
       "      <td>0.180600</td>\n",
       "      <td>0.107800</td>\n",
       "      <td>0.178800</td>\n",
       "      <td>0.045600</td>\n",
       "      <td>0.047200</td>\n",
       "      <td>0.013600</td>\n",
       "      <td>0.204000</td>\n",
       "    </tr>\n",
       "    <tr>\n",
       "      <th>std</th>\n",
       "      <td>1645.157833</td>\n",
       "      <td>2.113771e+06</td>\n",
       "      <td>14.372287</td>\n",
       "      <td>0.0</td>\n",
       "      <td>5.724942</td>\n",
       "      <td>574.801048</td>\n",
       "      <td>2548.513227</td>\n",
       "      <td>0.455637</td>\n",
       "      <td>0.0</td>\n",
       "      <td>0.0</td>\n",
       "      <td>...</td>\n",
       "      <td>0.455093</td>\n",
       "      <td>0.299763</td>\n",
       "      <td>0.299496</td>\n",
       "      <td>0.384725</td>\n",
       "      <td>0.310159</td>\n",
       "      <td>0.383223</td>\n",
       "      <td>0.208637</td>\n",
       "      <td>0.212088</td>\n",
       "      <td>0.115835</td>\n",
       "      <td>0.403009</td>\n",
       "    </tr>\n",
       "    <tr>\n",
       "      <th>min</th>\n",
       "      <td>2.000000</td>\n",
       "      <td>9.380000e+02</td>\n",
       "      <td>18.000000</td>\n",
       "      <td>1.0</td>\n",
       "      <td>1.000000</td>\n",
       "      <td>101.000000</td>\n",
       "      <td>129.000000</td>\n",
       "      <td>0.000000</td>\n",
       "      <td>0.0</td>\n",
       "      <td>0.0</td>\n",
       "      <td>...</td>\n",
       "      <td>0.000000</td>\n",
       "      <td>0.000000</td>\n",
       "      <td>0.000000</td>\n",
       "      <td>0.000000</td>\n",
       "      <td>0.000000</td>\n",
       "      <td>0.000000</td>\n",
       "      <td>0.000000</td>\n",
       "      <td>0.000000</td>\n",
       "      <td>0.000000</td>\n",
       "      <td>0.000000</td>\n",
       "    </tr>\n",
       "    <tr>\n",
       "      <th>25%</th>\n",
       "      <td>1445.750000</td>\n",
       "      <td>1.500219e+06</td>\n",
       "      <td>31.000000</td>\n",
       "      <td>1.0</td>\n",
       "      <td>3.000000</td>\n",
       "      <td>301.000000</td>\n",
       "      <td>1454.000000</td>\n",
       "      <td>0.000000</td>\n",
       "      <td>0.0</td>\n",
       "      <td>0.0</td>\n",
       "      <td>...</td>\n",
       "      <td>0.000000</td>\n",
       "      <td>0.000000</td>\n",
       "      <td>0.000000</td>\n",
       "      <td>0.000000</td>\n",
       "      <td>0.000000</td>\n",
       "      <td>0.000000</td>\n",
       "      <td>0.000000</td>\n",
       "      <td>0.000000</td>\n",
       "      <td>0.000000</td>\n",
       "      <td>0.000000</td>\n",
       "    </tr>\n",
       "    <tr>\n",
       "      <th>50%</th>\n",
       "      <td>2862.500000</td>\n",
       "      <td>2.660586e+06</td>\n",
       "      <td>43.000000</td>\n",
       "      <td>1.0</td>\n",
       "      <td>6.000000</td>\n",
       "      <td>614.500000</td>\n",
       "      <td>3118.000000</td>\n",
       "      <td>0.000000</td>\n",
       "      <td>0.0</td>\n",
       "      <td>0.0</td>\n",
       "      <td>...</td>\n",
       "      <td>1.000000</td>\n",
       "      <td>0.000000</td>\n",
       "      <td>0.000000</td>\n",
       "      <td>0.000000</td>\n",
       "      <td>0.000000</td>\n",
       "      <td>0.000000</td>\n",
       "      <td>0.000000</td>\n",
       "      <td>0.000000</td>\n",
       "      <td>0.000000</td>\n",
       "      <td>0.000000</td>\n",
       "    </tr>\n",
       "    <tr>\n",
       "      <th>75%</th>\n",
       "      <td>4287.500000</td>\n",
       "      <td>4.462443e+06</td>\n",
       "      <td>55.000000</td>\n",
       "      <td>1.0</td>\n",
       "      <td>12.000000</td>\n",
       "      <td>1201.000000</td>\n",
       "      <td>5227.000000</td>\n",
       "      <td>1.000000</td>\n",
       "      <td>0.0</td>\n",
       "      <td>0.0</td>\n",
       "      <td>...</td>\n",
       "      <td>1.000000</td>\n",
       "      <td>0.000000</td>\n",
       "      <td>0.000000</td>\n",
       "      <td>0.000000</td>\n",
       "      <td>0.000000</td>\n",
       "      <td>0.000000</td>\n",
       "      <td>0.000000</td>\n",
       "      <td>0.000000</td>\n",
       "      <td>0.000000</td>\n",
       "      <td>0.000000</td>\n",
       "    </tr>\n",
       "    <tr>\n",
       "      <th>max</th>\n",
       "      <td>5713.000000</td>\n",
       "      <td>9.424479e+06</td>\n",
       "      <td>70.000000</td>\n",
       "      <td>1.0</td>\n",
       "      <td>21.000000</td>\n",
       "      <td>2111.000000</td>\n",
       "      <td>9990.000000</td>\n",
       "      <td>1.000000</td>\n",
       "      <td>0.0</td>\n",
       "      <td>0.0</td>\n",
       "      <td>...</td>\n",
       "      <td>1.000000</td>\n",
       "      <td>1.000000</td>\n",
       "      <td>1.000000</td>\n",
       "      <td>1.000000</td>\n",
       "      <td>1.000000</td>\n",
       "      <td>1.000000</td>\n",
       "      <td>1.000000</td>\n",
       "      <td>1.000000</td>\n",
       "      <td>1.000000</td>\n",
       "      <td>1.000000</td>\n",
       "    </tr>\n",
       "  </tbody>\n",
       "</table>\n",
       "<p>8 rows × 52 columns</p>\n",
       "</div>"
      ],
      "text/plain": [
       "        Unnamed: 0       AktorId        Alder  Household_ID      FylkeNr  \\\n",
       "count  5000.000000  5.000000e+03  5000.000000        5000.0  5000.000000   \n",
       "mean   2864.094400  3.183856e+06    43.322600           1.0     7.644200   \n",
       "std    1645.157833  2.113771e+06    14.372287           0.0     5.724942   \n",
       "min       2.000000  9.380000e+02    18.000000           1.0     1.000000   \n",
       "25%    1445.750000  1.500219e+06    31.000000           1.0     3.000000   \n",
       "50%    2862.500000  2.660586e+06    43.000000           1.0     6.000000   \n",
       "75%    4287.500000  4.462443e+06    55.000000           1.0    12.000000   \n",
       "max    5713.000000  9.424479e+06    70.000000           1.0    21.000000   \n",
       "\n",
       "         KommuneNr       Postnr  ErDisponentAnt  ErInnehaverAnt  ErKlientAnt  \\\n",
       "count  5000.000000  5000.000000     5000.000000          5000.0       5000.0   \n",
       "mean    778.292000  3595.527000        0.294000             0.0          0.0   \n",
       "std     574.801048  2548.513227        0.455637             0.0          0.0   \n",
       "min     101.000000   129.000000        0.000000             0.0          0.0   \n",
       "25%     301.000000  1454.000000        0.000000             0.0          0.0   \n",
       "50%     614.500000  3118.000000        0.000000             0.0          0.0   \n",
       "75%    1201.000000  5227.000000        1.000000             0.0          0.0   \n",
       "max    2111.000000  9990.000000        1.000000             0.0          0.0   \n",
       "\n",
       "               ...            AntSparekonto  AntAktiveSkadefors  \\\n",
       "count          ...              5000.000000         5000.000000   \n",
       "mean           ...                 0.707200            0.099800   \n",
       "std            ...                 0.455093            0.299763   \n",
       "min            ...                 0.000000            0.000000   \n",
       "25%            ...                 0.000000            0.000000   \n",
       "50%            ...                 1.000000            0.000000   \n",
       "75%            ...                 1.000000            0.000000   \n",
       "max            ...                 1.000000            1.000000   \n",
       "\n",
       "       AntAktiv_AndreForsikringer  AntAktUtlanAvt    AntAvtBSU  \\\n",
       "count                 5000.000000     5000.000000  5000.000000   \n",
       "mean                     0.099600        0.180600     0.107800   \n",
       "std                      0.299496        0.384725     0.310159   \n",
       "min                      0.000000        0.000000     0.000000   \n",
       "25%                      0.000000        0.000000     0.000000   \n",
       "50%                      0.000000        0.000000     0.000000   \n",
       "75%                      0.000000        0.000000     0.000000   \n",
       "max                      1.000000        1.000000     1.000000   \n",
       "\n",
       "       AntAktBoliglan  DNBAntAktBoliglan  AntAktGaranterte   AntAktLink  \\\n",
       "count     5000.000000        5000.000000       5000.000000  5000.000000   \n",
       "mean         0.178800           0.045600          0.047200     0.013600   \n",
       "std          0.383223           0.208637          0.212088     0.115835   \n",
       "min          0.000000           0.000000          0.000000     0.000000   \n",
       "25%          0.000000           0.000000          0.000000     0.000000   \n",
       "50%          0.000000           0.000000          0.000000     0.000000   \n",
       "75%          0.000000           0.000000          0.000000     0.000000   \n",
       "max          1.000000           1.000000          1.000000     1.000000   \n",
       "\n",
       "       AntAktSpareforsikring  \n",
       "count            5000.000000  \n",
       "mean                0.204000  \n",
       "std                 0.403009  \n",
       "min                 0.000000  \n",
       "25%                 0.000000  \n",
       "50%                 0.000000  \n",
       "75%                 0.000000  \n",
       "max                 1.000000  \n",
       "\n",
       "[8 rows x 52 columns]"
      ]
     },
     "execution_count": 57,
     "metadata": {},
     "output_type": "execute_result"
    }
   ],
   "source": [
    "data.describe()"
   ]
  },
  {
   "cell_type": "code",
   "execution_count": 58,
   "metadata": {
    "collapsed": true
   },
   "outputs": [],
   "source": [
    "data = data.drop('Unnamed: 0',1)"
   ]
  },
  {
   "cell_type": "markdown",
   "metadata": {},
   "source": [
    "The range for all numerical variables"
   ]
  },
  {
   "cell_type": "code",
   "execution_count": 59,
   "metadata": {
    "collapsed": false
   },
   "outputs": [
    {
     "name": "stdout",
     "output_type": "stream",
     "text": [
      "AktorId (min,max):  938 , 9424479\n",
      "Alder (min,max):  18 , 70\n",
      "AlderGrp (min,max):   Over 70 År , 60 - 69 År\n",
      "Household_ID (min,max):  1.0 , 1.0\n",
      "FylkeNr (min,max):  1.0 , 21.0\n",
      "KommuneNr (min,max):  101.0 , 2111.0\n",
      "Postnr (min,max):  129.0 , 9990.0\n",
      "ErDisponentAnt (min,max):  0.0 , 1.0\n",
      "ErInnehaverAnt (min,max):  0.0 , 0.0\n",
      "ErKlientAnt (min,max):  0.0 , 0.0\n",
      "ErKontoapnerAnt (min,max):  0.0 , 1.0\n",
      "ErKausjonistAnt (min,max):  0.0 , 1.0\n",
      "ErRealkausjonistAnt (min,max):  0.0 , 1.0\n",
      "ErSamskyldnerAnt (min,max):  0.0 , 1.0\n",
      "ErUtleieAnt (min,max):  0.0 , 1.0\n",
      "ErVergeAnt (min,max):  0.0 , 1.0\n",
      "HarDisponentAnt (min,max):  0.0 , 4.0\n",
      "HarInnehaverAnt (min,max):  0.0 , 0.0\n",
      "HarKlientAnt (min,max):  0.0 , 0.0\n",
      "HarKontoapnerAnt (min,max):  0.0 , 2.0\n",
      "HarKausjonistAnt (min,max):  0.0 , 2.0\n",
      "HarRealkausjonistAnt (min,max):  0.0 , 3.0\n",
      "HarSamskyldnerAnt (min,max):  0.0 , 3.0\n",
      "HarUtleieAnt (min,max):  0.0 , 2.0\n",
      "HarVergeAnt (min,max):  0.0 , 2.0\n",
      "SumBarnasBoligkonto (min,max):  0.0 , 61258.8\n",
      "SumBSUKonto (min,max):  0.0 , 288493.32\n",
      "SumBSU2Konto (min,max):  0.0 , 151115.27\n",
      "SumBrukskonto (min,max):  0.0 , 1680103.11\n",
      "SumInnskudd (min,max):  0.0 , 26482925.65\n",
      "SumSparekonto (min,max):  0.0 , 25377726.59\n",
      "SumKredittkortDebet (min,max):  0.0 , 404764.25\n",
      "SumKredittkortKreditt (min,max):  0.0 , 2.0\n",
      "AktivKapital (min,max):  0.0 , 26650676.58\n",
      "LevetidKundeforholdDg (min,max):  203.0 , 736234.0\n",
      "AntallProdukter (min,max):  0 , 9\n",
      "AntAktAvtBank (min,max):  0 , 1\n",
      "AntAktAvtInnskudd (min,max):  0 , 1\n",
      "AntAktAvtKredittkort (min,max):  0 , 1\n",
      "AntBrukskonto (min,max):  0 , 1\n",
      "AntKredittkortDebet (min,max):  0 , 1\n",
      "AntKredittkortKreditt (min,max):  0 , 1\n",
      "AntSparekonto (min,max):  0 , 1\n",
      "AntAktiveSkadefors (min,max):  0 , 1\n",
      "AntAktiv_AndreForsikringer (min,max):  0 , 1\n",
      "AntAktUtlanAvt (min,max):  0 , 1\n",
      "AntAvtBSU (min,max):  0 , 1\n",
      "AntAktBoliglan (min,max):  0 , 1\n",
      "DNBAntAktBoliglan (min,max):  0 , 1\n",
      "AntAktGaranterte (min,max):  0 , 1\n",
      "AntAktLink (min,max):  0 , 1\n",
      "AntAktSpareforsikring (min,max):  0 , 1\n"
     ]
    }
   ],
   "source": [
    "for col in data.columns:\n",
    "    try:\n",
    "        print(col,'(min,max): ',data[col].min(),',',data[col].max())\n",
    "    except:\n",
    "        continue"
   ]
  },
  {
   "cell_type": "markdown",
   "metadata": {},
   "source": [
    "List the variables with the same min and max value"
   ]
  },
  {
   "cell_type": "code",
   "execution_count": 60,
   "metadata": {
    "collapsed": false
   },
   "outputs": [
    {
     "name": "stdout",
     "output_type": "stream",
     "text": [
      "Household_ID\n",
      "ErInnehaverAnt\n",
      "ErKlientAnt\n",
      "HarInnehaverAnt\n",
      "HarKlientAnt\n"
     ]
    }
   ],
   "source": [
    "for col in data.columns:\n",
    "    try:\n",
    "        if(data[col].min()==data[col].max()):\n",
    "            print(col)\n",
    "    except:\n",
    "        continue"
   ]
  },
  {
   "cell_type": "markdown",
   "metadata": {},
   "source": [
    "Remove these variables as they do not contain any information"
   ]
  },
  {
   "cell_type": "code",
   "execution_count": 61,
   "metadata": {
    "collapsed": true
   },
   "outputs": [],
   "source": [
    "data = data.drop('Household_ID',1)\n",
    "data = data.drop('ErKlientAnt',1)\n",
    "data = data.drop('HarKlientAnt',1)\n",
    "data = data.drop('ErInnehaverAnt',1)\n",
    "data = data.drop('HarInnehaverAnt',1)"
   ]
  },
  {
   "cell_type": "markdown",
   "metadata": {},
   "source": [
    "Remove SumKredittkortKreditt as it does not give any reasonable values."
   ]
  },
  {
   "cell_type": "code",
   "execution_count": 62,
   "metadata": {
    "collapsed": true
   },
   "outputs": [],
   "source": [
    "data = data.drop('SumKredittkortKreditt',1)"
   ]
  },
  {
   "cell_type": "markdown",
   "metadata": {},
   "source": [
    "We observe the presence of one or several outliers in LevetidKundeforholdDg because the max value 736234/365 = 2017 years. We therefore remove all users that have a customer lifetime above the maximum age (70 years)."
   ]
  },
  {
   "cell_type": "code",
   "execution_count": 63,
   "metadata": {
    "collapsed": false
   },
   "outputs": [
    {
     "data": {
      "text/plain": [
       "25550"
      ]
     },
     "execution_count": 63,
     "metadata": {},
     "output_type": "execute_result"
    }
   ],
   "source": [
    "max_lifetime = data['Alder'].max()*365\n",
    "max_lifetime"
   ]
  },
  {
   "cell_type": "code",
   "execution_count": 64,
   "metadata": {
    "collapsed": true
   },
   "outputs": [],
   "source": [
    "data = data[data.LevetidKundeforholdDg<max_lifetime]"
   ]
  },
  {
   "cell_type": "code",
   "execution_count": 65,
   "metadata": {
    "collapsed": false
   },
   "outputs": [
    {
     "data": {
      "text/plain": [
       "24320.0"
      ]
     },
     "execution_count": 65,
     "metadata": {},
     "output_type": "execute_result"
    }
   ],
   "source": [
    "data['LevetidKundeforholdDg'].max()"
   ]
  },
  {
   "cell_type": "markdown",
   "metadata": {},
   "source": [
    "Print Latex code for the descriptive statistics"
   ]
  },
  {
   "cell_type": "code",
   "execution_count": 66,
   "metadata": {
    "collapsed": false
   },
   "outputs": [
    {
     "data": {
      "text/plain": [
       "'\\\\begin{tabular}{lrrrrrrrr}\\n\\\\toprule\\n{} &   count &          mean &           std &    min &           25\\\\% &          50\\\\% &           75\\\\% &          max \\\\\\\\\\n\\\\midrule\\nAktorId                    &  4840.0 &  3.237789e+06 &  2.121647e+06 &  938.0 &  1.543695e+06 &  2716093.500 &  4.527728e+06 &   9424479.00 \\\\\\\\\\nAlder                      &  4840.0 &  4.298864e+01 &  1.437748e+01 &   18.0 &  3.100000e+01 &       43.000 &  5.400000e+01 &        70.00 \\\\\\\\\\nFylkeNr                    &  4840.0 &  7.683471e+00 &  5.753299e+00 &    1.0 &  3.000000e+00 &        6.000 &  1.200000e+01 &        21.00 \\\\\\\\\\nKommuneNr                  &  4840.0 &  7.821975e+02 &  5.776313e+02 &  101.0 &  3.010000e+02 &      620.500 &  1.201000e+03 &      2111.00 \\\\\\\\\\nPostnr                     &  4840.0 &  3.605568e+03 &  2.564834e+03 &  129.0 &  1.447000e+03 &     3122.000 &  5.238000e+03 &      9990.00 \\\\\\\\\\nErDisponentAnt             &  4840.0 &  2.929752e-01 &  4.551742e-01 &    0.0 &  0.000000e+00 &        0.000 &  1.000000e+00 &         1.00 \\\\\\\\\\nErKontoapnerAnt            &  4840.0 &  5.888430e-02 &  2.354323e-01 &    0.0 &  0.000000e+00 &        0.000 &  0.000000e+00 &         1.00 \\\\\\\\\\nErKausjonistAnt            &  4840.0 &  4.132231e-04 &  2.032579e-02 &    0.0 &  0.000000e+00 &        0.000 &  0.000000e+00 &         1.00 \\\\\\\\\\nErRealkausjonistAnt        &  4840.0 &  1.404959e-02 &  1.177075e-01 &    0.0 &  0.000000e+00 &        0.000 &  0.000000e+00 &         1.00 \\\\\\\\\\nErSamskyldnerAnt           &  4840.0 &  1.123967e-01 &  3.158865e-01 &    0.0 &  0.000000e+00 &        0.000 &  0.000000e+00 &         1.00 \\\\\\\\\\nErUtleieAnt                &  4840.0 &  2.871901e-02 &  1.670329e-01 &    0.0 &  0.000000e+00 &        0.000 &  0.000000e+00 &         1.00 \\\\\\\\\\nErVergeAnt                 &  4840.0 &  6.756198e-02 &  2.510187e-01 &    0.0 &  0.000000e+00 &        0.000 &  0.000000e+00 &         1.00 \\\\\\\\\\nHarDisponentAnt            &  4840.0 &  3.570248e-01 &  6.083835e-01 &    0.0 &  0.000000e+00 &        0.000 &  1.000000e+00 &         4.00 \\\\\\\\\\nHarKontoapnerAnt           &  4840.0 &  6.219008e-02 &  2.548479e-01 &    0.0 &  0.000000e+00 &        0.000 &  0.000000e+00 &         2.00 \\\\\\\\\\nHarKausjonistAnt           &  4840.0 &  6.198347e-04 &  3.213856e-02 &    0.0 &  0.000000e+00 &        0.000 &  0.000000e+00 &         2.00 \\\\\\\\\\nHarRealkausjonistAnt       &  4840.0 &  1.880165e-02 &  1.696605e-01 &    0.0 &  0.000000e+00 &        0.000 &  0.000000e+00 &         3.00 \\\\\\\\\\nHarSamskyldnerAnt          &  4840.0 &  1.157025e-01 &  3.307005e-01 &    0.0 &  0.000000e+00 &        0.000 &  0.000000e+00 &         3.00 \\\\\\\\\\nHarUtleieAnt               &  4840.0 &  2.892562e-02 &  1.688432e-01 &    0.0 &  0.000000e+00 &        0.000 &  0.000000e+00 &         2.00 \\\\\\\\\\nHarVergeAnt                &  4840.0 &  1.082645e-01 &  4.218827e-01 &    0.0 &  0.000000e+00 &        0.000 &  0.000000e+00 &         2.00 \\\\\\\\\\nSumBarnasBoligkonto        &  4840.0 &  2.524639e+01 &  1.118982e+03 &    0.0 &  0.000000e+00 &        0.000 &  0.000000e+00 &     61258.80 \\\\\\\\\\nSumBSUKonto                &  4840.0 &  6.200092e+03 &  2.807574e+04 &    0.0 &  0.000000e+00 &        0.000 &  0.000000e+00 &    288493.32 \\\\\\\\\\nSumBSU2Konto               &  4840.0 &  6.035020e+02 &  7.029928e+03 &    0.0 &  0.000000e+00 &        0.000 &  0.000000e+00 &    151115.27 \\\\\\\\\\nSumBrukskonto              &  4840.0 &  2.457279e+04 &  8.908598e+04 &    0.0 &  0.000000e+00 &     2521.780 &  1.738864e+04 &   1680103.11 \\\\\\\\\\nSumInnskudd                &  4840.0 &  1.015210e+05 &  3.240491e+05 &    0.0 &  1.286175e+02 &     9470.965 &  6.524561e+04 &   6940992.70 \\\\\\\\\\nSumSparekonto              &  4840.0 &  7.607070e+04 &  2.958868e+05 &    0.0 &  0.000000e+00 &      100.395 &  2.656394e+04 &   6884101.24 \\\\\\\\\\nSumKredittkortDebet        &  4840.0 &  5.121532e+03 &  1.796847e+04 &    0.0 &  0.000000e+00 &        0.000 &  0.000000e+00 &    404764.25 \\\\\\\\\\nAktivKapital               &  4840.0 &  4.443615e+05 &  1.076834e+06 &    0.0 &  2.800675e+02 &    23118.495 &  2.323287e+05 &  16947962.49 \\\\\\\\\\nLevetidKundeforholdDg      &  4840.0 &  8.911368e+03 &  4.435521e+03 &  203.0 &  5.936000e+03 &     9140.000 &  1.202800e+04 &     24320.00 \\\\\\\\\\nAntallProdukter            &  4840.0 &  3.321901e+00 &  1.617511e+00 &    0.0 &  2.000000e+00 &        3.000 &  4.000000e+00 &         9.00 \\\\\\\\\\nAntAktAvtBank              &  4840.0 &  8.948347e-01 &  3.067980e-01 &    0.0 &  1.000000e+00 &        1.000 &  1.000000e+00 &         1.00 \\\\\\\\\\nAntAktAvtInnskudd          &  4840.0 &  9.252066e-01 &  2.630848e-01 &    0.0 &  1.000000e+00 &        1.000 &  1.000000e+00 &         1.00 \\\\\\\\\\nAntAktAvtKredittkort       &  4840.0 &  6.053719e-01 &  4.888212e-01 &    0.0 &  0.000000e+00 &        1.000 &  1.000000e+00 &         1.00 \\\\\\\\\\nAntBrukskonto              &  4840.0 &  7.630165e-01 &  4.252760e-01 &    0.0 &  1.000000e+00 &        1.000 &  1.000000e+00 &         1.00 \\\\\\\\\\nAntKredittkortDebet        &  4840.0 &  2.431818e-01 &  4.290483e-01 &    0.0 &  0.000000e+00 &        0.000 &  0.000000e+00 &         1.00 \\\\\\\\\\nAntKredittkortKreditt      &  4840.0 &  4.111570e-02 &  1.985783e-01 &    0.0 &  0.000000e+00 &        0.000 &  0.000000e+00 &         1.00 \\\\\\\\\\nAntSparekonto              &  4840.0 &  7.057851e-01 &  4.557361e-01 &    0.0 &  0.000000e+00 &        1.000 &  1.000000e+00 &         1.00 \\\\\\\\\\nAntAktiveSkadefors         &  4840.0 &  1.004132e-01 &  3.005812e-01 &    0.0 &  0.000000e+00 &        0.000 &  0.000000e+00 &         1.00 \\\\\\\\\\nAntAktiv\\\\_AndreForsikringer &  4840.0 &  1.002066e-01 &  3.003063e-01 &    0.0 &  0.000000e+00 &        0.000 &  0.000000e+00 &         1.00 \\\\\\\\\\nAntAktUtlanAvt             &  4840.0 &  1.764463e-01 &  3.812388e-01 &    0.0 &  0.000000e+00 &        0.000 &  0.000000e+00 &         1.00 \\\\\\\\\\nAntAvtBSU                  &  4840.0 &  1.109504e-01 &  3.141032e-01 &    0.0 &  0.000000e+00 &        0.000 &  0.000000e+00 &         1.00 \\\\\\\\\\nAntAktBoliglan             &  4840.0 &  1.745868e-01 &  3.796525e-01 &    0.0 &  0.000000e+00 &        0.000 &  0.000000e+00 &         1.00 \\\\\\\\\\nDNBAntAktBoliglan          &  4840.0 &  4.483471e-02 &  2.069623e-01 &    0.0 &  0.000000e+00 &        0.000 &  0.000000e+00 &         1.00 \\\\\\\\\\nAntAktGaranterte           &  4840.0 &  4.524793e-02 &  2.078689e-01 &    0.0 &  0.000000e+00 &        0.000 &  0.000000e+00 &         1.00 \\\\\\\\\\nAntAktLink                 &  4840.0 &  1.301653e-02 &  1.133568e-01 &    0.0 &  0.000000e+00 &        0.000 &  0.000000e+00 &         1.00 \\\\\\\\\\nAntAktSpareforsikring      &  4840.0 &  2.012397e-01 &  4.009682e-01 &    0.0 &  0.000000e+00 &        0.000 &  0.000000e+00 &         1.00 \\\\\\\\\\n\\\\bottomrule\\n\\\\end{tabular}\\n'"
      ]
     },
     "execution_count": 66,
     "metadata": {},
     "output_type": "execute_result"
    }
   ],
   "source": [
    "data.describe().T.to_latex()"
   ]
  },
  {
   "cell_type": "markdown",
   "metadata": {
    "collapsed": false
   },
   "source": [
    "Save a train and test set of the cleaned data to csv (used for modeling)"
   ]
  },
  {
   "cell_type": "code",
   "execution_count": 69,
   "metadata": {
    "collapsed": true
   },
   "outputs": [],
   "source": [
    "dtrain = dtrain.drop('AlderGrp',1)\n",
    "dtest = dtest.drop('AlderGrp',1)"
   ]
  },
  {
   "cell_type": "code",
   "execution_count": 70,
   "metadata": {
    "collapsed": true
   },
   "outputs": [],
   "source": [
    "dtrain.to_csv(r'Data/dtrain_cleaned.csv')\n",
    "dtest.to_csv(r'Data/dtest_cleaned.csv')"
   ]
  }
 ],
 "metadata": {
  "anaconda-cloud": {},
  "kernelspec": {
   "display_name": "Python [conda env:py3.2]",
   "language": "python",
   "name": "conda-env-py3.2-py"
  },
  "language_info": {
   "codemirror_mode": {
    "name": "ipython",
    "version": 3
   },
   "file_extension": ".py",
   "mimetype": "text/x-python",
   "name": "python",
   "nbconvert_exporter": "python",
   "pygments_lexer": "ipython3",
   "version": "3.6.0"
  }
 },
 "nbformat": 4,
 "nbformat_minor": 1
}
