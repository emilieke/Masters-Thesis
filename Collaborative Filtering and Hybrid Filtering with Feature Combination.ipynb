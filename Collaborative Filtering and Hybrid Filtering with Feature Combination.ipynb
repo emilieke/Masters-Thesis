{
 "cells": [
  {
   "cell_type": "markdown",
   "metadata": {},
   "source": [
    "# Collaborative Filtering and Hybrid Filtering"
   ]
  },
  {
   "cell_type": "markdown",
   "metadata": {},
   "source": [
    "Import packages"
   ]
  },
  {
   "cell_type": "code",
   "execution_count": 1,
   "metadata": {
    "collapsed": false
   },
   "outputs": [
    {
     "name": "stderr",
     "output_type": "stream",
     "text": [
      "/Users/Emilie/anaconda/envs/py3.2/lib/python3.6/site-packages/IPython/html.py:14: ShimWarning: The `IPython.html` package has been deprecated. You should import from `notebook` instead. `IPython.html.widgets` has moved to `ipywidgets`.\n",
      "  \"`IPython.html.widgets` has moved to `ipywidgets`.\", ShimWarning)\n"
     ]
    }
   ],
   "source": [
    "%matplotlib inline\n",
    "import pandas as pd\n",
    "import numpy as np\n",
    "import seaborn as sns\n",
    "import time\n",
    "import scipy\n",
    "from sklearn import metrics\n",
    "from sklearn.metrics import confusion_matrix, classification_report\n",
    "from matplotlib import pyplot as plt\n",
    "from collections import defaultdict\n",
    "from scipy.spatial.distance import squareform\n",
    "from scipy.spatial.distance import pdist, cdist, jaccard"
   ]
  },
  {
   "cell_type": "markdown",
   "metadata": {},
   "source": [
    "Load data"
   ]
  },
  {
   "cell_type": "code",
   "execution_count": 2,
   "metadata": {
    "collapsed": false
   },
   "outputs": [],
   "source": [
    "dtrain = pd.read_csv('Data/dtrain_cleaned.csv')\n",
    "dtest = pd.read_csv('Data/dtest_cleaned.csv')"
   ]
  },
  {
   "cell_type": "code",
   "execution_count": 3,
   "metadata": {
    "collapsed": false
   },
   "outputs": [
    {
     "data": {
      "text/html": [
       "<div>\n",
       "<table border=\"1\" class=\"dataframe\">\n",
       "  <thead>\n",
       "    <tr style=\"text-align: right;\">\n",
       "      <th></th>\n",
       "      <th>Unnamed: 0</th>\n",
       "      <th>AktorId</th>\n",
       "      <th>Alder</th>\n",
       "      <th>FylkeNr</th>\n",
       "      <th>KommuneNr</th>\n",
       "      <th>Postnr</th>\n",
       "      <th>ErDisponentAnt</th>\n",
       "      <th>ErKontoapnerAnt</th>\n",
       "      <th>ErKausjonistAnt</th>\n",
       "      <th>ErRealkausjonistAnt</th>\n",
       "      <th>...</th>\n",
       "      <th>AntSparekonto</th>\n",
       "      <th>AntAktiveSkadefors</th>\n",
       "      <th>AntAktiv_AndreForsikringer</th>\n",
       "      <th>AntAktUtlanAvt</th>\n",
       "      <th>AntAvtBSU</th>\n",
       "      <th>AntAktBoliglan</th>\n",
       "      <th>DNBAntAktBoliglan</th>\n",
       "      <th>AntAktGaranterte</th>\n",
       "      <th>AntAktLink</th>\n",
       "      <th>AntAktSpareforsikring</th>\n",
       "    </tr>\n",
       "  </thead>\n",
       "  <tbody>\n",
       "    <tr>\n",
       "      <th>count</th>\n",
       "      <td>3630.000000</td>\n",
       "      <td>3.630000e+03</td>\n",
       "      <td>3630.000000</td>\n",
       "      <td>3630.000000</td>\n",
       "      <td>3630.000000</td>\n",
       "      <td>3630.000000</td>\n",
       "      <td>3630.000000</td>\n",
       "      <td>3630.000000</td>\n",
       "      <td>3630.000000</td>\n",
       "      <td>3630.000000</td>\n",
       "      <td>...</td>\n",
       "      <td>3630.000000</td>\n",
       "      <td>3630.000000</td>\n",
       "      <td>3630.000000</td>\n",
       "      <td>3630.000000</td>\n",
       "      <td>3630.000000</td>\n",
       "      <td>3630.000000</td>\n",
       "      <td>3630.000000</td>\n",
       "      <td>3630.000000</td>\n",
       "      <td>3630.000000</td>\n",
       "      <td>3630.000000</td>\n",
       "    </tr>\n",
       "    <tr>\n",
       "      <th>mean</th>\n",
       "      <td>2508.213774</td>\n",
       "      <td>3.218082e+06</td>\n",
       "      <td>43.208815</td>\n",
       "      <td>7.695868</td>\n",
       "      <td>783.614325</td>\n",
       "      <td>3613.719008</td>\n",
       "      <td>0.300551</td>\n",
       "      <td>0.055923</td>\n",
       "      <td>0.000551</td>\n",
       "      <td>0.014601</td>\n",
       "      <td>...</td>\n",
       "      <td>0.701653</td>\n",
       "      <td>0.102479</td>\n",
       "      <td>0.102204</td>\n",
       "      <td>0.178512</td>\n",
       "      <td>0.107713</td>\n",
       "      <td>0.176584</td>\n",
       "      <td>0.045455</td>\n",
       "      <td>0.044077</td>\n",
       "      <td>0.011846</td>\n",
       "      <td>0.201377</td>\n",
       "    </tr>\n",
       "    <tr>\n",
       "      <th>std</th>\n",
       "      <td>1431.680916</td>\n",
       "      <td>2.104151e+06</td>\n",
       "      <td>14.468157</td>\n",
       "      <td>5.738833</td>\n",
       "      <td>576.161533</td>\n",
       "      <td>2556.014909</td>\n",
       "      <td>0.458561</td>\n",
       "      <td>0.229804</td>\n",
       "      <td>0.023469</td>\n",
       "      <td>0.119964</td>\n",
       "      <td>...</td>\n",
       "      <td>0.457596</td>\n",
       "      <td>0.303319</td>\n",
       "      <td>0.302958</td>\n",
       "      <td>0.382996</td>\n",
       "      <td>0.310061</td>\n",
       "      <td>0.381369</td>\n",
       "      <td>0.208328</td>\n",
       "      <td>0.205295</td>\n",
       "      <td>0.108206</td>\n",
       "      <td>0.401085</td>\n",
       "    </tr>\n",
       "    <tr>\n",
       "      <th>min</th>\n",
       "      <td>0.000000</td>\n",
       "      <td>9.380000e+02</td>\n",
       "      <td>18.000000</td>\n",
       "      <td>1.000000</td>\n",
       "      <td>101.000000</td>\n",
       "      <td>168.000000</td>\n",
       "      <td>0.000000</td>\n",
       "      <td>0.000000</td>\n",
       "      <td>0.000000</td>\n",
       "      <td>0.000000</td>\n",
       "      <td>...</td>\n",
       "      <td>0.000000</td>\n",
       "      <td>0.000000</td>\n",
       "      <td>0.000000</td>\n",
       "      <td>0.000000</td>\n",
       "      <td>0.000000</td>\n",
       "      <td>0.000000</td>\n",
       "      <td>0.000000</td>\n",
       "      <td>0.000000</td>\n",
       "      <td>0.000000</td>\n",
       "      <td>0.000000</td>\n",
       "    </tr>\n",
       "    <tr>\n",
       "      <th>25%</th>\n",
       "      <td>1284.500000</td>\n",
       "      <td>1.548604e+06</td>\n",
       "      <td>31.000000</td>\n",
       "      <td>3.000000</td>\n",
       "      <td>301.000000</td>\n",
       "      <td>1453.000000</td>\n",
       "      <td>0.000000</td>\n",
       "      <td>0.000000</td>\n",
       "      <td>0.000000</td>\n",
       "      <td>0.000000</td>\n",
       "      <td>...</td>\n",
       "      <td>0.000000</td>\n",
       "      <td>0.000000</td>\n",
       "      <td>0.000000</td>\n",
       "      <td>0.000000</td>\n",
       "      <td>0.000000</td>\n",
       "      <td>0.000000</td>\n",
       "      <td>0.000000</td>\n",
       "      <td>0.000000</td>\n",
       "      <td>0.000000</td>\n",
       "      <td>0.000000</td>\n",
       "    </tr>\n",
       "    <tr>\n",
       "      <th>50%</th>\n",
       "      <td>2512.500000</td>\n",
       "      <td>2.712668e+06</td>\n",
       "      <td>43.000000</td>\n",
       "      <td>6.000000</td>\n",
       "      <td>621.500000</td>\n",
       "      <td>3124.000000</td>\n",
       "      <td>0.000000</td>\n",
       "      <td>0.000000</td>\n",
       "      <td>0.000000</td>\n",
       "      <td>0.000000</td>\n",
       "      <td>...</td>\n",
       "      <td>1.000000</td>\n",
       "      <td>0.000000</td>\n",
       "      <td>0.000000</td>\n",
       "      <td>0.000000</td>\n",
       "      <td>0.000000</td>\n",
       "      <td>0.000000</td>\n",
       "      <td>0.000000</td>\n",
       "      <td>0.000000</td>\n",
       "      <td>0.000000</td>\n",
       "      <td>0.000000</td>\n",
       "    </tr>\n",
       "    <tr>\n",
       "      <th>75%</th>\n",
       "      <td>3731.500000</td>\n",
       "      <td>4.479664e+06</td>\n",
       "      <td>55.000000</td>\n",
       "      <td>12.000000</td>\n",
       "      <td>1201.000000</td>\n",
       "      <td>5229.750000</td>\n",
       "      <td>1.000000</td>\n",
       "      <td>0.000000</td>\n",
       "      <td>0.000000</td>\n",
       "      <td>0.000000</td>\n",
       "      <td>...</td>\n",
       "      <td>1.000000</td>\n",
       "      <td>0.000000</td>\n",
       "      <td>0.000000</td>\n",
       "      <td>0.000000</td>\n",
       "      <td>0.000000</td>\n",
       "      <td>0.000000</td>\n",
       "      <td>0.000000</td>\n",
       "      <td>0.000000</td>\n",
       "      <td>0.000000</td>\n",
       "      <td>0.000000</td>\n",
       "    </tr>\n",
       "    <tr>\n",
       "      <th>max</th>\n",
       "      <td>4998.000000</td>\n",
       "      <td>9.424479e+06</td>\n",
       "      <td>70.000000</td>\n",
       "      <td>20.000000</td>\n",
       "      <td>2030.000000</td>\n",
       "      <td>9990.000000</td>\n",
       "      <td>1.000000</td>\n",
       "      <td>1.000000</td>\n",
       "      <td>1.000000</td>\n",
       "      <td>1.000000</td>\n",
       "      <td>...</td>\n",
       "      <td>1.000000</td>\n",
       "      <td>1.000000</td>\n",
       "      <td>1.000000</td>\n",
       "      <td>1.000000</td>\n",
       "      <td>1.000000</td>\n",
       "      <td>1.000000</td>\n",
       "      <td>1.000000</td>\n",
       "      <td>1.000000</td>\n",
       "      <td>1.000000</td>\n",
       "      <td>1.000000</td>\n",
       "    </tr>\n",
       "  </tbody>\n",
       "</table>\n",
       "<p>8 rows × 46 columns</p>\n",
       "</div>"
      ],
      "text/plain": [
       "        Unnamed: 0       AktorId        Alder      FylkeNr    KommuneNr  \\\n",
       "count  3630.000000  3.630000e+03  3630.000000  3630.000000  3630.000000   \n",
       "mean   2508.213774  3.218082e+06    43.208815     7.695868   783.614325   \n",
       "std    1431.680916  2.104151e+06    14.468157     5.738833   576.161533   \n",
       "min       0.000000  9.380000e+02    18.000000     1.000000   101.000000   \n",
       "25%    1284.500000  1.548604e+06    31.000000     3.000000   301.000000   \n",
       "50%    2512.500000  2.712668e+06    43.000000     6.000000   621.500000   \n",
       "75%    3731.500000  4.479664e+06    55.000000    12.000000  1201.000000   \n",
       "max    4998.000000  9.424479e+06    70.000000    20.000000  2030.000000   \n",
       "\n",
       "            Postnr  ErDisponentAnt  ErKontoapnerAnt  ErKausjonistAnt  \\\n",
       "count  3630.000000     3630.000000      3630.000000      3630.000000   \n",
       "mean   3613.719008        0.300551         0.055923         0.000551   \n",
       "std    2556.014909        0.458561         0.229804         0.023469   \n",
       "min     168.000000        0.000000         0.000000         0.000000   \n",
       "25%    1453.000000        0.000000         0.000000         0.000000   \n",
       "50%    3124.000000        0.000000         0.000000         0.000000   \n",
       "75%    5229.750000        1.000000         0.000000         0.000000   \n",
       "max    9990.000000        1.000000         1.000000         1.000000   \n",
       "\n",
       "       ErRealkausjonistAnt          ...            AntSparekonto  \\\n",
       "count          3630.000000          ...              3630.000000   \n",
       "mean              0.014601          ...                 0.701653   \n",
       "std               0.119964          ...                 0.457596   \n",
       "min               0.000000          ...                 0.000000   \n",
       "25%               0.000000          ...                 0.000000   \n",
       "50%               0.000000          ...                 1.000000   \n",
       "75%               0.000000          ...                 1.000000   \n",
       "max               1.000000          ...                 1.000000   \n",
       "\n",
       "       AntAktiveSkadefors  AntAktiv_AndreForsikringer  AntAktUtlanAvt  \\\n",
       "count         3630.000000                 3630.000000     3630.000000   \n",
       "mean             0.102479                    0.102204        0.178512   \n",
       "std              0.303319                    0.302958        0.382996   \n",
       "min              0.000000                    0.000000        0.000000   \n",
       "25%              0.000000                    0.000000        0.000000   \n",
       "50%              0.000000                    0.000000        0.000000   \n",
       "75%              0.000000                    0.000000        0.000000   \n",
       "max              1.000000                    1.000000        1.000000   \n",
       "\n",
       "         AntAvtBSU  AntAktBoliglan  DNBAntAktBoliglan  AntAktGaranterte  \\\n",
       "count  3630.000000     3630.000000        3630.000000       3630.000000   \n",
       "mean      0.107713        0.176584           0.045455          0.044077   \n",
       "std       0.310061        0.381369           0.208328          0.205295   \n",
       "min       0.000000        0.000000           0.000000          0.000000   \n",
       "25%       0.000000        0.000000           0.000000          0.000000   \n",
       "50%       0.000000        0.000000           0.000000          0.000000   \n",
       "75%       0.000000        0.000000           0.000000          0.000000   \n",
       "max       1.000000        1.000000           1.000000          1.000000   \n",
       "\n",
       "        AntAktLink  AntAktSpareforsikring  \n",
       "count  3630.000000            3630.000000  \n",
       "mean      0.011846               0.201377  \n",
       "std       0.108206               0.401085  \n",
       "min       0.000000               0.000000  \n",
       "25%       0.000000               0.000000  \n",
       "50%       0.000000               0.000000  \n",
       "75%       0.000000               0.000000  \n",
       "max       1.000000               1.000000  \n",
       "\n",
       "[8 rows x 46 columns]"
      ]
     },
     "execution_count": 3,
     "metadata": {},
     "output_type": "execute_result"
    }
   ],
   "source": [
    "dtrain.describe()"
   ]
  },
  {
   "cell_type": "markdown",
   "metadata": {},
   "source": [
    "Remove unnamed"
   ]
  },
  {
   "cell_type": "code",
   "execution_count": 4,
   "metadata": {
    "collapsed": true
   },
   "outputs": [],
   "source": [
    "dtrain = dtrain.drop('Unnamed: 0',1)\n",
    "dtest = dtest.drop('Unnamed: 0',1)"
   ]
  },
  {
   "cell_type": "markdown",
   "metadata": {},
   "source": [
    "Define ID and target variables"
   ]
  },
  {
   "cell_type": "code",
   "execution_count": 5,
   "metadata": {
    "collapsed": true
   },
   "outputs": [],
   "source": [
    "ID_col = 'AktorId'\n",
    "target_cols = ['AntAktAvtBank',\n",
    " 'AntAktAvtInnskudd',\n",
    " 'AntAktAvtKredittkort',\n",
    " 'AntKredittkortDebet',\n",
    " 'AntKredittkortKreditt',\n",
    " 'AntSparekonto',\n",
    " 'AntBrukskonto',\n",
    " 'AntAvtBSU',\n",
    " 'AntAktiveSkadefors',\n",
    " 'AntAktiv_AndreForsikringer',\n",
    " 'AntAktSpareforsikring',\n",
    " 'AntAktUtlanAvt',\n",
    " 'AntAktBoliglan',\n",
    " 'DNBAntAktBoliglan',\n",
    " 'AntAktGaranterte',\n",
    " 'AntAktLink']"
   ]
  },
  {
   "cell_type": "markdown",
   "metadata": {},
   "source": [
    "Create train and test set with product variables"
   ]
  },
  {
   "cell_type": "code",
   "execution_count": 6,
   "metadata": {
    "collapsed": true
   },
   "outputs": [],
   "source": [
    "dtrain_id = dtrain['AktorId']\n",
    "dtest_id = dtest['AktorId']\n",
    "dtrain_matrix = dtrain[[col for col in target_cols]]\n",
    "dtest_matrix = dtest[[col for col in target_cols]]"
   ]
  },
  {
   "cell_type": "markdown",
   "metadata": {},
   "source": [
    "## 1. User Based Collaborative filtering (with KNN)"
   ]
  },
  {
   "cell_type": "markdown",
   "metadata": {},
   "source": [
    "Calculate Jaccard similarity for train set"
   ]
  },
  {
   "cell_type": "code",
   "execution_count": 7,
   "metadata": {
    "collapsed": false
   },
   "outputs": [],
   "source": [
    "def similarity_train(dtrain_matrix):\n",
    "    t0 = time.time()\n",
    "    n_users=len(dtrain_matrix)\n",
    "    n_items=len(target_cols)\n",
    "    similarity_train=np.zeros((n_items,n_users,n_users))\n",
    "    i=0\n",
    "    for col in dtrain_matrix.columns:\n",
    "        cols = [x for x in dtrain_matrix.columns if x not in col]\n",
    "        similarity_train[i,:,:] = squareform(1-pdist(dtrain_matrix[cols],'jaccard'))\n",
    "        i+=1\n",
    "    t1 = time.time()\n",
    "    time_sim_train = t1-t0\n",
    "    print('Similarity time train %.4g' % time_sim_train)\n",
    "    return time_sim_train,similarity_train"
   ]
  },
  {
   "cell_type": "code",
   "execution_count": 8,
   "metadata": {
    "collapsed": false
   },
   "outputs": [
    {
     "name": "stdout",
     "output_type": "stream",
     "text": [
      "Similarity time train 13.4\n"
     ]
    }
   ],
   "source": [
    "time_sim_train,similarity_train = similarity_train(dtrain_matrix)"
   ]
  },
  {
   "cell_type": "markdown",
   "metadata": {},
   "source": [
    "Prediction function selecting the neighbors from the similarity measure"
   ]
  },
  {
   "cell_type": "code",
   "execution_count": 9,
   "metadata": {
    "collapsed": true
   },
   "outputs": [],
   "source": [
    "def prediction(target,sim,n_nbrs):\n",
    "    t0 = time.time()\n",
    "    n_nbrs = n_nbrs\n",
    "    n_users=len(sim[0])\n",
    "    n_items=len(target.columns)\n",
    "    pred=np.zeros((n_users,n_items))\n",
    "    for i in range (n_items):\n",
    "        for u in range (n_users):\n",
    "            nbrs_indices = [j[0] for j in sorted(enumerate(sim[i,u,:]),key=lambda x:x[1],reverse=True)[:n_nbrs]]\n",
    "            vote_1=0\n",
    "            vote_2=0\n",
    "            for n in nbrs_indices: \n",
    "                vote_1 += target.values[n,i]*sim[i,u,n]\n",
    "                vote_2 += (1-target.values[n,i])*sim[i,u,n]\n",
    "            if(vote_1>vote_2):\n",
    "                pred[u,i]=1\n",
    "    t1 = time.time()\n",
    "    time_pred = t1-t0\n",
    "    print('Prediction time %.4g' % time_pred)\n",
    "    return time_pred,n_nbrs, pred"
   ]
  },
  {
   "cell_type": "markdown",
   "metadata": {},
   "source": [
    "Function for calculating the prediction accuracy"
   ]
  },
  {
   "cell_type": "code",
   "execution_count": 10,
   "metadata": {
    "collapsed": false
   },
   "outputs": [],
   "source": [
    "def accuracy(target,pred,n_nbrs,reports=False):\n",
    "    print('\\nModel Report: k =',n_nbrs,'\\n')\n",
    "    i=0\n",
    "    accuracy_lst=[]\n",
    "    for col in target.columns:\n",
    "        accuracy = metrics.accuracy_score(target.values[:,i],pred[:,i])\n",
    "        accuracy_lst.append(accuracy)\n",
    "        print (col, '%.4g' % accuracy)\n",
    "        if(reports==True):\n",
    "            report = classification_report(target.values[:,i],pred[:,i])\n",
    "            print(report)\n",
    "            cm = confusion_matrix(target.values[:,i],pred[:,i])\n",
    "            print(cm)\n",
    "        i+=1\n",
    "    avg_accuracy = np.average(accuracy_lst)\n",
    "    print('\\nAverage accuracy %.4g' % avg_accuracy)\n",
    "    return accuracy_lst, avg_accuracy"
   ]
  },
  {
   "cell_type": "markdown",
   "metadata": {},
   "source": [
    "Parameter tuning: tune the number of neighbors"
   ]
  },
  {
   "cell_type": "code",
   "execution_count": 11,
   "metadata": {
    "collapsed": false
   },
   "outputs": [
    {
     "name": "stdout",
     "output_type": "stream",
     "text": [
      "Prediction time 256.5\n",
      "\n",
      "Model Report: k = 5 \n",
      "\n",
      "AntAktAvtBank 0.9485\n",
      "AntAktAvtInnskudd 0.981\n",
      "AntAktAvtKredittkort 0.719\n",
      "AntKredittkortDebet 0.765\n",
      "AntKredittkortKreditt 0.9523\n",
      "AntSparekonto 0.7482\n",
      "AntBrukskonto 0.8364\n",
      "AntAvtBSU 0.8879\n",
      "AntAktiveSkadefors 0.9964\n",
      "AntAktiv_AndreForsikringer 0.9964\n",
      "AntAktSpareforsikring 0.8361\n",
      "AntAktUtlanAvt 0.9975\n",
      "AntAktBoliglan 0.9978\n",
      "DNBAntAktBoliglan 0.9493\n",
      "AntAktGaranterte 0.9499\n",
      "AntAktLink 0.9882\n",
      "\n",
      "Average accuracy 0.9094\n",
      "Prediction time 257.6\n",
      "\n",
      "Model Report: k = 6 \n",
      "\n",
      "AntAktAvtBank 0.949\n",
      "AntAktAvtInnskudd 0.981\n",
      "AntAktAvtKredittkort 0.7237\n",
      "AntKredittkortDebet 0.7708\n",
      "AntKredittkortKreditt 0.9573\n",
      "AntSparekonto 0.7347\n",
      "AntBrukskonto 0.8377\n",
      "AntAvtBSU 0.8882\n",
      "AntAktiveSkadefors 0.9978\n",
      "AntAktiv_AndreForsikringer 0.9978\n",
      "AntAktSpareforsikring 0.8474\n",
      "AntAktUtlanAvt 0.9975\n",
      "AntAktBoliglan 0.9978\n",
      "DNBAntAktBoliglan 0.9537\n",
      "AntAktGaranterte 0.9485\n",
      "AntAktLink 0.9879\n",
      "\n",
      "Average accuracy 0.9107\n",
      "Prediction time 253.9\n",
      "\n",
      "Model Report: k = 7 \n",
      "\n",
      "AntAktAvtBank 0.9477\n",
      "AntAktAvtInnskudd 0.9835\n",
      "AntAktAvtKredittkort 0.673\n",
      "AntKredittkortDebet 0.7774\n",
      "AntKredittkortKreditt 0.9592\n",
      "AntSparekonto 0.7355\n",
      "AntBrukskonto 0.8366\n",
      "AntAvtBSU 0.8862\n",
      "AntAktiveSkadefors 0.9975\n",
      "AntAktiv_AndreForsikringer 0.9975\n",
      "AntAktSpareforsikring 0.8399\n",
      "AntAktUtlanAvt 0.995\n",
      "AntAktBoliglan 0.9953\n",
      "DNBAntAktBoliglan 0.9529\n",
      "AntAktGaranterte 0.9397\n",
      "AntAktLink 0.9882\n",
      "\n",
      "Average accuracy 0.9066\n",
      "Prediction time 244.4\n",
      "\n",
      "Model Report: k = 8 \n",
      "\n",
      "AntAktAvtBank 0.9488\n",
      "AntAktAvtInnskudd 0.9835\n",
      "AntAktAvtKredittkort 0.7292\n",
      "AntKredittkortDebet 0.7741\n",
      "AntKredittkortKreditt 0.9592\n",
      "AntSparekonto 0.7314\n",
      "AntBrukskonto 0.8377\n",
      "AntAvtBSU 0.8862\n",
      "AntAktiveSkadefors 0.9978\n",
      "AntAktiv_AndreForsikringer 0.9978\n",
      "AntAktSpareforsikring 0.8471\n",
      "AntAktUtlanAvt 0.9961\n",
      "AntAktBoliglan 0.9964\n",
      "DNBAntAktBoliglan 0.954\n",
      "AntAktGaranterte 0.9521\n",
      "AntAktLink 0.9882\n",
      "\n",
      "Average accuracy 0.9112\n",
      "Prediction time 238.7\n",
      "\n",
      "Model Report: k = 9 \n",
      "\n",
      "AntAktAvtBank 0.9482\n",
      "AntAktAvtInnskudd 0.9821\n",
      "AntAktAvtKredittkort 0.7289\n",
      "AntKredittkortDebet 0.7716\n",
      "AntKredittkortKreditt 0.9592\n",
      "AntSparekonto 0.7493\n",
      "AntBrukskonto 0.8361\n",
      "AntAvtBSU 0.8876\n",
      "AntAktiveSkadefors 0.9975\n",
      "AntAktiv_AndreForsikringer 0.9975\n",
      "AntAktSpareforsikring 0.8295\n",
      "AntAktUtlanAvt 0.9945\n",
      "AntAktBoliglan 0.9948\n",
      "DNBAntAktBoliglan 0.9501\n",
      "AntAktGaranterte 0.9551\n",
      "AntAktLink 0.9882\n",
      "\n",
      "Average accuracy 0.9106\n",
      "Prediction time 241.1\n",
      "\n",
      "Model Report: k = 10 \n",
      "\n",
      "AntAktAvtBank 0.9479\n",
      "AntAktAvtInnskudd 0.9807\n",
      "AntAktAvtKredittkort 0.7328\n",
      "AntKredittkortDebet 0.7678\n",
      "AntKredittkortKreditt 0.9576\n",
      "AntSparekonto 0.7446\n",
      "AntBrukskonto 0.8361\n",
      "AntAvtBSU 0.8923\n",
      "AntAktiveSkadefors 0.997\n",
      "AntAktiv_AndreForsikringer 0.997\n",
      "AntAktSpareforsikring 0.8466\n",
      "AntAktUtlanAvt 0.9956\n",
      "AntAktBoliglan 0.9959\n",
      "DNBAntAktBoliglan 0.9504\n",
      "AntAktGaranterte 0.9534\n",
      "AntAktLink 0.9882\n",
      "\n",
      "Average accuracy 0.9115\n",
      "Prediction time 246.9\n",
      "\n",
      "Model Report: k = 11 \n",
      "\n",
      "AntAktAvtBank 0.9457\n",
      "AntAktAvtInnskudd 0.9824\n",
      "AntAktAvtKredittkort 0.7322\n",
      "AntKredittkortDebet 0.7667\n",
      "AntKredittkortKreditt 0.9592\n",
      "AntSparekonto 0.7449\n",
      "AntBrukskonto 0.8344\n",
      "AntAvtBSU 0.8912\n",
      "AntAktiveSkadefors 0.9972\n",
      "AntAktiv_AndreForsikringer 0.9972\n",
      "AntAktSpareforsikring 0.8446\n",
      "AntAktUtlanAvt 0.9956\n",
      "AntAktBoliglan 0.9959\n",
      "DNBAntAktBoliglan 0.938\n",
      "AntAktGaranterte 0.9545\n",
      "AntAktLink 0.9882\n",
      "\n",
      "Average accuracy 0.9105\n",
      "Prediction time 248.4\n",
      "\n",
      "Model Report: k = 12 \n",
      "\n",
      "AntAktAvtBank 0.9479\n",
      "AntAktAvtInnskudd 0.9815\n",
      "AntAktAvtKredittkort 0.7333\n",
      "AntKredittkortDebet 0.7631\n",
      "AntKredittkortKreditt 0.9592\n",
      "AntSparekonto 0.7452\n",
      "AntBrukskonto 0.8353\n",
      "AntAvtBSU 0.8923\n",
      "AntAktiveSkadefors 0.9964\n",
      "AntAktiv_AndreForsikringer 0.9964\n",
      "AntAktSpareforsikring 0.846\n",
      "AntAktUtlanAvt 0.9956\n",
      "AntAktBoliglan 0.9959\n",
      "DNBAntAktBoliglan 0.954\n",
      "AntAktGaranterte 0.9501\n",
      "AntAktLink 0.9882\n",
      "\n",
      "Average accuracy 0.9113\n",
      "Prediction time 252.8\n",
      "\n",
      "Model Report: k = 13 \n",
      "\n",
      "AntAktAvtBank 0.9441\n",
      "AntAktAvtInnskudd 0.9815\n",
      "AntAktAvtKredittkort 0.732\n",
      "AntKredittkortDebet 0.7554\n",
      "AntKredittkortKreditt 0.9592\n",
      "AntSparekonto 0.7526\n",
      "AntBrukskonto 0.8364\n",
      "AntAvtBSU 0.8923\n",
      "AntAktiveSkadefors 0.9959\n",
      "AntAktiv_AndreForsikringer 0.9959\n",
      "AntAktSpareforsikring 0.8427\n",
      "AntAktUtlanAvt 0.9953\n",
      "AntAktBoliglan 0.9956\n",
      "DNBAntAktBoliglan 0.951\n",
      "AntAktGaranterte 0.9421\n",
      "AntAktLink 0.9882\n",
      "\n",
      "Average accuracy 0.91\n",
      "Prediction time 256.7\n",
      "\n",
      "Model Report: k = 14 \n",
      "\n",
      "AntAktAvtBank 0.9441\n",
      "AntAktAvtInnskudd 0.9815\n",
      "AntAktAvtKredittkort 0.7295\n",
      "AntKredittkortDebet 0.7686\n",
      "AntKredittkortKreditt 0.9592\n",
      "AntSparekonto 0.7493\n",
      "AntBrukskonto 0.835\n",
      "AntAvtBSU 0.8923\n",
      "AntAktiveSkadefors 0.9961\n",
      "AntAktiv_AndreForsikringer 0.9961\n",
      "AntAktSpareforsikring 0.8435\n",
      "AntAktUtlanAvt 0.9953\n",
      "AntAktBoliglan 0.9956\n",
      "DNBAntAktBoliglan 0.9515\n",
      "AntAktGaranterte 0.9529\n",
      "AntAktLink 0.9882\n",
      "\n",
      "Average accuracy 0.9112\n",
      "Prediction time 261.8\n",
      "\n",
      "Model Report: k = 15 \n",
      "\n",
      "AntAktAvtBank 0.9455\n",
      "AntAktAvtInnskudd 0.9813\n",
      "AntAktAvtKredittkort 0.7309\n",
      "AntKredittkortDebet 0.7645\n",
      "AntKredittkortKreditt 0.9592\n",
      "AntSparekonto 0.7504\n",
      "AntBrukskonto 0.835\n",
      "AntAvtBSU 0.8901\n",
      "AntAktiveSkadefors 0.9964\n",
      "AntAktiv_AndreForsikringer 0.9964\n",
      "AntAktSpareforsikring 0.8402\n",
      "AntAktUtlanAvt 0.9956\n",
      "AntAktBoliglan 0.9956\n",
      "DNBAntAktBoliglan 0.9452\n",
      "AntAktGaranterte 0.9521\n",
      "AntAktLink 0.9882\n",
      "\n",
      "Average accuracy 0.9104\n",
      "Prediction time 265.8\n",
      "\n",
      "Model Report: k = 16 \n",
      "\n",
      "AntAktAvtBank 0.9477\n",
      "AntAktAvtInnskudd 0.9815\n",
      "AntAktAvtKredittkort 0.7331\n",
      "AntKredittkortDebet 0.7601\n",
      "AntKredittkortKreditt 0.9592\n",
      "AntSparekonto 0.7474\n",
      "AntBrukskonto 0.8339\n",
      "AntAvtBSU 0.8901\n",
      "AntAktiveSkadefors 0.9972\n",
      "AntAktiv_AndreForsikringer 0.9972\n",
      "AntAktSpareforsikring 0.841\n",
      "AntAktUtlanAvt 0.9961\n",
      "AntAktBoliglan 0.9961\n",
      "DNBAntAktBoliglan 0.9521\n",
      "AntAktGaranterte 0.9537\n",
      "AntAktLink 0.9882\n",
      "\n",
      "Average accuracy 0.9109\n",
      "Prediction time 291.6\n",
      "\n",
      "Model Report: k = 17 \n",
      "\n",
      "AntAktAvtBank 0.9474\n",
      "AntAktAvtInnskudd 0.981\n",
      "AntAktAvtKredittkort 0.7309\n",
      "AntKredittkortDebet 0.749\n",
      "AntKredittkortKreditt 0.9592\n",
      "AntSparekonto 0.7909\n",
      "AntBrukskonto 0.8336\n",
      "AntAvtBSU 0.8873\n",
      "AntAktiveSkadefors 0.9972\n",
      "AntAktiv_AndreForsikringer 0.9972\n",
      "AntAktSpareforsikring 0.8408\n",
      "AntAktUtlanAvt 0.9964\n",
      "AntAktBoliglan 0.9967\n",
      "DNBAntAktBoliglan 0.9534\n",
      "AntAktGaranterte 0.9526\n",
      "AntAktLink 0.9882\n",
      "\n",
      "Average accuracy 0.9126\n",
      "Prediction time 275.5\n",
      "\n",
      "Model Report: k = 18 \n",
      "\n",
      "AntAktAvtBank 0.9477\n",
      "AntAktAvtInnskudd 0.9807\n",
      "AntAktAvtKredittkort 0.7331\n",
      "AntKredittkortDebet 0.7477\n",
      "AntKredittkortKreditt 0.9567\n",
      "AntSparekonto 0.784\n",
      "AntBrukskonto 0.8336\n",
      "AntAvtBSU 0.8898\n",
      "AntAktiveSkadefors 0.9972\n",
      "AntAktiv_AndreForsikringer 0.9972\n",
      "AntAktSpareforsikring 0.8405\n",
      "AntAktUtlanAvt 0.9964\n",
      "AntAktBoliglan 0.9967\n",
      "DNBAntAktBoliglan 0.9515\n",
      "AntAktGaranterte 0.9537\n",
      "AntAktLink 0.9882\n",
      "\n",
      "Average accuracy 0.9122\n",
      "Prediction time 277.4\n",
      "\n",
      "Model Report: k = 19 \n",
      "\n",
      "AntAktAvtBank 0.9471\n",
      "AntAktAvtInnskudd 0.9785\n",
      "AntAktAvtKredittkort 0.7355\n",
      "AntKredittkortDebet 0.7518\n",
      "AntKredittkortKreditt 0.957\n",
      "AntSparekonto 0.7868\n",
      "AntBrukskonto 0.8303\n",
      "AntAvtBSU 0.8871\n",
      "AntAktiveSkadefors 0.9964\n",
      "AntAktiv_AndreForsikringer 0.9964\n",
      "AntAktSpareforsikring 0.8402\n",
      "AntAktUtlanAvt 0.9945\n",
      "AntAktBoliglan 0.9948\n",
      "DNBAntAktBoliglan 0.9515\n",
      "AntAktGaranterte 0.9567\n",
      "AntAktLink 0.9882\n",
      "\n",
      "Average accuracy 0.9121\n",
      "Prediction time 280.9\n",
      "\n",
      "Model Report: k = 20 \n",
      "\n",
      "AntAktAvtBank 0.9477\n",
      "AntAktAvtInnskudd 0.9785\n",
      "AntAktAvtKredittkort 0.7347\n",
      "AntKredittkortDebet 0.7526\n",
      "AntKredittkortKreditt 0.957\n",
      "AntSparekonto 0.7832\n",
      "AntBrukskonto 0.8311\n",
      "AntAvtBSU 0.8923\n",
      "AntAktiveSkadefors 0.9964\n",
      "AntAktiv_AndreForsikringer 0.9964\n",
      "AntAktSpareforsikring 0.8402\n",
      "AntAktUtlanAvt 0.9978\n",
      "AntAktBoliglan 0.9981\n",
      "DNBAntAktBoliglan 0.9515\n",
      "AntAktGaranterte 0.9562\n",
      "AntAktLink 0.9882\n",
      "\n",
      "Average accuracy 0.9126\n",
      "Prediction time 285\n",
      "\n",
      "Model Report: k = 21 \n",
      "\n",
      "AntAktAvtBank 0.9477\n",
      "AntAktAvtInnskudd 0.9785\n",
      "AntAktAvtKredittkort 0.735\n",
      "AntKredittkortDebet 0.7545\n",
      "AntKredittkortKreditt 0.9584\n",
      "AntSparekonto 0.7865\n",
      "AntBrukskonto 0.8303\n",
      "AntAvtBSU 0.8923\n",
      "AntAktiveSkadefors 0.9964\n",
      "AntAktiv_AndreForsikringer 0.9964\n",
      "AntAktSpareforsikring 0.8388\n",
      "AntAktUtlanAvt 0.9956\n",
      "AntAktBoliglan 0.9959\n",
      "DNBAntAktBoliglan 0.9529\n",
      "AntAktGaranterte 0.9567\n",
      "AntAktLink 0.9882\n",
      "\n",
      "Average accuracy 0.9128\n",
      "Prediction time 287.6\n",
      "\n",
      "Model Report: k = 22 \n",
      "\n",
      "AntAktAvtBank 0.9444\n",
      "AntAktAvtInnskudd 0.9785\n",
      "AntAktAvtKredittkort 0.7328\n",
      "AntKredittkortDebet 0.7499\n",
      "AntKredittkortKreditt 0.9584\n",
      "AntSparekonto 0.786\n",
      "AntBrukskonto 0.8303\n",
      "AntAvtBSU 0.8915\n",
      "AntAktiveSkadefors 0.9964\n",
      "AntAktiv_AndreForsikringer 0.9964\n",
      "AntAktSpareforsikring 0.8383\n",
      "AntAktUtlanAvt 0.9975\n",
      "AntAktBoliglan 0.9978\n",
      "DNBAntAktBoliglan 0.9515\n",
      "AntAktGaranterte 0.9562\n",
      "AntAktLink 0.9882\n",
      "\n",
      "Average accuracy 0.9121\n",
      "Prediction time 291.9\n",
      "\n",
      "Model Report: k = 23 \n",
      "\n",
      "AntAktAvtBank 0.9477\n",
      "AntAktAvtInnskudd 0.9785\n",
      "AntAktAvtKredittkort 0.7322\n",
      "AntKredittkortDebet 0.7521\n",
      "AntKredittkortKreditt 0.9584\n",
      "AntSparekonto 0.786\n",
      "AntBrukskonto 0.8303\n",
      "AntAvtBSU 0.8915\n",
      "AntAktiveSkadefors 0.9964\n",
      "AntAktiv_AndreForsikringer 0.9964\n",
      "AntAktSpareforsikring 0.8377\n",
      "AntAktUtlanAvt 0.9956\n",
      "AntAktBoliglan 0.9959\n",
      "DNBAntAktBoliglan 0.9545\n",
      "AntAktGaranterte 0.9567\n",
      "AntAktLink 0.9882\n",
      "\n",
      "Average accuracy 0.9124\n",
      "Prediction time 295.8\n",
      "\n",
      "Model Report: k = 24 \n",
      "\n",
      "AntAktAvtBank 0.9477\n",
      "AntAktAvtInnskudd 0.9791\n",
      "AntAktAvtKredittkort 0.732\n",
      "AntKredittkortDebet 0.746\n",
      "AntKredittkortKreditt 0.9584\n",
      "AntSparekonto 0.786\n",
      "AntBrukskonto 0.8303\n",
      "AntAvtBSU 0.8915\n",
      "AntAktiveSkadefors 0.9964\n",
      "AntAktiv_AndreForsikringer 0.9964\n",
      "AntAktSpareforsikring 0.8377\n",
      "AntAktUtlanAvt 0.9956\n",
      "AntAktBoliglan 0.9959\n",
      "DNBAntAktBoliglan 0.9545\n",
      "AntAktGaranterte 0.9559\n",
      "AntAktLink 0.9882\n",
      "\n",
      "Average accuracy 0.912\n",
      "Prediction time 300.6\n",
      "\n",
      "Model Report: k = 25 \n",
      "\n",
      "AntAktAvtBank 0.9477\n",
      "AntAktAvtInnskudd 0.9791\n",
      "AntAktAvtKredittkort 0.7314\n",
      "AntKredittkortDebet 0.7617\n",
      "AntKredittkortKreditt 0.9584\n",
      "AntSparekonto 0.7821\n",
      "AntBrukskonto 0.8303\n",
      "AntAvtBSU 0.8915\n",
      "AntAktiveSkadefors 0.9948\n",
      "AntAktiv_AndreForsikringer 0.9948\n",
      "AntAktSpareforsikring 0.8347\n",
      "AntAktUtlanAvt 0.9956\n",
      "AntAktBoliglan 0.9959\n",
      "DNBAntAktBoliglan 0.9548\n",
      "AntAktGaranterte 0.9559\n",
      "AntAktLink 0.9882\n",
      "\n",
      "Average accuracy 0.9123\n"
     ]
    }
   ],
   "source": [
    "k_accuracy=[]\n",
    "k_time=[]\n",
    "tot_nbrs = 25\n",
    "for i in range (5,tot_nbrs+1):\n",
    "    time_pred_train,n_nbrs,pred_train = prediction(dtrain_matrix,similarity_train,i)\n",
    "    accuracy_train,avg_accuracy_train = accuracy(dtrain_matrix,pred_train,n_nbrs)\n",
    "    k_accuracy.append(avg_accuracy_train)\n",
    "    k_time.append(time_pred_train)"
   ]
  },
  {
   "cell_type": "markdown",
   "metadata": {},
   "source": [
    "Plot the accuracy for different K values"
   ]
  },
  {
   "cell_type": "code",
   "execution_count": 12,
   "metadata": {
    "collapsed": false
   },
   "outputs": [
    {
     "data": {
      "image/png": "[encoded data removed]",
      "text/plain": [
       "<matplotlib.figure.Figure at 0x11603a240>"
      ]
     },
     "metadata": {},
     "output_type": "display_data"
    }
   ],
   "source": [
    "k_indices=np.array([5,6,7,8,9,10,11,12,13,14,15,16,17,18,19,20,21,22,23,24,25])\n",
    "k_indices.astype(int)\n",
    "    \n",
    "with sns.plotting_context(\"notebook\",font_scale=1.3):\n",
    "    sns.set_style(\"whitegrid\")\n",
    "    plt.figure(figsize=(12,7))\n",
    "    plt.plot(k_indices,k_accuracy);\n",
    "    plt.xticks(k_indices, k_indices)\n",
    "    plt.title('Accuracy plot for different K values in Collaborative Filtering',fontsize=18)\n",
    "    plt.xlabel('Number of neighbors, K',fontsize=14)\n",
    "    plt.ylabel('Accuracy',fontsize=14)\n",
    "    plt.savefig('collaborative_acc')\n",
    "    plt.show()\n",
    "    plt.close()"
   ]
  },
  {
   "cell_type": "code",
   "execution_count": 37,
   "metadata": {
    "collapsed": false
   },
   "outputs": [
    {
     "data": {
      "image/png": "[encoded data removed]",
      "text/plain": [
       "<matplotlib.figure.Figure at 0x116c5dcc0>"
      ]
     },
     "metadata": {},
     "output_type": "display_data"
    }
   ],
   "source": [
    "k_indices=np.array([5,6,7,8,9,10,11,12,13,14,15,16,17,18,19,20,21,22,23,24,25])\n",
    "k_indices.astype(int)\n",
    "    \n",
    "with sns.plotting_context(\"notebook\",font_scale=1.5):\n",
    "    sns.set_style(\"whitegrid\")\n",
    "    plt.figure(figsize=(12,7))\n",
    "    plt.plot(k_indices,k_accuracy);\n",
    "    plt.xticks(k_indices, k_indices)\n",
    "    plt.title('Accuracy plot for different K values in Collaborative Filtering',fontsize=18)\n",
    "    plt.xlabel('Number of neighbors, K',fontsize=16)\n",
    "    plt.ylabel('Accuracy',fontsize=16)\n",
    "    plt.savefig('collaborative_acc_2')\n",
    "    plt.show()\n",
    "    plt.close()"
   ]
  },
  {
   "cell_type": "markdown",
   "metadata": {},
   "source": [
    "Plot the running time for different K values"
   ]
  },
  {
   "cell_type": "code",
   "execution_count": 13,
   "metadata": {
    "collapsed": false
   },
   "outputs": [
    {
     "data": {
      "image/png": "[encoded data removed]",
      "text/plain": [
       "<matplotlib.figure.Figure at 0x116c6bc50>"
      ]
     },
     "metadata": {},
     "output_type": "display_data"
    }
   ],
   "source": [
    "k_indices=np.array([5,6,7,8,9,10,11,12,13,14,15,16,17,18,19,20,21,22,23,24,25])\n",
    "k_indices.astype(int)\n",
    "    \n",
    "with sns.plotting_context(\"notebook\",font_scale=1.3):\n",
    "    sns.set_style(\"whitegrid\")\n",
    "    plt.figure(figsize=(12,7))\n",
    "    plt.plot(k_indices,k_time);\n",
    "    plt.xticks(k_indices, k_indices)\n",
    "    plt.title('Time plot for different K values in Collaborative Filtering',fontsize=18)\n",
    "    plt.xlabel('Number of neighbors, K',fontsize=14)\n",
    "    plt.ylabel('Computation time (sec)',fontsize=14)\n",
    "    plt.savefig('collaborative_time')\n",
    "    plt.show()\n",
    "    plt.close()"
   ]
  },
  {
   "cell_type": "code",
   "execution_count": 36,
   "metadata": {
    "collapsed": false
   },
   "outputs": [
    {
     "data": {
      "image/png": "[encoded data removed]",
      "text/plain": [
       "<matplotlib.figure.Figure at 0x17e901a58>"
      ]
     },
     "metadata": {},
     "output_type": "display_data"
    }
   ],
   "source": [
    "k_indices=np.array([5,6,7,8,9,10,11,12,13,14,15,16,17,18,19,20,21,22,23,24,25])\n",
    "k_indices.astype(int)\n",
    "    \n",
    "with sns.plotting_context(\"notebook\",font_scale=1.5):\n",
    "    sns.set_style(\"whitegrid\")\n",
    "    plt.figure(figsize=(12,7))\n",
    "    plt.plot(k_indices,k_time);\n",
    "    plt.xticks(k_indices, k_indices)\n",
    "    plt.title('Time plot for different K values in Collaborative Filtering',fontsize=18)\n",
    "    plt.xlabel('Number of neighbors, K',fontsize=16)\n",
    "    plt.ylabel('Computation time (sec)',fontsize=16)\n",
    "    plt.savefig('collaborative_time_2')\n",
    "    plt.show()\n",
    "    plt.close()"
   ]
  },
  {
   "cell_type": "markdown",
   "metadata": {},
   "source": [
    "Predict items for train set with optimal K value"
   ]
  },
  {
   "cell_type": "code",
   "execution_count": 14,
   "metadata": {
    "collapsed": false
   },
   "outputs": [
    {
     "name": "stdout",
     "output_type": "stream",
     "text": [
      "Prediction time 285.9\n"
     ]
    }
   ],
   "source": [
    "opt_n_nbrs = k_accuracy.index(max(k_accuracy))+5\n",
    "time_pred_train,opt_n_nbrs,pred_train = prediction(dtrain_matrix,similarity_train,opt_n_nbrs)"
   ]
  },
  {
   "cell_type": "markdown",
   "metadata": {},
   "source": [
    "Calculate the accuracy for the train set"
   ]
  },
  {
   "cell_type": "code",
   "execution_count": 15,
   "metadata": {
    "collapsed": false
   },
   "outputs": [
    {
     "name": "stdout",
     "output_type": "stream",
     "text": [
      "\n",
      "Model Report: k = 21 \n",
      "\n",
      "AntAktAvtBank 0.9477\n",
      "             precision    recall  f1-score   support\n",
      "\n",
      "          0       0.87      0.59      0.70       383\n",
      "          1       0.95      0.99      0.97      3247\n",
      "\n",
      "avg / total       0.94      0.95      0.94      3630\n",
      "\n",
      "[[ 227  156]\n",
      " [  34 3213]]\n",
      "AntAktAvtInnskudd 0.9785\n",
      "             precision    recall  f1-score   support\n",
      "\n",
      "          0       0.89      0.82      0.85       277\n",
      "          1       0.99      0.99      0.99      3353\n",
      "\n",
      "avg / total       0.98      0.98      0.98      3630\n",
      "\n",
      "[[ 227   50]\n",
      " [  28 3325]]\n",
      "AntAktAvtKredittkort 0.735\n",
      "             precision    recall  f1-score   support\n",
      "\n",
      "          0       0.61      0.91      0.73      1434\n",
      "          1       0.91      0.62      0.74      2196\n",
      "\n",
      "avg / total       0.79      0.73      0.74      3630\n",
      "\n",
      "[[1303  131]\n",
      " [ 831 1365]]\n",
      "AntKredittkortDebet 0.7545\n",
      "             precision    recall  f1-score   support\n",
      "\n",
      "          0       0.87      0.79      0.83      2726\n",
      "          1       0.51      0.64      0.57       904\n",
      "\n",
      "avg / total       0.78      0.75      0.76      3630\n",
      "\n",
      "[[2157  569]\n",
      " [ 322  582]]\n",
      "AntKredittkortKreditt 0.9584\n",
      "             precision    recall  f1-score   support\n",
      "\n",
      "          0       0.96      1.00      0.98      3479\n",
      "          1       0.00      0.00      0.00       151\n",
      "\n",
      "avg / total       0.92      0.96      0.94      3630\n",
      "\n",
      "[[3479    0]\n",
      " [ 151    0]]\n",
      "AntSparekonto 0.7865\n",
      "             precision    recall  f1-score   support\n",
      "\n",
      "          0       0.89      0.33      0.48      1083\n",
      "          1       0.77      0.98      0.87      2547\n",
      "\n",
      "avg / total       0.81      0.79      0.75      3630\n",
      "\n",
      "[[ 352  731]\n",
      " [  44 2503]]\n",
      "AntBrukskonto 0.8303\n",
      "             precision    recall  f1-score   support\n",
      "\n",
      "          0       0.62      0.70      0.66       852\n",
      "          1       0.90      0.87      0.89      2778\n",
      "\n",
      "avg / total       0.84      0.83      0.83      3630\n",
      "\n",
      "[[ 594  258]\n",
      " [ 358 2420]]\n",
      "AntAvtBSU 0.8923\n"
     ]
    },
    {
     "name": "stderr",
     "output_type": "stream",
     "text": [
      "/Users/Emilie/anaconda/envs/py3.2/lib/python3.6/site-packages/sklearn/metrics/classification.py:1113: UndefinedMetricWarning: Precision and F-score are ill-defined and being set to 0.0 in labels with no predicted samples.\n",
      "  'precision', 'predicted', average, warn_for)\n"
     ]
    },
    {
     "name": "stdout",
     "output_type": "stream",
     "text": [
      "             precision    recall  f1-score   support\n",
      "\n",
      "          0       0.89      1.00      0.94      3239\n",
      "          1       0.00      0.00      0.00       391\n",
      "\n",
      "avg / total       0.80      0.89      0.84      3630\n",
      "\n",
      "[[3239    0]\n",
      " [ 391    0]]\n",
      "AntAktiveSkadefors 0.9964\n",
      "             precision    recall  f1-score   support\n",
      "\n",
      "          0       1.00      1.00      1.00      3258\n",
      "          1       1.00      0.97      0.98       372\n",
      "\n",
      "avg / total       1.00      1.00      1.00      3630\n",
      "\n",
      "[[3258    0]\n",
      " [  13  359]]\n",
      "AntAktiv_AndreForsikringer 0.9964\n",
      "             precision    recall  f1-score   support\n",
      "\n",
      "          0       1.00      1.00      1.00      3259\n",
      "          1       1.00      0.97      0.98       371\n",
      "\n",
      "avg / total       1.00      1.00      1.00      3630\n",
      "\n",
      "[[3258    1]\n",
      " [  12  359]]\n",
      "AntAktSpareforsikring 0.8388\n",
      "             precision    recall  f1-score   support\n",
      "\n",
      "          0       0.83      1.00      0.91      2899\n",
      "          1       1.00      0.20      0.33       731\n",
      "\n",
      "avg / total       0.87      0.84      0.79      3630\n",
      "\n",
      "[[2899    0]\n",
      " [ 585  146]]\n",
      "AntAktUtlanAvt 0.9956\n",
      "             precision    recall  f1-score   support\n",
      "\n",
      "          0       1.00      1.00      1.00      2982\n",
      "          1       0.99      0.99      0.99       648\n",
      "\n",
      "avg / total       1.00      1.00      1.00      3630\n",
      "\n",
      "[[2975    7]\n",
      " [   9  639]]\n",
      "AntAktBoliglan 0.9959\n",
      "             precision    recall  f1-score   support\n",
      "\n",
      "          0       1.00      1.00      1.00      2989\n",
      "          1       0.98      1.00      0.99       641\n",
      "\n",
      "avg / total       1.00      1.00      1.00      3630\n",
      "\n",
      "[[2976   13]\n",
      " [   2  639]]\n",
      "DNBAntAktBoliglan 0.9529\n",
      "             precision    recall  f1-score   support\n",
      "\n",
      "          0       0.95      1.00      0.98      3465\n",
      "          1       0.00      0.00      0.00       165\n",
      "\n",
      "avg / total       0.91      0.95      0.93      3630\n",
      "\n",
      "[[3459    6]\n",
      " [ 165    0]]\n",
      "AntAktGaranterte 0.9567\n",
      "             precision    recall  f1-score   support\n",
      "\n",
      "          0       0.96      1.00      0.98      3470\n",
      "          1       0.80      0.03      0.05       160\n",
      "\n",
      "avg / total       0.95      0.96      0.94      3630\n",
      "\n",
      "[[3469    1]\n",
      " [ 156    4]]\n",
      "AntAktLink 0.9882\n",
      "             precision    recall  f1-score   support\n",
      "\n",
      "          0       0.99      1.00      0.99      3587\n",
      "          1       0.00      0.00      0.00        43\n",
      "\n",
      "avg / total       0.98      0.99      0.98      3630\n",
      "\n",
      "[[3587    0]\n",
      " [  43    0]]\n",
      "\n",
      "Average accuracy 0.9128\n"
     ]
    }
   ],
   "source": [
    "accuracy_train,avg_accuracy_train = accuracy(dtrain_matrix,pred_train,opt_n_nbrs,reports=True)"
   ]
  },
  {
   "cell_type": "markdown",
   "metadata": {},
   "source": [
    "Calculate Jaccard similarity between each user in test set and every user in train set"
   ]
  },
  {
   "cell_type": "code",
   "execution_count": 16,
   "metadata": {
    "collapsed": false
   },
   "outputs": [],
   "source": [
    "def similarity_test(dtrain_matrix,dtest_matrix):\n",
    "    t0 = time.time()\n",
    "    n_users_test=len(dtest_matrix)\n",
    "    n_users_train=len(dtrain_matrix)\n",
    "    n_items=len(dtrain_matrix.columns)\n",
    "    similarity_test=np.zeros((n_items,n_users_test,n_users_train))\n",
    "    i=0\n",
    "    for col in dtest_matrix.columns:\n",
    "        cols = [x for x in dtest_matrix.columns if x not in col]\n",
    "        similarity_test[i,:,:]  = (1-cdist(dtest_matrix[cols],dtrain_matrix[cols],'jaccard'))\n",
    "        i+=1\n",
    "    t1 = time.time()\n",
    "    time_sim_test = t1-t0\n",
    "    print('Similarity time test %.4g' % time_sim_test)\n",
    "    return time_sim_test,similarity_test"
   ]
  },
  {
   "cell_type": "code",
   "execution_count": 17,
   "metadata": {
    "collapsed": false
   },
   "outputs": [
    {
     "name": "stdout",
     "output_type": "stream",
     "text": [
      "Similarity time test 5.175\n"
     ]
    }
   ],
   "source": [
    "time_sim_test,similarity_test = similarity_test(dtrain_matrix,dtest_matrix)"
   ]
  },
  {
   "cell_type": "markdown",
   "metadata": {},
   "source": [
    "Predict items for test set"
   ]
  },
  {
   "cell_type": "code",
   "execution_count": 18,
   "metadata": {
    "collapsed": false
   },
   "outputs": [
    {
     "name": "stdout",
     "output_type": "stream",
     "text": [
      "Prediction time 95.71\n"
     ]
    }
   ],
   "source": [
    "time_pred_test,opt_n_nbrs,pred_test = prediction(dtrain_matrix,similarity_test,opt_n_nbrs)"
   ]
  },
  {
   "cell_type": "markdown",
   "metadata": {},
   "source": [
    "Calculate the accuracy for the test set"
   ]
  },
  {
   "cell_type": "code",
   "execution_count": 19,
   "metadata": {
    "collapsed": false
   },
   "outputs": [
    {
     "name": "stdout",
     "output_type": "stream",
     "text": [
      "\n",
      "Model Report: k = 21 \n",
      "\n",
      "AntAktAvtBank 0.9455\n",
      "             precision    recall  f1-score   support\n",
      "\n",
      "          0       0.87      0.56      0.68       126\n",
      "          1       0.95      0.99      0.97      1084\n",
      "\n",
      "avg / total       0.94      0.95      0.94      1210\n",
      "\n",
      "[[  71   55]\n",
      " [  11 1073]]\n",
      "AntAktAvtInnskudd 0.976\n",
      "             precision    recall  f1-score   support\n",
      "\n",
      "          0       0.82      0.85      0.83        85\n",
      "          1       0.99      0.99      0.99      1125\n",
      "\n",
      "avg / total       0.98      0.98      0.98      1210\n",
      "\n",
      "[[  72   13]\n",
      " [  16 1109]]\n",
      "AntAktAvtKredittkort 0.7058\n",
      "             precision    recall  f1-score   support\n",
      "\n",
      "          0       0.58      0.91      0.71       476\n",
      "          1       0.91      0.57      0.70       734\n",
      "\n",
      "avg / total       0.78      0.71      0.71      1210\n",
      "\n",
      "[[432  44]\n",
      " [312 422]]\n",
      "AntKredittkortDebet 0.7736\n",
      "             precision    recall  f1-score   support\n",
      "\n",
      "          0       0.89      0.81      0.85       937\n",
      "          1       0.50      0.65      0.56       273\n",
      "\n",
      "avg / total       0.80      0.77      0.78      1210\n",
      "\n",
      "[[759 178]\n",
      " [ 96 177]]\n",
      "AntKredittkortKreditt 0.9603\n",
      "             precision    recall  f1-score   support\n",
      "\n",
      "          0       0.96      1.00      0.98      1162\n",
      "          1       0.00      0.00      0.00        48\n",
      "\n",
      "avg / total       0.92      0.96      0.94      1210\n",
      "\n",
      "[[1162    0]\n",
      " [  48    0]]\n",
      "AntSparekonto 0.7967\n",
      "             precision    recall  f1-score   support\n",
      "\n",
      "          0       0.88      0.32      0.47       341\n",
      "          1       0.79      0.98      0.87       869\n",
      "\n",
      "avg / total       0.81      0.80      0.76      1210\n",
      "\n",
      "[[110 231]\n",
      " [ 15 854]]\n",
      "AntBrukskonto 0.795\n",
      "             precision    recall  f1-score   support\n",
      "\n",
      "          0       0.57      0.65      0.61       295\n",
      "          1       0.88      0.84      0.86       915\n",
      "\n",
      "avg / total       0.81      0.80      0.80      1210\n",
      "\n",
      "[[193 102]\n",
      " [146 769]]\n",
      "AntAvtBSU 0.8793\n",
      "             precision    recall  f1-score   support\n",
      "\n",
      "          0       0.88      1.00      0.94      1064\n",
      "          1       0.00      0.00      0.00       146\n",
      "\n",
      "avg / total       0.77      0.88      0.82      1210\n",
      "\n",
      "[[1064    0]\n",
      " [ 146    0]]\n",
      "AntAktiveSkadefors 0.9959\n",
      "             precision    recall  f1-score   support\n",
      "\n",
      "          0       1.00      1.00      1.00      1096\n",
      "          1       1.00      0.96      0.98       114\n",
      "\n",
      "avg / total       1.00      1.00      1.00      1210\n",
      "\n",
      "[[1096    0]\n",
      " [   5  109]]\n",
      "AntAktiv_AndreForsikringer 0.9959\n",
      "             precision    recall  f1-score   support\n",
      "\n",
      "          0       1.00      1.00      1.00      1096\n",
      "          1       1.00      0.96      0.98       114\n",
      "\n",
      "avg / total       1.00      1.00      1.00      1210\n",
      "\n",
      "[[1096    0]\n",
      " [   5  109]]\n",
      "AntAktSpareforsikring 0.8455\n",
      "             precision    recall  f1-score   support\n",
      "\n",
      "          0       0.84      1.00      0.91       967\n",
      "          1       1.00      0.23      0.37       243\n",
      "\n",
      "avg / total       0.87      0.85      0.80      1210\n",
      "\n",
      "[[967   0]\n",
      " [187  56]]\n",
      "AntAktUtlanAvt 0.9942\n",
      "             precision    recall  f1-score   support\n",
      "\n",
      "          0       1.00      1.00      1.00      1004\n",
      "          1       0.99      0.98      0.98       206\n",
      "\n",
      "avg / total       0.99      0.99      0.99      1210\n",
      "\n",
      "[[1001    3]\n",
      " [   4  202]]\n",
      "AntAktBoliglan 0.9942\n",
      "             precision    recall  f1-score   support\n",
      "\n",
      "          0       1.00      1.00      1.00      1006\n",
      "          1       0.98      0.99      0.98       204\n",
      "\n",
      "avg / total       0.99      0.99      0.99      1210\n",
      "\n",
      "[[1001    5]\n",
      " [   2  202]]\n",
      "DNBAntAktBoliglan 0.9579\n",
      "             precision    recall  f1-score   support\n",
      "\n",
      "          0       0.96      1.00      0.98      1158\n",
      "          1       0.67      0.04      0.07        52\n",
      "\n",
      "avg / total       0.95      0.96      0.94      1210\n",
      "\n",
      "[[1157    1]\n",
      " [  50    2]]\n",
      "AntAktGaranterte 0.9521\n",
      "             precision    recall  f1-score   support\n",
      "\n",
      "          0       0.95      1.00      0.98      1151\n",
      "          1       0.67      0.03      0.06        59\n",
      "\n",
      "avg / total       0.94      0.95      0.93      1210\n",
      "\n",
      "[[1150    1]\n",
      " [  57    2]]\n",
      "AntAktLink 0.9835\n",
      "             precision    recall  f1-score   support\n",
      "\n",
      "          0       0.98      1.00      0.99      1190\n",
      "          1       0.00      0.00      0.00        20\n",
      "\n",
      "avg / total       0.97      0.98      0.98      1210\n",
      "\n",
      "[[1190    0]\n",
      " [  20    0]]\n",
      "\n",
      "Average accuracy 0.9095\n"
     ]
    },
    {
     "name": "stderr",
     "output_type": "stream",
     "text": [
      "/Users/Emilie/anaconda/envs/py3.2/lib/python3.6/site-packages/sklearn/metrics/classification.py:1113: UndefinedMetricWarning: Precision and F-score are ill-defined and being set to 0.0 in labels with no predicted samples.\n",
      "  'precision', 'predicted', average, warn_for)\n"
     ]
    }
   ],
   "source": [
    "accuracy_test,avg_accuracy_test = accuracy(dtest_matrix,pred_test,opt_n_nbrs,reports=True)"
   ]
  },
  {
   "cell_type": "markdown",
   "metadata": {},
   "source": [
    "## 2. Hybrid Filtering with Feature Combination"
   ]
  },
  {
   "cell_type": "markdown",
   "metadata": {},
   "source": [
    "Get demographic and collaborative similarity matrices"
   ]
  },
  {
   "cell_type": "code",
   "execution_count": 20,
   "metadata": {
    "collapsed": true
   },
   "outputs": [],
   "source": [
    "def get_demo_sim():\n",
    "    demo_sim_train = pd.read_csv('Results/Demographic_similarity_train.csv')\n",
    "    demo_sim_train = np.array(demo_sim_train)\n",
    "    demo_sim_test = pd.read_csv('Results/Demographic_similarity_test.csv')\n",
    "    demo_sim_test = np.array(demo_sim_test)\n",
    "    return demo_sim_train,demo_sim_test"
   ]
  },
  {
   "cell_type": "code",
   "execution_count": 21,
   "metadata": {
    "collapsed": false
   },
   "outputs": [],
   "source": [
    "demo_sim_train,demo_sim_test = get_demo_sim()"
   ]
  },
  {
   "cell_type": "code",
   "execution_count": 22,
   "metadata": {
    "collapsed": true
   },
   "outputs": [],
   "source": [
    "col_sim_train = similarity_train\n",
    "col_sim_test = similarity_test"
   ]
  },
  {
   "cell_type": "markdown",
   "metadata": {},
   "source": [
    "Hybrid prediction function with feature combination"
   ]
  },
  {
   "cell_type": "code",
   "execution_count": 23,
   "metadata": {
    "collapsed": false
   },
   "outputs": [],
   "source": [
    "def feature_hybrid_prediction(target,demo_sim,col_sim,n_nbrs_demo,n_nbrs_col):\n",
    "    t0 = time.time()\n",
    "    n_nbrs_demo = n_nbrs_demo\n",
    "    n_nbrs_col = n_nbrs_col\n",
    "    n_users=len(demo_sim)\n",
    "    n_items=len(target.columns)\n",
    "    pred=np.zeros((n_users,n_items))\n",
    "\n",
    "    for u in range (n_users):\n",
    "        nbrs_indices_demo = [j[0] for j in sorted(enumerate(demo_sim[u,:]),\n",
    "                                                  key=lambda x:x[1],reverse=True)[:n_nbrs_demo]]\n",
    "        for i in range (n_items):\n",
    "            nbrs_indices_col = [j[0] for j in sorted(enumerate(col_sim[i,u,:]),\n",
    "                                                     key=lambda x:x[1],reverse=True)[:n_nbrs_col]]\n",
    "\n",
    "            tot_n_nbrs = n_nbrs_demo+n_nbrs_col\n",
    "            for n in nbrs_indices_demo:\n",
    "                for m in nbrs_indices_col:\n",
    "                    if (n==m):\n",
    "                        col_sim[i,u,m] = 0.5*(col_sim[i,u,m]+demo_sim[u,n])\n",
    "                        demo_sim[u,n] = 0\n",
    "            \n",
    "            vote_1=0\n",
    "            vote_2=0\n",
    "            for m in nbrs_indices_col: \n",
    "                vote_1 += target.values[m,i]*col_sim[i,u,m]\n",
    "                vote_2 += (1-target.values[m,i])*col_sim[i,u,m]\n",
    "            for n in nbrs_indices_demo: \n",
    "                vote_1 += target.values[n,i]*demo_sim[u,n]\n",
    "                vote_2 += (1-target.values[n,i])*demo_sim[u,n]\n",
    "                \n",
    "            if(vote_1>vote_2):\n",
    "                pred[u,i]=1\n",
    "    t1 = time.time()\n",
    "    time_pred = t1-t0\n",
    "    print('Prediction time %.4g' % time_pred)\n",
    "    return time_pred,tot_n_nbrs,pred"
   ]
  },
  {
   "cell_type": "markdown",
   "metadata": {},
   "source": [
    "Train set predictions"
   ]
  },
  {
   "cell_type": "code",
   "execution_count": 24,
   "metadata": {
    "collapsed": false
   },
   "outputs": [
    {
     "name": "stdout",
     "output_type": "stream",
     "text": [
      "Prediction time 341.8\n"
     ]
    }
   ],
   "source": [
    "n_nbrs_demo = 10\n",
    "n_nbrs_col = 21\n",
    "time_pred_train,tot_n_nbrs,pred_hybrid_train = feature_hybrid_prediction(dtrain_matrix,demo_sim_train,col_sim_train,\n",
    "                                                         n_nbrs_demo,n_nbrs_col)"
   ]
  },
  {
   "cell_type": "markdown",
   "metadata": {},
   "source": [
    "Train set accuracy"
   ]
  },
  {
   "cell_type": "code",
   "execution_count": 25,
   "metadata": {
    "collapsed": false
   },
   "outputs": [
    {
     "name": "stdout",
     "output_type": "stream",
     "text": [
      "\n",
      "Model Report: k = 31 \n",
      "\n",
      "AntAktAvtBank 0.9507\n",
      "             precision    recall  f1-score   support\n",
      "\n",
      "          0       0.93      0.58      0.71       383\n",
      "          1       0.95      0.99      0.97      3247\n",
      "\n",
      "avg / total       0.95      0.95      0.95      3630\n",
      "\n",
      "[[ 221  162]\n",
      " [  17 3230]]\n",
      "AntAktAvtInnskudd 0.9826\n",
      "             precision    recall  f1-score   support\n",
      "\n",
      "          0       0.97      0.80      0.88       277\n",
      "          1       0.98      1.00      0.99      3353\n",
      "\n",
      "avg / total       0.98      0.98      0.98      3630\n",
      "\n",
      "[[ 222   55]\n",
      " [   8 3345]]\n",
      "AntAktAvtKredittkort 0.765\n",
      "             precision    recall  f1-score   support\n",
      "\n",
      "          0       0.66      0.85      0.74      1434\n",
      "          1       0.88      0.71      0.79      2196\n",
      "\n",
      "avg / total       0.79      0.77      0.77      3630\n",
      "\n",
      "[[1219  215]\n",
      " [ 638 1558]]\n",
      "AntKredittkortDebet 0.7854\n",
      "             precision    recall  f1-score   support\n",
      "\n",
      "          0       0.84      0.88      0.86      2726\n",
      "          1       0.58      0.49      0.53       904\n",
      "\n",
      "avg / total       0.78      0.79      0.78      3630\n",
      "\n",
      "[[2407  319]\n",
      " [ 460  444]]\n",
      "AntKredittkortKreditt 0.9584\n",
      "             precision    recall  f1-score   support\n",
      "\n",
      "          0       0.96      1.00      0.98      3479\n",
      "          1       0.00      0.00      0.00       151\n",
      "\n",
      "avg / total       0.92      0.96      0.94      3630\n",
      "\n",
      "[[3479    0]\n",
      " [ 151    0]]\n",
      "AntSparekonto 0.8369\n",
      "             precision    recall  f1-score   support\n",
      "\n",
      "          0       0.90      0.51      0.65      1083\n",
      "          1       0.82      0.98      0.89      2547\n",
      "\n",
      "avg / total       0.85      0.84      0.82      3630\n",
      "\n"
     ]
    },
    {
     "name": "stderr",
     "output_type": "stream",
     "text": [
      "/Users/Emilie/anaconda/envs/py3.2/lib/python3.6/site-packages/sklearn/metrics/classification.py:1113: UndefinedMetricWarning: Precision and F-score are ill-defined and being set to 0.0 in labels with no predicted samples.\n",
      "  'precision', 'predicted', average, warn_for)\n"
     ]
    },
    {
     "name": "stdout",
     "output_type": "stream",
     "text": [
      "[[ 554  529]\n",
      " [  63 2484]]\n",
      "AntBrukskonto 0.9055\n",
      "             precision    recall  f1-score   support\n",
      "\n",
      "          0       0.93      0.65      0.76       852\n",
      "          1       0.90      0.98      0.94      2778\n",
      "\n",
      "avg / total       0.91      0.91      0.90      3630\n",
      "\n",
      "[[ 553  299]\n",
      " [  44 2734]]\n",
      "AntAvtBSU 0.8942\n",
      "             precision    recall  f1-score   support\n",
      "\n",
      "          0       0.89      1.00      0.94      3239\n",
      "          1       1.00      0.02      0.04       391\n",
      "\n",
      "avg / total       0.91      0.89      0.85      3630\n",
      "\n",
      "[[3239    0]\n",
      " [ 384    7]]\n",
      "AntAktiveSkadefors 0.9879\n",
      "             precision    recall  f1-score   support\n",
      "\n",
      "          0       0.99      1.00      0.99      3258\n",
      "          1       1.00      0.88      0.94       372\n",
      "\n",
      "avg / total       0.99      0.99      0.99      3630\n",
      "\n",
      "[[3258    0]\n",
      " [  44  328]]\n",
      "AntAktiv_AndreForsikringer 0.9879\n",
      "             precision    recall  f1-score   support\n",
      "\n",
      "          0       0.99      1.00      0.99      3259\n",
      "          1       1.00      0.88      0.94       371\n",
      "\n",
      "avg / total       0.99      0.99      0.99      3630\n",
      "\n",
      "[[3258    1]\n",
      " [  43  328]]\n",
      "AntAktSpareforsikring 0.8322\n",
      "             precision    recall  f1-score   support\n",
      "\n",
      "          0       0.83      1.00      0.90      2899\n",
      "          1       0.99      0.17      0.29       731\n",
      "\n",
      "avg / total       0.86      0.83      0.78      3630\n",
      "\n",
      "[[2898    1]\n",
      " [ 608  123]]\n",
      "AntAktUtlanAvt 0.9961\n",
      "             precision    recall  f1-score   support\n",
      "\n",
      "          0       1.00      1.00      1.00      2982\n",
      "          1       1.00      0.98      0.99       648\n",
      "\n",
      "avg / total       1.00      1.00      1.00      3630\n",
      "\n",
      "[[2980    2]\n",
      " [  12  636]]\n",
      "AntAktBoliglan 0.9964\n",
      "             precision    recall  f1-score   support\n",
      "\n",
      "          0       1.00      1.00      1.00      2989\n",
      "          1       0.99      0.99      0.99       641\n",
      "\n",
      "avg / total       1.00      1.00      1.00      3630\n",
      "\n",
      "[[2981    8]\n",
      " [   5  636]]\n",
      "DNBAntAktBoliglan 0.9545\n",
      "             precision    recall  f1-score   support\n",
      "\n",
      "          0       0.96      1.00      0.98      3465\n",
      "          1       0.50      0.01      0.02       165\n",
      "\n",
      "avg / total       0.93      0.95      0.93      3630\n",
      "\n",
      "[[3463    2]\n",
      " [ 163    2]]\n",
      "AntAktGaranterte 0.9559\n",
      "             precision    recall  f1-score   support\n",
      "\n",
      "          0       0.96      1.00      0.98      3470\n",
      "          1       0.00      0.00      0.00       160\n",
      "\n",
      "avg / total       0.91      0.96      0.93      3630\n",
      "\n",
      "[[3470    0]\n",
      " [ 160    0]]\n",
      "AntAktLink 0.9882\n",
      "             precision    recall  f1-score   support\n",
      "\n",
      "          0       0.99      1.00      0.99      3587\n",
      "          1       0.00      0.00      0.00        43\n",
      "\n",
      "avg / total       0.98      0.99      0.98      3630\n",
      "\n",
      "[[3587    0]\n",
      " [  43    0]]\n",
      "\n",
      "Average accuracy 0.9236\n"
     ]
    }
   ],
   "source": [
    "hybrid_accuracy_train,hybrid_avg_accuracy_train = accuracy(dtrain_matrix,pred_hybrid_train,tot_n_nbrs,reports=True)"
   ]
  },
  {
   "cell_type": "markdown",
   "metadata": {},
   "source": [
    "Test set predictions"
   ]
  },
  {
   "cell_type": "code",
   "execution_count": 26,
   "metadata": {
    "collapsed": false
   },
   "outputs": [
    {
     "name": "stdout",
     "output_type": "stream",
     "text": [
      "Prediction time 113.4\n"
     ]
    }
   ],
   "source": [
    "time_pred_test,tot_n_nbrs,pred_hybrid_test = feature_hybrid_prediction(dtrain_matrix,demo_sim_test,col_sim_test,\n",
    "                                                        n_nbrs_demo,n_nbrs_col)"
   ]
  },
  {
   "cell_type": "markdown",
   "metadata": {},
   "source": [
    "Test set accuracy"
   ]
  },
  {
   "cell_type": "code",
   "execution_count": 27,
   "metadata": {
    "collapsed": false
   },
   "outputs": [
    {
     "name": "stdout",
     "output_type": "stream",
     "text": [
      "\n",
      "Model Report: k = 31 \n",
      "\n",
      "AntAktAvtBank 0.9479\n",
      "             precision    recall  f1-score   support\n",
      "\n",
      "          0       0.92      0.55      0.69       126\n",
      "          1       0.95      0.99      0.97      1084\n",
      "\n",
      "avg / total       0.95      0.95      0.94      1210\n",
      "\n",
      "[[  69   57]\n",
      " [   6 1078]]\n",
      "AntAktAvtInnskudd 0.9826\n",
      "             precision    recall  f1-score   support\n",
      "\n",
      "          0       0.92      0.82      0.87        85\n",
      "          1       0.99      0.99      0.99      1125\n",
      "\n",
      "avg / total       0.98      0.98      0.98      1210\n",
      "\n",
      "[[  70   15]\n",
      " [   6 1119]]\n",
      "AntAktAvtKredittkort 0.7446\n",
      "             precision    recall  f1-score   support\n",
      "\n",
      "          0       0.63      0.83      0.72       476\n",
      "          1       0.86      0.69      0.77       734\n",
      "\n",
      "avg / total       0.77      0.74      0.75      1210\n",
      "\n",
      "[[394  82]\n",
      " [227 507]]\n",
      "AntKredittkortDebet 0.8207\n",
      "             precision    recall  f1-score   support\n",
      "\n",
      "          0       0.89      0.88      0.88       937\n",
      "          1       0.60      0.61      0.60       273\n",
      "\n",
      "avg / total       0.82      0.82      0.82      1210\n",
      "\n",
      "[[827 110]\n",
      " [107 166]]\n",
      "AntKredittkortKreditt 0.9603\n",
      "             precision    recall  f1-score   support\n",
      "\n",
      "          0       0.96      1.00      0.98      1162\n",
      "          1       0.00      0.00      0.00        48\n",
      "\n",
      "avg / total       0.92      0.96      0.94      1210\n",
      "\n",
      "[[1162    0]\n",
      " [  48    0]]\n",
      "AntSparekonto 0.8413\n",
      "             precision    recall  f1-score   support\n",
      "\n",
      "          0       0.93      0.48      0.63       341\n",
      "          1       0.83      0.99      0.90       869\n",
      "\n",
      "avg / total       0.85      0.84      0.82      1210\n",
      "\n",
      "[[162 179]\n",
      " [ 13 856]]\n",
      "AntBrukskonto 0.8942\n",
      "             precision    recall  f1-score   support\n",
      "\n",
      "          0       0.96      0.59      0.73       295\n",
      "          1       0.88      0.99      0.93       915\n",
      "\n",
      "avg / total       0.90      0.89      0.88      1210\n",
      "\n",
      "[[175 120]\n",
      " [  8 907]]\n",
      "AntAvtBSU 0.8785\n",
      "             precision    recall  f1-score   support\n",
      "\n",
      "          0       0.88      1.00      0.94      1064\n",
      "          1       0.00      0.00      0.00       146\n",
      "\n",
      "avg / total       0.77      0.88      0.82      1210\n",
      "\n",
      "[[1063    1]\n",
      " [ 146    0]]\n",
      "AntAktiveSkadefors 0.9893\n",
      "             precision    recall  f1-score   support\n",
      "\n",
      "          0       0.99      1.00      0.99      1096\n",
      "          1       0.99      0.89      0.94       114\n",
      "\n",
      "avg / total       0.99      0.99      0.99      1210\n",
      "\n",
      "[[1095    1]\n",
      " [  12  102]]\n",
      "AntAktiv_AndreForsikringer 0.9893\n",
      "             precision    recall  f1-score   support\n",
      "\n",
      "          0       0.99      1.00      0.99      1096\n",
      "          1       0.99      0.89      0.94       114\n",
      "\n",
      "avg / total       0.99      0.99      0.99      1210\n",
      "\n",
      "[[1095    1]\n",
      " [  12  102]]\n",
      "AntAktSpareforsikring 0.8388\n",
      "             precision    recall  f1-score   support\n",
      "\n",
      "          0       0.83      1.00      0.91       967\n",
      "          1       1.00      0.20      0.33       243\n",
      "\n",
      "avg / total       0.87      0.84      0.79      1210\n",
      "\n",
      "[[967   0]\n",
      " [195  48]]\n",
      "AntAktUtlanAvt 0.9967\n",
      "             precision    recall  f1-score   support\n",
      "\n",
      "          0       1.00      1.00      1.00      1004\n",
      "          1       1.00      0.98      0.99       206\n",
      "\n",
      "avg / total       1.00      1.00      1.00      1210\n",
      "\n",
      "[[1004    0]\n",
      " [   4  202]]\n",
      "AntAktBoliglan 0.9967\n",
      "             precision    recall  f1-score   support\n",
      "\n",
      "          0       1.00      1.00      1.00      1006\n",
      "          1       0.99      0.99      0.99       204\n",
      "\n",
      "avg / total       1.00      1.00      1.00      1210\n",
      "\n",
      "[[1004    2]\n",
      " [   2  202]]\n",
      "DNBAntAktBoliglan 0.957\n",
      "             precision    recall  f1-score   support\n",
      "\n",
      "          0       0.96      1.00      0.98      1158\n",
      "          1       0.00      0.00      0.00        52\n",
      "\n",
      "avg / total       0.92      0.96      0.94      1210\n",
      "\n",
      "[[1158    0]\n",
      " [  52    0]]\n",
      "AntAktGaranterte 0.9512\n",
      "             precision    recall  f1-score   support\n",
      "\n",
      "          0       0.95      1.00      0.98      1151\n",
      "          1       0.00      0.00      0.00        59\n",
      "\n",
      "avg / total       0.90      0.95      0.93      1210\n",
      "\n",
      "[[1151    0]\n",
      " [  59    0]]\n",
      "AntAktLink 0.9835\n",
      "             precision    recall  f1-score   support\n",
      "\n",
      "          0       0.98      1.00      0.99      1190\n",
      "          1       0.00      0.00      0.00        20\n",
      "\n",
      "avg / total       0.97      0.98      0.98      1210\n",
      "\n",
      "[[1190    0]\n",
      " [  20    0]]\n",
      "\n",
      "Average accuracy 0.9233\n"
     ]
    },
    {
     "name": "stderr",
     "output_type": "stream",
     "text": [
      "/Users/Emilie/anaconda/envs/py3.2/lib/python3.6/site-packages/sklearn/metrics/classification.py:1113: UndefinedMetricWarning: Precision and F-score are ill-defined and being set to 0.0 in labels with no predicted samples.\n",
      "  'precision', 'predicted', average, warn_for)\n"
     ]
    }
   ],
   "source": [
    "hybrid_accuracy_test,hybrid_avg_accuracy_test = accuracy(dtest_matrix,pred_hybrid_test,tot_n_nbrs,reports=True)"
   ]
  },
  {
   "cell_type": "markdown",
   "metadata": {},
   "source": [
    "### Save result files\n",
    "#### Collaborative filtering results"
   ]
  },
  {
   "cell_type": "markdown",
   "metadata": {},
   "source": [
    "Save the predictions to csv"
   ]
  },
  {
   "cell_type": "code",
   "execution_count": 28,
   "metadata": {
    "collapsed": true
   },
   "outputs": [],
   "source": [
    "col_pred_train_file=pd.DataFrame(pred_train)\n",
    "col_pred_test_file=pd.DataFrame(pred_test)"
   ]
  },
  {
   "cell_type": "code",
   "execution_count": 29,
   "metadata": {
    "collapsed": true
   },
   "outputs": [],
   "source": [
    "col_pred_train_file.to_csv('Results/Collaborative_predictions_train.csv',index=False)\n",
    "col_pred_test_file.to_csv('Results/Collaborative_predictions_test.csv',index=False)"
   ]
  },
  {
   "cell_type": "markdown",
   "metadata": {},
   "source": [
    "Save train and test accuracies to csv"
   ]
  },
  {
   "cell_type": "code",
   "execution_count": 30,
   "metadata": {
    "collapsed": true
   },
   "outputs": [],
   "source": [
    "col_train_accuracy_file=pd.DataFrame(accuracy_train)\n",
    "col_test_accuracy_file=pd.DataFrame(accuracy_test)"
   ]
  },
  {
   "cell_type": "code",
   "execution_count": 31,
   "metadata": {
    "collapsed": true
   },
   "outputs": [],
   "source": [
    "col_train_accuracy_file.to_csv('Results/Collaborative_accuracy_train.csv',index=False)\n",
    "col_test_accuracy_file.to_csv('Results/Collaborative_accuracy_test.csv',index=False)"
   ]
  },
  {
   "cell_type": "markdown",
   "metadata": {},
   "source": [
    "#### Hybrid filtering results\n",
    "Save the predictions to csv"
   ]
  },
  {
   "cell_type": "code",
   "execution_count": 32,
   "metadata": {
    "collapsed": true
   },
   "outputs": [],
   "source": [
    "hybrid_pred_train_file=pd.DataFrame(pred_hybrid_train)\n",
    "hybrid_pred_test_file=pd.DataFrame(pred_hybrid_test)"
   ]
  },
  {
   "cell_type": "code",
   "execution_count": 33,
   "metadata": {
    "collapsed": true
   },
   "outputs": [],
   "source": [
    "hybrid_pred_train_file.to_csv('Results/Hybrid_FC_predictions_train.csv',index=False)\n",
    "hybrid_pred_test_file.to_csv('Results/Hybrid_FC_predictions_test.csv',index=False)"
   ]
  },
  {
   "cell_type": "markdown",
   "metadata": {},
   "source": [
    "Save the train and test accuracies to csv"
   ]
  },
  {
   "cell_type": "code",
   "execution_count": 34,
   "metadata": {
    "collapsed": true
   },
   "outputs": [],
   "source": [
    "hybrid_train_accuracy_file=pd.DataFrame(hybrid_accuracy_train)\n",
    "hybrid_test_accuracy_file=pd.DataFrame(hybrid_accuracy_test)"
   ]
  },
  {
   "cell_type": "code",
   "execution_count": 35,
   "metadata": {
    "collapsed": true
   },
   "outputs": [],
   "source": [
    "hybrid_train_accuracy_file.to_csv('Results/Hybrid_FC_accuracy_train.csv',index=False)\n",
    "hybrid_test_accuracy_file.to_csv('Results/Hybrid_FC_accuracy_test.csv',index=False)"
   ]
  }
 ],
 "metadata": {
  "anaconda-cloud": {},
  "kernelspec": {
   "display_name": "Python [conda env:py3.2]",
   "language": "python",
   "name": "conda-env-py3.2-py"
  },
  "language_info": {
   "codemirror_mode": {
    "name": "ipython",
    "version": 3
   },
   "file_extension": ".py",
   "mimetype": "text/x-python",
   "name": "python",
   "nbconvert_exporter": "python",
   "pygments_lexer": "ipython3",
   "version": "3.6.0"
  }
 },
 "nbformat": 4,
 "nbformat_minor": 2
}
