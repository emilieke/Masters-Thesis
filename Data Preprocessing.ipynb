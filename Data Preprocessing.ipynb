{
 "cells": [
  {
   "cell_type": "markdown",
   "metadata": {},
   "source": [
    "# Data Preprocessing"
   ]
  },
  {
   "cell_type": "markdown",
   "metadata": {},
   "source": [
    "## 1. Retrieve a subset of the data"
   ]
  },
  {
   "cell_type": "markdown",
   "metadata": {},
   "source": [
    "Import packages"
   ]
  },
  {
   "cell_type": "code",
   "execution_count": 1,
   "metadata": {
    "collapsed": false
   },
   "outputs": [],
   "source": [
    "import pandas as pd\n",
    "import numpy as np"
   ]
  },
  {
   "cell_type": "markdown",
   "metadata": {},
   "source": [
    "Variables selection"
   ]
  },
  {
   "cell_type": "code",
   "execution_count": 2,
   "metadata": {
    "collapsed": true
   },
   "outputs": [],
   "source": [
    "use_cols = ['AktorId','Alder','AlderGrp','Household_ID','Fylke','FylkeNr','Kommune','KommuneNr','Postnr','PostSted',\n",
    "         'ErDisponentAnt','ErInnehaverAnt','ErKlientAnt','ErKontoapnerAnt','ErKausjonistAnt','ErRealkausjonistAnt',\n",
    "         'ErSamskyldnerAnt','ErUtleieAnt','ErVergeAnt','HarDisponentAnt','HarInnehaverAnt','HarKlientAnt',\n",
    "         'HarKontoapnerAnt','HarKausjonistAnt','HarRealkausjonistAnt','HarSamskyldnerAnt','HarUtleieAnt','HarVergeAnt',\n",
    "         'SumElektroniskeTrans','SumManuelleTrans','SumBarnasBoligkonto','SumBSUKonto','SumBSU2Konto',\n",
    "         'SumBrukskonto','SumInnskudd','SumSparekonto','SumKredittkortDebet','SumKredittkortKreditt','AktivKapital',   \n",
    "         'TopplanInd','BK_Belaningsgrad','Belaning_0_75','Belaning_Over_75','ForstehjemskundeInd',\n",
    "         'LevetidKundeforholdDg','LevetidKundeforholdMnd','HelkundeInd','AntallProdukter',\n",
    "         \n",
    "         'AntAktAvtBank','AntAktAvtInnskudd','AntAktAvtKredittkort','AntKredittkortDebet','AntKredittkortKreditt',\n",
    "         'AntSparekonto','AntBrukskonto','AntBarnasBoligkonto','AntAvtBSU','AntBSUKonto','AntBSU2Konto',\n",
    "         'AntAktiveSkadefors','AntAktiv_AndreForsikringer','AntAktiv_Fritidsbat','AntAktiv_Hjem','AntAktiv_HundOgKatt',\n",
    "         'AntAktiv_Hytte','AntAktiv_Motorsykkel_mm','AntAktiv_Personbil','AntAktiv_Reise','AntAktiv_Ulykke',\n",
    "         'AntAktiv_Verdisak','AntAktiv_Villa','AntAktSpareforsikring','AntAktUtlanAvt','AntAktBoliglan',\n",
    "         'AntAktBoliglanFast','AntAktLanFastrentePantBolig','AntAktLanFastrenteUtleiebolig',\n",
    "         'AntAktLanFlytRentePantBolig','AntAktLanFlytRenteUtleiebolig','AntAktRammelanPantBolig',\n",
    "         'AntAktTrapperentelanPantBolig','AntAktForstehjemslan','AntAktForstehjemslanFast','AntAktMellomfinansiering',\n",
    "         'AntAktFinBevis','AntAktFinansieringsbevis','DNBAntAktBoliglan','AntAktGaranterte','AntAktGaranterteDebet',\n",
    "         'AntAktLink','AntAktLinkDebet']"
   ]
  },
  {
   "cell_type": "markdown",
   "metadata": {},
   "source": [
    "Load data"
   ]
  },
  {
   "cell_type": "code",
   "execution_count": 3,
   "metadata": {
    "collapsed": false
   },
   "outputs": [],
   "source": [
    "df = pd.read_table('Data/ADS_Current.txt',iterator=True,low_memory=False,decimal=',',usecols=use_cols)"
   ]
  },
  {
   "cell_type": "markdown",
   "metadata": {},
   "source": [
    "Get number of users in the data set"
   ]
  },
  {
   "cell_type": "code",
   "execution_count": 4,
   "metadata": {
    "collapsed": false
   },
   "outputs": [
    {
     "name": "stdout",
     "output_type": "stream",
     "text": [
      "Number of users:  2549925\n"
     ]
    }
   ],
   "source": [
    "print('Number of users: ',sum(1 for row in open('Data/ADS_Current.txt','r')))"
   ]
  },
  {
   "cell_type": "markdown",
   "metadata": {},
   "source": [
    "Get a random subset of users from the data"
   ]
  },
  {
   "cell_type": "code",
   "execution_count": 5,
   "metadata": {
    "collapsed": false
   },
   "outputs": [
    {
     "data": {
      "text/html": [
       "<div>\n",
       "<table border=\"1\" class=\"dataframe\">\n",
       "  <thead>\n",
       "    <tr style=\"text-align: right;\">\n",
       "      <th></th>\n",
       "      <th>AktorId</th>\n",
       "      <th>Household_ID</th>\n",
       "      <th>AktivKapital</th>\n",
       "      <th>AntallProdukter</th>\n",
       "      <th>Alder</th>\n",
       "      <th>SumElektroniskeTrans</th>\n",
       "      <th>SumManuelleTrans</th>\n",
       "      <th>AntAktAvtBank</th>\n",
       "      <th>AntAktAvtInnskudd</th>\n",
       "      <th>AntAktAvtKredittkort</th>\n",
       "      <th>...</th>\n",
       "      <th>BK_Belaningsgrad</th>\n",
       "      <th>DNBAntAktBoliglan</th>\n",
       "      <th>ForstehjemskundeInd</th>\n",
       "      <th>HelkundeInd</th>\n",
       "      <th>TopplanInd</th>\n",
       "      <th>AntAktGaranterte</th>\n",
       "      <th>AntAktGaranterteDebet</th>\n",
       "      <th>AntAktLink</th>\n",
       "      <th>AntAktLinkDebet</th>\n",
       "      <th>AntAktSpareforsikring</th>\n",
       "    </tr>\n",
       "  </thead>\n",
       "  <tbody>\n",
       "    <tr>\n",
       "      <th>count</th>\n",
       "      <td>1.000000e+04</td>\n",
       "      <td>9996.0</td>\n",
       "      <td>1.000000e+04</td>\n",
       "      <td>10000.000000</td>\n",
       "      <td>10000.000000</td>\n",
       "      <td>5.425000e+03</td>\n",
       "      <td>5.425000e+03</td>\n",
       "      <td>9997.000000</td>\n",
       "      <td>9997.000000</td>\n",
       "      <td>9997.000000</td>\n",
       "      <td>...</td>\n",
       "      <td>1419.000000</td>\n",
       "      <td>2459.000000</td>\n",
       "      <td>2459.000000</td>\n",
       "      <td>2459.000000</td>\n",
       "      <td>2459.000000</td>\n",
       "      <td>2012.000000</td>\n",
       "      <td>2012.0</td>\n",
       "      <td>2012.000000</td>\n",
       "      <td>2012.0</td>\n",
       "      <td>2012.000000</td>\n",
       "    </tr>\n",
       "    <tr>\n",
       "      <th>mean</th>\n",
       "      <td>3.336942e+06</td>\n",
       "      <td>1.0</td>\n",
       "      <td>3.523388e+05</td>\n",
       "      <td>2.781500</td>\n",
       "      <td>43.601700</td>\n",
       "      <td>-3.795796e+04</td>\n",
       "      <td>2.722746e+04</td>\n",
       "      <td>2.017805</td>\n",
       "      <td>2.017405</td>\n",
       "      <td>0.716615</td>\n",
       "      <td>...</td>\n",
       "      <td>53.628195</td>\n",
       "      <td>0.188695</td>\n",
       "      <td>0.014640</td>\n",
       "      <td>0.538430</td>\n",
       "      <td>0.101667</td>\n",
       "      <td>0.228628</td>\n",
       "      <td>0.0</td>\n",
       "      <td>0.063121</td>\n",
       "      <td>0.0</td>\n",
       "      <td>1.361332</td>\n",
       "    </tr>\n",
       "    <tr>\n",
       "      <th>std</th>\n",
       "      <td>2.188383e+06</td>\n",
       "      <td>0.0</td>\n",
       "      <td>9.948307e+05</td>\n",
       "      <td>1.828577</td>\n",
       "      <td>14.159163</td>\n",
       "      <td>1.388197e+05</td>\n",
       "      <td>2.152788e+05</td>\n",
       "      <td>2.045619</td>\n",
       "      <td>1.881891</td>\n",
       "      <td>0.854815</td>\n",
       "      <td>...</td>\n",
       "      <td>26.426651</td>\n",
       "      <td>0.489285</td>\n",
       "      <td>0.120132</td>\n",
       "      <td>0.498622</td>\n",
       "      <td>0.302272</td>\n",
       "      <td>0.499045</td>\n",
       "      <td>0.0</td>\n",
       "      <td>0.275814</td>\n",
       "      <td>0.0</td>\n",
       "      <td>0.906990</td>\n",
       "    </tr>\n",
       "    <tr>\n",
       "      <th>min</th>\n",
       "      <td>9.380000e+02</td>\n",
       "      <td>1.0</td>\n",
       "      <td>0.000000e+00</td>\n",
       "      <td>0.000000</td>\n",
       "      <td>18.000000</td>\n",
       "      <td>-6.633298e+06</td>\n",
       "      <td>-7.638000e+06</td>\n",
       "      <td>0.000000</td>\n",
       "      <td>0.000000</td>\n",
       "      <td>0.000000</td>\n",
       "      <td>...</td>\n",
       "      <td>0.000000</td>\n",
       "      <td>0.000000</td>\n",
       "      <td>0.000000</td>\n",
       "      <td>0.000000</td>\n",
       "      <td>0.000000</td>\n",
       "      <td>0.000000</td>\n",
       "      <td>0.0</td>\n",
       "      <td>0.000000</td>\n",
       "      <td>0.0</td>\n",
       "      <td>0.000000</td>\n",
       "    </tr>\n",
       "    <tr>\n",
       "      <th>25%</th>\n",
       "      <td>1.579875e+06</td>\n",
       "      <td>1.0</td>\n",
       "      <td>0.000000e+00</td>\n",
       "      <td>1.000000</td>\n",
       "      <td>32.000000</td>\n",
       "      <td>-3.962115e+04</td>\n",
       "      <td>9.086000e+03</td>\n",
       "      <td>0.000000</td>\n",
       "      <td>1.000000</td>\n",
       "      <td>0.000000</td>\n",
       "      <td>...</td>\n",
       "      <td>35.867000</td>\n",
       "      <td>0.000000</td>\n",
       "      <td>0.000000</td>\n",
       "      <td>0.000000</td>\n",
       "      <td>0.000000</td>\n",
       "      <td>0.000000</td>\n",
       "      <td>0.0</td>\n",
       "      <td>0.000000</td>\n",
       "      <td>0.0</td>\n",
       "      <td>1.000000</td>\n",
       "    </tr>\n",
       "    <tr>\n",
       "      <th>50%</th>\n",
       "      <td>2.816493e+06</td>\n",
       "      <td>1.0</td>\n",
       "      <td>6.137435e+03</td>\n",
       "      <td>3.000000</td>\n",
       "      <td>44.000000</td>\n",
       "      <td>-2.137766e+04</td>\n",
       "      <td>2.207687e+04</td>\n",
       "      <td>1.000000</td>\n",
       "      <td>2.000000</td>\n",
       "      <td>1.000000</td>\n",
       "      <td>...</td>\n",
       "      <td>55.531000</td>\n",
       "      <td>0.000000</td>\n",
       "      <td>0.000000</td>\n",
       "      <td>1.000000</td>\n",
       "      <td>0.000000</td>\n",
       "      <td>0.000000</td>\n",
       "      <td>0.0</td>\n",
       "      <td>0.000000</td>\n",
       "      <td>0.0</td>\n",
       "      <td>1.000000</td>\n",
       "    </tr>\n",
       "    <tr>\n",
       "      <th>75%</th>\n",
       "      <td>4.637942e+06</td>\n",
       "      <td>1.0</td>\n",
       "      <td>1.210550e+05</td>\n",
       "      <td>4.000000</td>\n",
       "      <td>55.000000</td>\n",
       "      <td>-9.355940e+03</td>\n",
       "      <td>4.101361e+04</td>\n",
       "      <td>3.000000</td>\n",
       "      <td>3.000000</td>\n",
       "      <td>1.000000</td>\n",
       "      <td>...</td>\n",
       "      <td>70.263500</td>\n",
       "      <td>0.000000</td>\n",
       "      <td>0.000000</td>\n",
       "      <td>1.000000</td>\n",
       "      <td>0.000000</td>\n",
       "      <td>0.000000</td>\n",
       "      <td>0.0</td>\n",
       "      <td>0.000000</td>\n",
       "      <td>0.0</td>\n",
       "      <td>2.000000</td>\n",
       "    </tr>\n",
       "    <tr>\n",
       "      <th>max</th>\n",
       "      <td>9.587798e+06</td>\n",
       "      <td>1.0</td>\n",
       "      <td>2.665068e+07</td>\n",
       "      <td>9.000000</td>\n",
       "      <td>70.000000</td>\n",
       "      <td>1.384993e+04</td>\n",
       "      <td>3.088528e+06</td>\n",
       "      <td>20.000000</td>\n",
       "      <td>16.000000</td>\n",
       "      <td>7.000000</td>\n",
       "      <td>...</td>\n",
       "      <td>296.625000</td>\n",
       "      <td>4.000000</td>\n",
       "      <td>1.000000</td>\n",
       "      <td>1.000000</td>\n",
       "      <td>1.000000</td>\n",
       "      <td>4.000000</td>\n",
       "      <td>0.0</td>\n",
       "      <td>3.000000</td>\n",
       "      <td>0.0</td>\n",
       "      <td>11.000000</td>\n",
       "    </tr>\n",
       "  </tbody>\n",
       "</table>\n",
       "<p>8 rows × 87 columns</p>\n",
       "</div>"
      ],
      "text/plain": [
       "            AktorId  Household_ID  AktivKapital  AntallProdukter  \\\n",
       "count  1.000000e+04        9996.0  1.000000e+04     10000.000000   \n",
       "mean   3.336942e+06           1.0  3.523388e+05         2.781500   \n",
       "std    2.188383e+06           0.0  9.948307e+05         1.828577   \n",
       "min    9.380000e+02           1.0  0.000000e+00         0.000000   \n",
       "25%    1.579875e+06           1.0  0.000000e+00         1.000000   \n",
       "50%    2.816493e+06           1.0  6.137435e+03         3.000000   \n",
       "75%    4.637942e+06           1.0  1.210550e+05         4.000000   \n",
       "max    9.587798e+06           1.0  2.665068e+07         9.000000   \n",
       "\n",
       "              Alder  SumElektroniskeTrans  SumManuelleTrans  AntAktAvtBank  \\\n",
       "count  10000.000000          5.425000e+03      5.425000e+03    9997.000000   \n",
       "mean      43.601700         -3.795796e+04      2.722746e+04       2.017805   \n",
       "std       14.159163          1.388197e+05      2.152788e+05       2.045619   \n",
       "min       18.000000         -6.633298e+06     -7.638000e+06       0.000000   \n",
       "25%       32.000000         -3.962115e+04      9.086000e+03       0.000000   \n",
       "50%       44.000000         -2.137766e+04      2.207687e+04       1.000000   \n",
       "75%       55.000000         -9.355940e+03      4.101361e+04       3.000000   \n",
       "max       70.000000          1.384993e+04      3.088528e+06      20.000000   \n",
       "\n",
       "       AntAktAvtInnskudd  AntAktAvtKredittkort          ...            \\\n",
       "count        9997.000000           9997.000000          ...             \n",
       "mean            2.017405              0.716615          ...             \n",
       "std             1.881891              0.854815          ...             \n",
       "min             0.000000              0.000000          ...             \n",
       "25%             1.000000              0.000000          ...             \n",
       "50%             2.000000              1.000000          ...             \n",
       "75%             3.000000              1.000000          ...             \n",
       "max            16.000000              7.000000          ...             \n",
       "\n",
       "       BK_Belaningsgrad  DNBAntAktBoliglan  ForstehjemskundeInd  HelkundeInd  \\\n",
       "count       1419.000000        2459.000000          2459.000000  2459.000000   \n",
       "mean          53.628195           0.188695             0.014640     0.538430   \n",
       "std           26.426651           0.489285             0.120132     0.498622   \n",
       "min            0.000000           0.000000             0.000000     0.000000   \n",
       "25%           35.867000           0.000000             0.000000     0.000000   \n",
       "50%           55.531000           0.000000             0.000000     1.000000   \n",
       "75%           70.263500           0.000000             0.000000     1.000000   \n",
       "max          296.625000           4.000000             1.000000     1.000000   \n",
       "\n",
       "        TopplanInd  AntAktGaranterte  AntAktGaranterteDebet   AntAktLink  \\\n",
       "count  2459.000000       2012.000000                 2012.0  2012.000000   \n",
       "mean      0.101667          0.228628                    0.0     0.063121   \n",
       "std       0.302272          0.499045                    0.0     0.275814   \n",
       "min       0.000000          0.000000                    0.0     0.000000   \n",
       "25%       0.000000          0.000000                    0.0     0.000000   \n",
       "50%       0.000000          0.000000                    0.0     0.000000   \n",
       "75%       0.000000          0.000000                    0.0     0.000000   \n",
       "max       1.000000          4.000000                    0.0     3.000000   \n",
       "\n",
       "       AntAktLinkDebet  AntAktSpareforsikring  \n",
       "count           2012.0            2012.000000  \n",
       "mean               0.0               1.361332  \n",
       "std                0.0               0.906990  \n",
       "min                0.0               0.000000  \n",
       "25%                0.0               1.000000  \n",
       "50%                0.0               1.000000  \n",
       "75%                0.0               2.000000  \n",
       "max                0.0              11.000000  \n",
       "\n",
       "[8 rows x 87 columns]"
      ]
     },
     "execution_count": 5,
     "metadata": {},
     "output_type": "execute_result"
    }
   ],
   "source": [
    "data = df.get_chunk(10000)\n",
    "data.describe()"
   ]
  },
  {
   "cell_type": "markdown",
   "metadata": {},
   "source": [
    "## 2. Split the data set according to feature type"
   ]
  },
  {
   "cell_type": "markdown",
   "metadata": {},
   "source": [
    "Divide data set in demographic variables and product variables"
   ]
  },
  {
   "cell_type": "code",
   "execution_count": 6,
   "metadata": {
    "collapsed": false
   },
   "outputs": [],
   "source": [
    "data_id = data['AktorId']\n",
    "\n",
    "cols_demo = ['AktorId','Alder','AlderGrp','Household_ID','Fylke','FylkeNr','Kommune','KommuneNr','Postnr','PostSted',\n",
    "         'ErDisponentAnt','ErInnehaverAnt','ErKlientAnt','ErKontoapnerAnt','ErKausjonistAnt','ErRealkausjonistAnt',\n",
    "         'ErSamskyldnerAnt','ErUtleieAnt','ErVergeAnt','HarDisponentAnt','HarInnehaverAnt','HarKlientAnt',\n",
    "         'HarKontoapnerAnt','HarKausjonistAnt','HarRealkausjonistAnt','HarSamskyldnerAnt','HarUtleieAnt','HarVergeAnt',\n",
    "         'SumElektroniskeTrans','SumManuelleTrans','SumBarnasBoligkonto','SumBSUKonto','SumBSU2Konto','SumBrukskonto',\n",
    "         'SumInnskudd','SumSparekonto','SumKredittkortDebet','SumKredittkortKreditt','AktivKapital','TopplanInd',\n",
    "         'BK_Belaningsgrad','Belaning_0_75','Belaning_Over_75','ForstehjemskundeInd','LevetidKundeforholdDg',\n",
    "         'LevetidKundeforholdMnd','HelkundeInd','AntallProdukter']\n",
    "\n",
    "data_demo = data[cols_demo]\n",
    "data_prod = data.drop(cols_demo,axis=1)"
   ]
  },
  {
   "cell_type": "markdown",
   "metadata": {},
   "source": [
    "## 3. Merge similar features"
   ]
  },
  {
   "cell_type": "markdown",
   "metadata": {},
   "source": [
    "Merge variables that are essentially the same"
   ]
  },
  {
   "cell_type": "code",
   "execution_count": 7,
   "metadata": {
    "collapsed": false
   },
   "outputs": [],
   "source": [
    "cols = ['AntAvtBSU','AntBSUKonto','AntBSU2Konto']\n",
    "data_prod['AntAvtBSU'] = data_prod[cols].sum(axis=1)\n",
    "data_prod = data_prod.drop('AntBSUKonto',1)\n",
    "data_prod = data_prod.drop('AntBSU2Konto',1)"
   ]
  },
  {
   "cell_type": "code",
   "execution_count": 8,
   "metadata": {
    "collapsed": true
   },
   "outputs": [],
   "source": [
    "cols = ['AntAktFinBevis','AntAktFinansieringsbevis']\n",
    "data_prod['AntAktFinBevis'] = data_prod[cols].sum(axis=1)\n",
    "data_prod = data_prod.drop('AntAktFinansieringsbevis',1)"
   ]
  },
  {
   "cell_type": "code",
   "execution_count": 9,
   "metadata": {
    "collapsed": false
   },
   "outputs": [],
   "source": [
    "cols = ['AntAktiv_AndreForsikringer','AntAktiv_Reise']\n",
    "data_prod.loc[:,'AntAktiv_AndreForsikringer'] = data_prod.loc[:,cols].sum(axis=1)\n",
    "data_prod = data_prod.drop('AntAktiv_Reise',1)"
   ]
  },
  {
   "cell_type": "markdown",
   "metadata": {},
   "source": [
    "Calculate the number active products of each type"
   ]
  },
  {
   "cell_type": "code",
   "execution_count": 10,
   "metadata": {
    "collapsed": false
   },
   "outputs": [
    {
     "data": {
      "text/plain": [
       "AntAktAvtBank                    7464\n",
       "AntAktAvtInnskudd                7621\n",
       "AntAktAvtKredittkort             5131\n",
       "AntBarnasBoligkonto                 5\n",
       "AntBrukskonto                    6248\n",
       "AntKredittkortDebet              1921\n",
       "AntKredittkortKreditt             342\n",
       "AntSparekonto                    5713\n",
       "AntAktFinBevis                     60\n",
       "AntAktiveSkadefors                771\n",
       "AntAktiv_AndreForsikringer        770\n",
       "AntAktiv_Fritidsbat                 0\n",
       "AntAktiv_Hjem                       0\n",
       "AntAktiv_HundOgKatt                 0\n",
       "AntAktiv_Hytte                      0\n",
       "AntAktiv_Motorsykkel_mm             0\n",
       "AntAktiv_Personbil                  0\n",
       "AntAktiv_Ulykke                     0\n",
       "AntAktiv_Verdisak                   0\n",
       "AntAktiv_Villa                      0\n",
       "AntAktUtlanAvt                   1417\n",
       "AntAvtBSU                         886\n",
       "AntAktBoliglan                   1402\n",
       "AntAktBoliglanFast                  0\n",
       "AntAktForstehjemslan                0\n",
       "AntAktForstehjemslanFast            0\n",
       "AntAktLanFastrentePantBolig         0\n",
       "AntAktLanFastrenteUtleiebolig       0\n",
       "AntAktLanFlytRentePantBolig         0\n",
       "AntAktLanFlytRenteUtleiebolig       0\n",
       "AntAktMellomfinansiering            0\n",
       "AntAktRammelanPantBolig             0\n",
       "AntAktTrapperentelanPantBolig       0\n",
       "DNBAntAktBoliglan                 379\n",
       "AntAktGaranterte                  399\n",
       "AntAktGaranterteDebet               0\n",
       "AntAktLink                        113\n",
       "AntAktLinkDebet                     0\n",
       "AntAktSpareforsikring            1883\n",
       "dtype: int64"
      ]
     },
     "execution_count": 10,
     "metadata": {},
     "output_type": "execute_result"
    }
   ],
   "source": [
    "cols=data_prod.columns\n",
    "np.sum(data_prod[cols]>0)"
   ]
  },
  {
   "cell_type": "markdown",
   "metadata": {},
   "source": [
    "## 4. Binary data transformation"
   ]
  },
  {
   "cell_type": "markdown",
   "metadata": {},
   "source": [
    "Transform product variables from integer to binary variables"
   ]
  },
  {
   "cell_type": "code",
   "execution_count": 11,
   "metadata": {
    "collapsed": true
   },
   "outputs": [],
   "source": [
    "data_prod = (data_prod>0).astype(int)"
   ]
  },
  {
   "cell_type": "markdown",
   "metadata": {},
   "source": [
    "## 5. Select active products"
   ]
  },
  {
   "cell_type": "markdown",
   "metadata": {},
   "source": [
    "Remove inactive products"
   ]
  },
  {
   "cell_type": "code",
   "execution_count": 12,
   "metadata": {
    "collapsed": false
   },
   "outputs": [
    {
     "data": {
      "text/plain": [
       "AntAktAvtBank                 7464\n",
       "AntAktAvtInnskudd             7621\n",
       "AntAktAvtKredittkort          5131\n",
       "AntBarnasBoligkonto              5\n",
       "AntBrukskonto                 6248\n",
       "AntKredittkortDebet           1921\n",
       "AntKredittkortKreditt          342\n",
       "AntSparekonto                 5713\n",
       "AntAktFinBevis                  60\n",
       "AntAktiveSkadefors             771\n",
       "AntAktiv_AndreForsikringer     770\n",
       "AntAktUtlanAvt                1417\n",
       "AntAvtBSU                      886\n",
       "AntAktBoliglan                1402\n",
       "DNBAntAktBoliglan              379\n",
       "AntAktGaranterte               399\n",
       "AntAktLink                     113\n",
       "AntAktSpareforsikring         1883\n",
       "dtype: int64"
      ]
     },
     "execution_count": 12,
     "metadata": {},
     "output_type": "execute_result"
    }
   ],
   "source": [
    "data_prod = data_prod.loc[:,(data_prod!=0).any(axis=0)]\n",
    "cols = data_prod.columns\n",
    "np.sum(data_prod[cols]>0)"
   ]
  },
  {
   "cell_type": "markdown",
   "metadata": {},
   "source": [
    "Remove products with only a few observations "
   ]
  },
  {
   "cell_type": "code",
   "execution_count": 13,
   "metadata": {
    "collapsed": true
   },
   "outputs": [],
   "source": [
    "data_prod = data_prod.drop('AntBarnasBoligkonto',1)"
   ]
  },
  {
   "cell_type": "code",
   "execution_count": 14,
   "metadata": {
    "collapsed": true
   },
   "outputs": [],
   "source": [
    "data_prod = data_prod.drop('AntAktFinBevis',1)"
   ]
  },
  {
   "cell_type": "markdown",
   "metadata": {},
   "source": [
    "List the product variables used"
   ]
  },
  {
   "cell_type": "code",
   "execution_count": 15,
   "metadata": {
    "collapsed": false
   },
   "outputs": [
    {
     "data": {
      "text/plain": [
       "['AntAktAvtBank',\n",
       " 'AntAktAvtInnskudd',\n",
       " 'AntAktAvtKredittkort',\n",
       " 'AntBrukskonto',\n",
       " 'AntKredittkortDebet',\n",
       " 'AntKredittkortKreditt',\n",
       " 'AntSparekonto',\n",
       " 'AntAktiveSkadefors',\n",
       " 'AntAktiv_AndreForsikringer',\n",
       " 'AntAktUtlanAvt',\n",
       " 'AntAvtBSU',\n",
       " 'AntAktBoliglan',\n",
       " 'DNBAntAktBoliglan',\n",
       " 'AntAktGaranterte',\n",
       " 'AntAktLink',\n",
       " 'AntAktSpareforsikring']"
      ]
     },
     "execution_count": 15,
     "metadata": {},
     "output_type": "execute_result"
    }
   ],
   "source": [
    "list(data_prod)"
   ]
  },
  {
   "cell_type": "markdown",
   "metadata": {},
   "source": [
    "## 6. Select active users"
   ]
  },
  {
   "cell_type": "markdown",
   "metadata": {},
   "source": [
    "Remove inactive or new customers"
   ]
  },
  {
   "cell_type": "code",
   "execution_count": 16,
   "metadata": {
    "collapsed": false
   },
   "outputs": [],
   "source": [
    "data_prod = data_prod[~data_prod.apply(lambda row:(row==0).all(),axis=1)]"
   ]
  },
  {
   "cell_type": "markdown",
   "metadata": {},
   "source": [
    "The number of users left in the data set"
   ]
  },
  {
   "cell_type": "code",
   "execution_count": 17,
   "metadata": {
    "collapsed": false
   },
   "outputs": [
    {
     "data": {
      "text/plain": [
       "8758"
      ]
     },
     "execution_count": 17,
     "metadata": {},
     "output_type": "execute_result"
    }
   ],
   "source": [
    "len(data_prod)"
   ]
  },
  {
   "cell_type": "markdown",
   "metadata": {},
   "source": [
    "## 7. Save the preprocessed data"
   ]
  },
  {
   "cell_type": "markdown",
   "metadata": {},
   "source": [
    "Create the preprocessed data set by concatinating demographic and product data"
   ]
  },
  {
   "cell_type": "code",
   "execution_count": 18,
   "metadata": {
    "collapsed": true
   },
   "outputs": [],
   "source": [
    "data_prep = pd.concat([data_demo,data_prod],axis=1,join='inner')"
   ]
  },
  {
   "cell_type": "markdown",
   "metadata": {},
   "source": [
    "List the remaining variables in the preprocessed data set"
   ]
  },
  {
   "cell_type": "code",
   "execution_count": 19,
   "metadata": {
    "collapsed": false
   },
   "outputs": [
    {
     "data": {
      "text/plain": [
       "['AktorId',\n",
       " 'Alder',\n",
       " 'AlderGrp',\n",
       " 'Household_ID',\n",
       " 'Fylke',\n",
       " 'FylkeNr',\n",
       " 'Kommune',\n",
       " 'KommuneNr',\n",
       " 'Postnr',\n",
       " 'PostSted',\n",
       " 'ErDisponentAnt',\n",
       " 'ErInnehaverAnt',\n",
       " 'ErKlientAnt',\n",
       " 'ErKontoapnerAnt',\n",
       " 'ErKausjonistAnt',\n",
       " 'ErRealkausjonistAnt',\n",
       " 'ErSamskyldnerAnt',\n",
       " 'ErUtleieAnt',\n",
       " 'ErVergeAnt',\n",
       " 'HarDisponentAnt',\n",
       " 'HarInnehaverAnt',\n",
       " 'HarKlientAnt',\n",
       " 'HarKontoapnerAnt',\n",
       " 'HarKausjonistAnt',\n",
       " 'HarRealkausjonistAnt',\n",
       " 'HarSamskyldnerAnt',\n",
       " 'HarUtleieAnt',\n",
       " 'HarVergeAnt',\n",
       " 'SumElektroniskeTrans',\n",
       " 'SumManuelleTrans',\n",
       " 'SumBarnasBoligkonto',\n",
       " 'SumBSUKonto',\n",
       " 'SumBSU2Konto',\n",
       " 'SumBrukskonto',\n",
       " 'SumInnskudd',\n",
       " 'SumSparekonto',\n",
       " 'SumKredittkortDebet',\n",
       " 'SumKredittkortKreditt',\n",
       " 'AktivKapital',\n",
       " 'TopplanInd',\n",
       " 'BK_Belaningsgrad',\n",
       " 'Belaning_0_75',\n",
       " 'Belaning_Over_75',\n",
       " 'ForstehjemskundeInd',\n",
       " 'LevetidKundeforholdDg',\n",
       " 'LevetidKundeforholdMnd',\n",
       " 'HelkundeInd',\n",
       " 'AntallProdukter',\n",
       " 'AntAktAvtBank',\n",
       " 'AntAktAvtInnskudd',\n",
       " 'AntAktAvtKredittkort',\n",
       " 'AntBrukskonto',\n",
       " 'AntKredittkortDebet',\n",
       " 'AntKredittkortKreditt',\n",
       " 'AntSparekonto',\n",
       " 'AntAktiveSkadefors',\n",
       " 'AntAktiv_AndreForsikringer',\n",
       " 'AntAktUtlanAvt',\n",
       " 'AntAvtBSU',\n",
       " 'AntAktBoliglan',\n",
       " 'DNBAntAktBoliglan',\n",
       " 'AntAktGaranterte',\n",
       " 'AntAktLink',\n",
       " 'AntAktSpareforsikring']"
      ]
     },
     "execution_count": 19,
     "metadata": {},
     "output_type": "execute_result"
    }
   ],
   "source": [
    "list(data_prep)"
   ]
  },
  {
   "cell_type": "markdown",
   "metadata": {},
   "source": [
    "Save the preprocessed data to csv file"
   ]
  },
  {
   "cell_type": "code",
   "execution_count": 20,
   "metadata": {
    "collapsed": false
   },
   "outputs": [],
   "source": [
    "data_prep.to_csv(r'Data/data_preprocessed.csv')"
   ]
  }
 ],
 "metadata": {
  "anaconda-cloud": {},
  "kernelspec": {
   "display_name": "Python [conda env:py3.2]",
   "language": "python",
   "name": "conda-env-py3.2-py"
  },
  "language_info": {
   "codemirror_mode": {
    "name": "ipython",
    "version": 3
   },
   "file_extension": ".py",
   "mimetype": "text/x-python",
   "name": "python",
   "nbconvert_exporter": "python",
   "pygments_lexer": "ipython3",
   "version": "3.6.0"
  }
 },
 "nbformat": 4,
 "nbformat_minor": 2
}
